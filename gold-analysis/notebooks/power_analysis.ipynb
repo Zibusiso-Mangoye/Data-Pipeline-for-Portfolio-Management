{
 "cells": [
  {
   "cell_type": "code",
   "execution_count": 1,
   "metadata": {},
   "outputs": [],
   "source": [
    "import statsmodels.stats.power as smp"
   ]
  },
  {
   "cell_type": "code",
   "execution_count": 7,
   "metadata": {},
   "outputs": [
    {
     "name": "stdout",
     "output_type": "stream",
     "text": [
      "Required sample size for correlation test: 31\n"
     ]
    }
   ],
   "source": [
    "# parameters\n",
    "effect_size = 0.5  # effect size (medium effect)\n",
    "alpha = 0.05  # significance level (5%)\n",
    "power = 0.80  # power level (80%)\n",
    "\n",
    "# power analysis object for correlation tests\n",
    "power_analysis_object = smp.GofChisquarePower()\n",
    "\n",
    "# The required sample size for a correlation test\n",
    "sample_size = power_analysis_object.solve_power(\n",
    "    effect_size=effect_size,\n",
    "    alpha=alpha,\n",
    "    power=power\n",
    ")\n",
    "\n",
    "print(f\"Required sample size for correlation test: {sample_size:.0f}\")"
   ]
  }
 ],
 "metadata": {
  "kernelspec": {
   "display_name": "Kedro (gold_analysis)",
   "language": "python",
   "name": "kedro_gold_analysis"
  },
  "language_info": {
   "codemirror_mode": {
    "name": "ipython",
    "version": 3
   },
   "file_extension": ".py",
   "mimetype": "text/x-python",
   "name": "python",
   "nbconvert_exporter": "python",
   "pygments_lexer": "ipython3",
   "version": "3.11.4"
  },
  "orig_nbformat": 4
 },
 "nbformat": 4,
 "nbformat_minor": 2
}
