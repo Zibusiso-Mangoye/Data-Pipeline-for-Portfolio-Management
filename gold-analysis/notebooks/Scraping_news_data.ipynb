{
 "cells": [
  {
   "cell_type": "code",
   "execution_count": 1,
   "metadata": {},
   "outputs": [],
   "source": [
    "import requests\n",
    "from bs4 import BeautifulSoup"
   ]
  },
  {
   "cell_type": "code",
   "execution_count": 2,
   "metadata": {},
   "outputs": [],
   "source": [
    "# Base url \n",
    "base_url = \"https://www.reuters.com\""
   ]
  },
  {
   "cell_type": "code",
   "execution_count": 3,
   "metadata": {},
   "outputs": [],
   "source": [
    "# Endpoint to the page containing articles\n",
    "page_endpoint = \"/news/archive/goldMktRpt?page=\"\n",
    "\n",
    "# Here focus is on one page however there are 394 more pages to be considered\n",
    "page_number = 60\n",
    "\n",
    "# Full page url created by combining the base url, endpoint and the page number\n",
    "# Pagination\n",
    "page_url = f\"{base_url}{page_endpoint}{page_number}\"\n",
    "\n",
    "# Send a request to the page url\n",
    "response = requests.get(page_url)\n",
    "if response.status_code != 200:\n",
    "    print(f\"Failed to retrieve page {page_number}\")\n",
    "\n",
    "# Soup object for the page and parsing it\n",
    "page_soup = BeautifulSoup(response.text, 'html.parser')\n",
    "\n",
    "# Saving the contents of the page for offline access and inspection \n",
    "with open(\"news_page.html\", \"w\", encoding = 'utf-8') as file:\n",
    "    ## prettify the soup object and convert it into a string  \n",
    "    file.write(str(page_soup.prettify()))"
   ]
  },
  {
   "cell_type": "code",
   "execution_count": 4,
   "metadata": {},
   "outputs": [
    {
     "name": "stdout",
     "output_type": "stream",
     "text": [
      "https://www.reuters.com/article/global-precious/precious-gold-gains-for-third-week-on-banking-sector-tension-idUSL4N35P00X\n",
      "PRECIOUS-Gold gains for third week on banking sector tension\n",
      "\n",
      "Mar 16 2023\n",
      "\n",
      "https://www.reuters.com/article/global-precious/precious-gold-prices-hold-firm-as-banking-worries-persist-idUSL4N35O3T6\n",
      "PRECIOUS-Gold prices hold firm as banking worries persist\n",
      "\n",
      "Mar 16 2023\n",
      "\n",
      "https://www.reuters.com/article/global-precious/precious-gold-steady-but-off-6-wk-peak-as-credit-suisse-lifeline-lifts-sentiment-idUSL4N35O2BE\n",
      "PRECIOUS-Gold steady but off 6-wk peak as Credit Suisse lifeline lifts sentiment\n",
      "\n",
      "Mar 16 2023\n",
      "\n",
      "https://www.reuters.com/article/global-precious/precious-gold-stalls-as-traders-strap-in-for-more-banking-news-idUSL1N35O03T\n",
      "PRECIOUS-Gold stalls as traders strap in for more banking news\n",
      "\n",
      "Mar 16 2023\n",
      "\n",
      "https://www.reuters.com/article/global-precious/precious-gold-prices-rise-as-global-banking-crisis-spurs-safe-haven-demand-idUSL4N35N52B\n",
      "PRECIOUS-Gold prices rise as global banking crisis spurs safe-haven demand\n",
      "\n",
      "Mar 15 2023\n",
      "\n",
      "https://www.reuters.com/article/global-precious/precious-gold-rallies-over-1-as-credit-suisse-crisis-hits-risk-appetite-idUSL4N35N3GJ\n",
      "PRECIOUS-Gold rallies over 1% as Credit Suisse crisis hits risk appetite\n",
      "\n",
      "Mar 15 2023\n",
      "\n",
      "https://www.reuters.com/article/global-precious/corrected-precious-gold-bounces-back-as-credit-suisse-compounds-banking-woes-idUSL4N35N2CC\n",
      "CORRECTED-PRECIOUS-Gold bounces back as Credit Suisse compounds banking woes\n",
      "\n",
      "Mar 15 2023\n",
      "\n",
      "https://www.reuters.com/article/global-precious/precious-gold-edges-lower-in-tight-range-with-focus-on-feds-rate-moves-idUSL1N35N03Q\n",
      "PRECIOUS-Gold edges lower in tight range with focus on Fed's rate moves\n",
      "\n",
      "Mar 15 2023\n",
      "\n",
      "https://www.reuters.com/article/global-precious/precious-gold-prices-ease-on-firmer-us-dollar-bond-yields-idUSL4N35N01C\n",
      "PRECIOUS-Gold prices ease on firmer US dollar, bond yields\n",
      "\n",
      "Mar 14 2023\n",
      "\n",
      "https://www.reuters.com/article/global-precious/precious-golds-crisis-driven-surge-halted-by-rising-u-s-bond-yields-idUSL4N35M354\n",
      "PRECIOUS-Gold's crisis-driven surge halted by rising U.S. bond yields\n",
      "\n",
      "Mar 14 2023\n",
      "\n",
      "https://www.reuters.com/article/usa-trump-new-york-speak/donald-trump-set-to-speak-from-florida-after-arraignment-idUSKBN2VZ09O\n",
      "Donald Trump set to speak from Florida after arraignment\n"
     ]
    },
    {
     "data": {
      "text/html": [
       "<pre style=\"white-space:pre;overflow-x:auto;line-height:normal;font-family:Menlo,'DejaVu Sans Mono',consolas,'Courier New',monospace\"><span style=\"color: #800000; text-decoration-color: #800000\">╭─────────────────────────────── </span><span style=\"color: #800000; text-decoration-color: #800000; font-weight: bold\">Traceback </span><span style=\"color: #bf7f7f; text-decoration-color: #bf7f7f; font-weight: bold\">(most recent call last)</span><span style=\"color: #800000; text-decoration-color: #800000\"> ────────────────────────────────╮</span>\n",
       "<span style=\"color: #800000; text-decoration-color: #800000\">│</span> in <span style=\"color: #00ff00; text-decoration-color: #00ff00\">&lt;module&gt;</span>:<span style=\"color: #0000ff; text-decoration-color: #0000ff\">7</span>                                                                                    <span style=\"color: #800000; text-decoration-color: #800000\">│</span>\n",
       "<span style=\"color: #800000; text-decoration-color: #800000\">│</span>                                                                                                  <span style=\"color: #800000; text-decoration-color: #800000\">│</span>\n",
       "<span style=\"color: #800000; text-decoration-color: #800000\">│</span>   <span style=\"color: #7f7f7f; text-decoration-color: #7f7f7f\">4 </span><span style=\"color: #0000ff; text-decoration-color: #0000ff\">for</span> article <span style=\"color: #ff00ff; text-decoration-color: #ff00ff\">in</span> articles:                                                                     <span style=\"color: #800000; text-decoration-color: #800000\">│</span>\n",
       "<span style=\"color: #800000; text-decoration-color: #800000\">│</span>   <span style=\"color: #7f7f7f; text-decoration-color: #7f7f7f\">5 </span><span style=\"color: #7f7f7f; text-decoration-color: #7f7f7f\">│   </span><span style=\"color: #00ffff; text-decoration-color: #00ffff\">print</span>(<span style=\"color: #808000; text-decoration-color: #808000\">f\"{</span>base_url<span style=\"color: #808000; text-decoration-color: #808000\">}{</span>article.a.attrs[<span style=\"color: #808000; text-decoration-color: #808000\">'href'</span>]<span style=\"color: #808000; text-decoration-color: #808000\">}\"</span>)                                            <span style=\"color: #800000; text-decoration-color: #800000\">│</span>\n",
       "<span style=\"color: #800000; text-decoration-color: #800000\">│</span>   <span style=\"color: #7f7f7f; text-decoration-color: #7f7f7f\">6 </span><span style=\"color: #7f7f7f; text-decoration-color: #7f7f7f\">│   </span><span style=\"color: #00ffff; text-decoration-color: #00ffff\">print</span>(article.a.text.strip())                                                            <span style=\"color: #800000; text-decoration-color: #800000\">│</span>\n",
       "<span style=\"color: #800000; text-decoration-color: #800000\">│</span> <span style=\"color: #800000; text-decoration-color: #800000\">❱ </span>7 <span style=\"color: #7f7f7f; text-decoration-color: #7f7f7f\">│   </span><span style=\"color: #00ffff; text-decoration-color: #00ffff\">print</span>(article.find(<span style=\"color: #808000; text-decoration-color: #808000\">'time'</span>).text)                                                         <span style=\"color: #800000; text-decoration-color: #800000\">│</span>\n",
       "<span style=\"color: #800000; text-decoration-color: #800000\">│</span>   <span style=\"color: #7f7f7f; text-decoration-color: #7f7f7f\">8 </span>                                                                                             <span style=\"color: #800000; text-decoration-color: #800000\">│</span>\n",
       "<span style=\"color: #800000; text-decoration-color: #800000\">╰──────────────────────────────────────────────────────────────────────────────────────────────────╯</span>\n",
       "<span style=\"color: #ff0000; text-decoration-color: #ff0000; font-weight: bold\">AttributeError: </span><span style=\"color: #008000; text-decoration-color: #008000\">'NoneType'</span> object has no attribute <span style=\"color: #008000; text-decoration-color: #008000\">'text'</span>\n",
       "</pre>\n"
      ],
      "text/plain": [
       "\u001b[31m╭─\u001b[0m\u001b[31m──────────────────────────────\u001b[0m\u001b[31m \u001b[0m\u001b[1;31mTraceback \u001b[0m\u001b[1;2;31m(most recent call last)\u001b[0m\u001b[31m \u001b[0m\u001b[31m───────────────────────────────\u001b[0m\u001b[31m─╮\u001b[0m\n",
       "\u001b[31m│\u001b[0m in \u001b[92m<module>\u001b[0m:\u001b[94m7\u001b[0m                                                                                    \u001b[31m│\u001b[0m\n",
       "\u001b[31m│\u001b[0m                                                                                                  \u001b[31m│\u001b[0m\n",
       "\u001b[31m│\u001b[0m   \u001b[2m4 \u001b[0m\u001b[94mfor\u001b[0m article \u001b[95min\u001b[0m articles:                                                                     \u001b[31m│\u001b[0m\n",
       "\u001b[31m│\u001b[0m   \u001b[2m5 \u001b[0m\u001b[2m│   \u001b[0m\u001b[96mprint\u001b[0m(\u001b[33mf\u001b[0m\u001b[33m\"\u001b[0m\u001b[33m{\u001b[0mbase_url\u001b[33m}\u001b[0m\u001b[33m{\u001b[0marticle.a.attrs[\u001b[33m'\u001b[0m\u001b[33mhref\u001b[0m\u001b[33m'\u001b[0m]\u001b[33m}\u001b[0m\u001b[33m\"\u001b[0m)                                            \u001b[31m│\u001b[0m\n",
       "\u001b[31m│\u001b[0m   \u001b[2m6 \u001b[0m\u001b[2m│   \u001b[0m\u001b[96mprint\u001b[0m(article.a.text.strip())                                                            \u001b[31m│\u001b[0m\n",
       "\u001b[31m│\u001b[0m \u001b[31m❱ \u001b[0m7 \u001b[2m│   \u001b[0m\u001b[96mprint\u001b[0m(article.find(\u001b[33m'\u001b[0m\u001b[33mtime\u001b[0m\u001b[33m'\u001b[0m).text)                                                         \u001b[31m│\u001b[0m\n",
       "\u001b[31m│\u001b[0m   \u001b[2m8 \u001b[0m                                                                                             \u001b[31m│\u001b[0m\n",
       "\u001b[31m╰──────────────────────────────────────────────────────────────────────────────────────────────────╯\u001b[0m\n",
       "\u001b[1;91mAttributeError: \u001b[0m\u001b[32m'NoneType'\u001b[0m object has no attribute \u001b[32m'text'\u001b[0m\n"
      ]
     },
     "metadata": {},
     "output_type": "display_data"
    }
   ],
   "source": [
    "# Data structure to store article infor\n",
    "article_infor = {}\n",
    "articles = page_soup.find_all('div', class_='story-content')\n",
    "for article in articles:\n",
    "    print(f\"{base_url}{article.a.attrs['href']}\")\n",
    "    print(article.a.text.strip())\n",
    "    print(article.find('time').text)"
   ]
  },
  {
   "cell_type": "code",
   "execution_count": 79,
   "metadata": {},
   "outputs": [
    {
     "data": {
      "text/html": [
       "<pre style=\"white-space:pre;overflow-x:auto;line-height:normal;font-family:Menlo,'DejaVu Sans Mono',consolas,'Courier New',monospace\"></pre>\n"
      ],
      "text/plain": []
     },
     "metadata": {},
     "output_type": "display_data"
    },
    {
     "data": {
      "text/plain": [
       "\u001b[32m'https://www.reuters.com/article/global-precious/precious-gold-slips-1-ahead-of-u-s-china-trade-deal-idUSL4N29I246'\u001b[0m"
      ]
     },
     "execution_count": 79,
     "metadata": {},
     "output_type": "execute_result"
    }
   ],
   "source": [
    "# Article link is parsed next\n",
    "article_link = f\"{base_url}{articles[0].a.attrs['href']}\"\n",
    "article_infor[\"link\"] = article_link\n",
    "article_link"
   ]
  },
  {
   "cell_type": "code",
   "execution_count": 80,
   "metadata": {},
   "outputs": [],
   "source": [
    "# Sending http request to article link\n",
    "response = requests.get(article_link)\n",
    "if response.status_code != 200:\n",
    "    print(f\"Failed to retrieve article with link :  {article_link}\")\n",
    "\n",
    "article_soup = BeautifulSoup(response.text, 'html.parser')\n",
    "# open the file in w mode\n",
    "# set encoding to UTF-8\n",
    "with open(\"article_page.html\", \"w\", encoding = 'utf-8') as file:\n",
    "    \n",
    "    # prettify the soup object and convert it into a string  \n",
    "    file.write(str(article_soup.prettify()))"
   ]
  },
  {
   "cell_type": "code",
   "execution_count": 81,
   "metadata": {},
   "outputs": [
    {
     "data": {
      "text/html": [
       "<pre style=\"white-space:pre;overflow-x:auto;line-height:normal;font-family:Menlo,'DejaVu Sans Mono',consolas,'Courier New',monospace\"></pre>\n"
      ],
      "text/plain": []
     },
     "metadata": {},
     "output_type": "display_data"
    },
    {
     "data": {
      "text/plain": [
       "\u001b[1m<\u001b[0m\u001b[1;95mscript\u001b[0m\u001b[39m \u001b[0m\u001b[33mtype\u001b[0m\u001b[39m=\u001b[0m\u001b[32m\"application\u001b[0m\u001b[32m/ld+json\"\u001b[0m\u001b[39m>\u001b[0m\u001b[1;39m{\u001b[0m\u001b[32m\"@context\"\u001b[0m\u001b[39m:\u001b[0m\u001b[32m\"http://schema.org\"\u001b[0m\u001b[39m,\u001b[0m\u001b[32m\"@type\"\u001b[0m\u001b[39m:\u001b[0m\u001b[32m\"NewsArticle\"\u001b[0m\u001b[39m,\u001b[0m\u001b[32m\"mainEntityOfPage\"\u001b[0m\u001b[39m:\u001b[0m\u001b[1;39m{\u001b[0m\u001b[32m\"@type\"\u001b[0m\u001b[39m:\u001b[0m\u001b[32m\"WebPage\"\u001b[0m\u001b[39m,\u001b[0m\u001b[32m\"@id\"\u001b[0m\u001b[39m:\u001b[0m\u001b[32m\"https://www.reuters.com/article/global-precious-idUSL4N29I246\"\u001b[0m\u001b[1;39m}\u001b[0m\u001b[39m,\u001b[0m\u001b[32m\"headline\"\u001b[0m\u001b[39m:\u001b[0m\u001b[32m\"PRECIOUS-Gold slips 1% ahead of U.S.-China trade deal\"\u001b[0m\u001b[39m,\u001b[0m\u001b[32m\"url\"\u001b[0m\u001b[39m:\u001b[0m\u001b[32m\"https://www.reuters.com/article/global-precious-idUSL4N29I246\"\u001b[0m\u001b[39m,\u001b[0m\u001b[32m\"image\"\u001b[0m\u001b[39m:\u001b[0m\u001b[1;39m{\u001b[0m\u001b[32m\"@type\"\u001b[0m\u001b[39m:\u001b[0m\u001b[32m\"ImageObject\"\u001b[0m\u001b[39m,\u001b[0m\u001b[32m\"url\"\u001b[0m\u001b[39m:\u001b[0m\u001b[32m\"https://s1.reutersmedia.net/resources_v2/images/rcom-default.png?\u001b[0m\u001b[32mw\u001b[0m\u001b[32m=\u001b[0m\u001b[32m800\"\u001b[0m\u001b[39m,\u001b[0m\u001b[32m\"width\"\u001b[0m\u001b[39m:\u001b[0m\u001b[32m\"800\"\u001b[0m\u001b[39m,\u001b[0m\u001b[32m\"height\"\u001b[0m\u001b[39m:\u001b[0m\u001b[32m\"800\"\u001b[0m\u001b[1;39m}\u001b[0m\u001b[39m,\u001b[0m\u001b[32m\"thumbnailUrl\"\u001b[0m\u001b[39m:\u001b[0m\u001b[32m\"https://s1.reutersmedia.net/resources_v2/images/rcom-default.png?\u001b[0m\u001b[32mw\u001b[0m\u001b[32m=\u001b[0m\u001b[32m800\"\u001b[0m\u001b[39m,\u001b[0m\u001b[32m\"dateCreated\"\u001b[0m\u001b[39m:\u001b[0m\u001b[32m\"2020-01-13T11:35:26Z\"\u001b[0m\u001b[39m,\u001b[0m\u001b[32m\"dateModified\"\u001b[0m\u001b[39m:\u001b[0m\u001b[32m\"2020-01-13T13:05:08Z\"\u001b[0m\u001b[39m,\u001b[0m\u001b[32m\"datePublished\"\u001b[0m\u001b[39m:\u001b[0m\u001b[32m\"2020-01-13T11:35:26Z\"\u001b[0m\u001b[39m,\u001b[0m\u001b[32m\"author\"\u001b[0m\u001b[39m:\u001b[0m\u001b[1;39m{\u001b[0m\u001b[32m\"@type\"\u001b[0m\u001b[39m:\u001b[0m\u001b[32m\"Person\"\u001b[0m\u001b[39m,\u001b[0m\u001b[32m\"name\"\u001b[0m\u001b[39m:\u001b[0m\u001b[32m\"K. Sathya Narayanan\"\u001b[0m\u001b[1;39m}\u001b[0m\u001b[39m,\u001b[0m\u001b[32m\"publisher\"\u001b[0m\u001b[39m:\u001b[0m\u001b[1;39m{\u001b[0m\u001b[32m\"@type\"\u001b[0m\u001b[39m:\u001b[0m\u001b[32m\"Organization\"\u001b[0m\u001b[39m,\u001b[0m\u001b[32m\"name\"\u001b[0m\u001b[39m:\u001b[0m\u001b[32m\"Reuters\"\u001b[0m\u001b[39m,\u001b[0m\u001b[32m\"logo\"\u001b[0m\u001b[39m:\u001b[0m\u001b[1;39m{\u001b[0m\u001b[32m\"@type\"\u001b[0m\u001b[39m:\u001b[0m\u001b[32m\"ImageObject\"\u001b[0m\u001b[39m,\u001b[0m\u001b[32m\"url\"\u001b[0m\u001b[39m:\u001b[0m\u001b[32m\"https://s3.reutersmedia.net/resources_v2/images/reuters_social_logo.png\"\u001b[0m\u001b[39m,\u001b[0m\u001b[32m\"width\"\u001b[0m\u001b[39m:\u001b[0m\u001b[32m\"200\"\u001b[0m\u001b[39m,\u001b[0m\u001b[32m\"height\"\u001b[0m\u001b[39m:\u001b[0m\u001b[32m\"200\"\u001b[0m\u001b[1;39m}\u001b[0m\u001b[1;39m}\u001b[0m\u001b[39m,\u001b[0m\u001b[32m\"description\"\u001b[0m\u001b[39m:\u001b[0m\u001b[32m\"\u001b[0m\u001b[32m(\u001b[0m\u001b[32mUpdates prices\u001b[0m\u001b[32m)\u001b[0m\u001b[32m * U.S., China due to sign trade deal on Wednesday * SPDR Gold holdings fall to lowest since Sept. 16 on Friday By K. Sathya Narayanan Jan 13 \u001b[0m\u001b[32m(\u001b[0m\u001b[32mReuters\u001b[0m\u001b[32m)\u001b[0m\u001b[32m - Gold prices fell 1% on Monday as optimism in equity markets ahead of the signing of an interim U.S.-China...\"\u001b[0m\u001b[39m,\u001b[0m\u001b[32m\"articleSection\"\u001b[0m\u001b[39m:\u001b[0m\u001b[32m\"Gold Market Report\"\u001b[0m\u001b[39m,\u001b[0m\u001b[32m\"creator\"\u001b[0m\u001b[39m:\u001b[0m\u001b[1;39m[\u001b[0m\u001b[32m\"K. Sathya Narayanan\"\u001b[0m\u001b[1;39m]\u001b[0m\u001b[39m,\u001b[0m\u001b[32m\"keywords\"\u001b[0m\u001b[39m:\u001b[0m\u001b[1;39m[\u001b[0m\u001b[1;39m[\u001b[0m\u001b[32m\"GLOBAL\"\u001b[0m\u001b[39m,\u001b[0m\u001b[32m\"PRECIOUS/ \u001b[0m\u001b[32m(\u001b[0m\u001b[32mUPDATE 5, PIX\u001b[0m\u001b[32m)\u001b[0m\u001b[32m\"\u001b[0m\u001b[39m,\u001b[0m\u001b[32m\"Americas\"\u001b[0m\u001b[39m,\u001b[0m\u001b[32m\"Asia / Pacific\"\u001b[0m\u001b[39m,\u001b[0m\u001b[32m\"Basic Materials \u001b[0m\u001b[32m(\u001b[0m\u001b[32mTRBC level 1\u001b[0m\u001b[32m)\u001b[0m\u001b[32m\"\u001b[0m\u001b[39m,\u001b[0m\u001b[32m\"Commodities Markets\"\u001b[0m\u001b[39m,\u001b[0m\u001b[32m\"Europe\"\u001b[0m\u001b[39m,\u001b[0m\u001b[32m\"United Kingdom\"\u001b[0m\u001b[39m,\u001b[0m\u001b[32m\"Gold\"\u001b[0m\u001b[39m,\u001b[0m\u001b[32m\"Metals Markets\"\u001b[0m\u001b[39m,\u001b[0m\u001b[32m\"Mining\"\u001b[0m\u001b[39m,\u001b[0m\u001b[32m\"Mineral Resources \u001b[0m\u001b[32m(\u001b[0m\u001b[32mTRBC level 2\u001b[0m\u001b[32m)\u001b[0m\u001b[32m\"\u001b[0m\u001b[39m,\u001b[0m\u001b[32m\"Metals & Mining \u001b[0m\u001b[32m(\u001b[0m\u001b[32mTRBC level 3\u001b[0m\u001b[32m)\u001b[0m\u001b[32m\"\u001b[0m\u001b[39m,\u001b[0m\u001b[32m\"North America\"\u001b[0m\u001b[39m,\u001b[0m\u001b[32m\"Palladium\"\u001b[0m\u001b[39m,\u001b[0m\u001b[32m\"Platinum Group Metals\"\u001b[0m\u001b[39m,\u001b[0m\u001b[32m\"Platinum\"\u001b[0m\u001b[39m,\u001b[0m\u001b[32m\"Non-Gold Precious Metals & Minerals \u001b[0m\u001b[32m(\u001b[0m\u001b[32mTRBC level 4\u001b[0m\u001b[32m)\u001b[0m\u001b[32m\"\u001b[0m\u001b[39m,\u001b[0m\u001b[32m\"All Precious Metals and Minerals\"\u001b[0m\u001b[39m,\u001b[0m\u001b[32m\"Precious Metals\"\u001b[0m\u001b[39m,\u001b[0m\u001b[32m\"Picture Available\"\u001b[0m\u001b[39m,\u001b[0m\u001b[32m\"Silver\"\u001b[0m\u001b[39m,\u001b[0m\u001b[32m\"United States\"\u001b[0m\u001b[39m,\u001b[0m\u001b[32m\"Western Europe\"\u001b[0m\u001b[1;39m]\u001b[0m\u001b[1;39m]\u001b[0m\u001b[39m,\u001b[0m\u001b[32m\"about\"\u001b[0m\u001b[39m:\u001b[0m\u001b[32m\"Article\"\u001b[0m\u001b[1;39m}\u001b[0m\u001b[39m<\u001b[0m\u001b[35m/\u001b[0m\u001b[95mscript\u001b[0m\u001b[1m>\u001b[0m"
      ]
     },
     "execution_count": 81,
     "metadata": {},
     "output_type": "execute_result"
    }
   ],
   "source": [
    "# Meta data contains most of the information about an article\n",
    "article_json_meta_data = article_soup.find('script', type=\"application/ld+json\")\n",
    "article_json_meta_data"
   ]
  },
  {
   "cell_type": "code",
   "execution_count": 82,
   "metadata": {},
   "outputs": [
    {
     "data": {
      "text/html": [
       "<pre style=\"white-space:pre;overflow-x:auto;line-height:normal;font-family:Menlo,'DejaVu Sans Mono',consolas,'Courier New',monospace\"></pre>\n"
      ],
      "text/plain": []
     },
     "metadata": {},
     "output_type": "display_data"
    },
    {
     "data": {
      "text/plain": [
       "\u001b[32m'\u001b[0m\u001b[32m{\u001b[0m\u001b[32m\"@context\":\"http://schema.org\",\"@type\":\"NewsArticle\",\"mainEntityOfPage\":\u001b[0m\u001b[32m{\u001b[0m\u001b[32m\"@type\":\"WebPage\",\"@id\":\"https://www.reuters.com/article/global-precious-idUSL4N29I246\"\u001b[0m\u001b[32m}\u001b[0m\u001b[32m,\"headline\":\"PRECIOUS-Gold slips 1% ahead of U.S.-China trade deal\",\"url\":\"https://www.reuters.com/article/global-precious-idUSL4N29I246\",\"image\":\u001b[0m\u001b[32m{\u001b[0m\u001b[32m\"@type\":\"ImageObject\",\"url\":\"https://s1.reutersmedia.net/resources_v2/images/rcom-default.png?\u001b[0m\u001b[32mw\u001b[0m\u001b[32m=\u001b[0m\u001b[32m800\"\u001b[0m\u001b[32m,\"width\":\"800\",\"height\":\"800\"\u001b[0m\u001b[32m}\u001b[0m\u001b[32m,\"thumbnailUrl\":\"https://s1.reutersmedia.net/resources_v2/images/rcom-default.png?\u001b[0m\u001b[32mw\u001b[0m\u001b[32m=\u001b[0m\u001b[32m800\"\u001b[0m\u001b[32m,\"dateCreated\":\"2020-01-13T11:35:26Z\",\"dateModified\":\"2020-01-13T13:05:08Z\",\"datePublished\":\"2020-01-13T11:35:26Z\",\"author\":\u001b[0m\u001b[32m{\u001b[0m\u001b[32m\"@type\":\"Person\",\"name\":\"K. Sathya Narayanan\"\u001b[0m\u001b[32m}\u001b[0m\u001b[32m,\"publisher\":\u001b[0m\u001b[32m{\u001b[0m\u001b[32m\"@type\":\"Organization\",\"name\":\"Reuters\",\"logo\":\u001b[0m\u001b[32m{\u001b[0m\u001b[32m\"@type\":\"ImageObject\",\"url\":\"https://s3.reutersmedia.net/resources_v2/images/reuters_social_logo.png\",\"width\":\"200\",\"height\":\"200\"\u001b[0m\u001b[32m}\u001b[0m\u001b[32m}\u001b[0m\u001b[32m,\"description\":\"\u001b[0m\u001b[32m(\u001b[0m\u001b[32mUpdates prices\u001b[0m\u001b[32m)\u001b[0m\u001b[32m * U.S., China due to sign trade deal on Wednesday * SPDR Gold holdings fall to lowest since Sept. 16 on Friday By K. Sathya Narayanan Jan 13 \u001b[0m\u001b[32m(\u001b[0m\u001b[32mReuters\u001b[0m\u001b[32m)\u001b[0m\u001b[32m - Gold prices fell 1% on Monday as optimism in equity markets ahead of the signing of an interim U.S.-China...\",\"articleSection\":\"Gold Market Report\",\"creator\":\u001b[0m\u001b[32m[\u001b[0m\u001b[32m\"K. Sathya Narayanan\"\u001b[0m\u001b[32m]\u001b[0m\u001b[32m,\"keywords\":\u001b[0m\u001b[32m[\u001b[0m\u001b[32m[\u001b[0m\u001b[32m\"GLOBAL\",\"PRECIOUS/ \u001b[0m\u001b[32m(\u001b[0m\u001b[32mUPDATE 5, PIX\u001b[0m\u001b[32m)\u001b[0m\u001b[32m\",\"Americas\",\"Asia / Pacific\",\"Basic Materials \u001b[0m\u001b[32m(\u001b[0m\u001b[32mTRBC level 1\u001b[0m\u001b[32m)\u001b[0m\u001b[32m\",\"Commodities Markets\",\"Europe\",\"United Kingdom\",\"Gold\",\"Metals Markets\",\"Mining\",\"Mineral Resources \u001b[0m\u001b[32m(\u001b[0m\u001b[32mTRBC level 2\u001b[0m\u001b[32m)\u001b[0m\u001b[32m\",\"Metals & Mining \u001b[0m\u001b[32m(\u001b[0m\u001b[32mTRBC level 3\u001b[0m\u001b[32m)\u001b[0m\u001b[32m\",\"North America\",\"Palladium\",\"Platinum Group Metals\",\"Platinum\",\"Non-Gold Precious Metals & Minerals \u001b[0m\u001b[32m(\u001b[0m\u001b[32mTRBC level 4\u001b[0m\u001b[32m)\u001b[0m\u001b[32m\",\"All Precious Metals and Minerals\",\"Precious Metals\",\"Picture Available\",\"Silver\",\"United States\",\"Western Europe\"\u001b[0m\u001b[32m]\u001b[0m\u001b[32m]\u001b[0m\u001b[32m,\"about\":\"Article\"\u001b[0m\u001b[32m}\u001b[0m\u001b[32m'\u001b[0m"
      ]
     },
     "execution_count": 82,
     "metadata": {},
     "output_type": "execute_result"
    }
   ],
   "source": [
    "# content contains a string representation of a json on=bject containing all infor needed\n",
    "article_json_meta_data.contents[0]"
   ]
  },
  {
   "cell_type": "code",
   "execution_count": 83,
   "metadata": {},
   "outputs": [
    {
     "data": {
      "text/html": [
       "<pre style=\"white-space:pre;overflow-x:auto;line-height:normal;font-family:Menlo,'DejaVu Sans Mono',consolas,'Courier New',monospace\"></pre>\n"
      ],
      "text/plain": []
     },
     "metadata": {},
     "output_type": "display_data"
    },
    {
     "data": {
      "text/plain": [
       "\n",
       "\u001b[1m{\u001b[0m\n",
       "    \u001b[32m'@context'\u001b[0m: \u001b[32m'http://schema.org'\u001b[0m,\n",
       "    \u001b[32m'@type'\u001b[0m: \u001b[32m'NewsArticle'\u001b[0m,\n",
       "    \u001b[32m'mainEntityOfPage'\u001b[0m: \u001b[1m{\u001b[0m\n",
       "        \u001b[32m'@type'\u001b[0m: \u001b[32m'WebPage'\u001b[0m,\n",
       "        \u001b[32m'@id'\u001b[0m: \u001b[32m'https://www.reuters.com/article/global-precious-idUSL4N29I246'\u001b[0m\n",
       "    \u001b[1m}\u001b[0m,\n",
       "    \u001b[32m'headline'\u001b[0m: \u001b[32m'PRECIOUS-Gold slips 1% ahead of U.S.-China trade deal'\u001b[0m,\n",
       "    \u001b[32m'url'\u001b[0m: \u001b[32m'https://www.reuters.com/article/global-precious-idUSL4N29I246'\u001b[0m,\n",
       "    \u001b[32m'image'\u001b[0m: \u001b[1m{\u001b[0m\n",
       "        \u001b[32m'@type'\u001b[0m: \u001b[32m'ImageObject'\u001b[0m,\n",
       "        \u001b[32m'url'\u001b[0m: \u001b[32m'https://s1.reutersmedia.net/resources_v2/images/rcom-default.png?\u001b[0m\u001b[32mw\u001b[0m\u001b[32m=\u001b[0m\u001b[32m800\u001b[0m\u001b[32m'\u001b[0m,\n",
       "        \u001b[32m'width'\u001b[0m: \u001b[32m'800'\u001b[0m,\n",
       "        \u001b[32m'height'\u001b[0m: \u001b[32m'800'\u001b[0m\n",
       "    \u001b[1m}\u001b[0m,\n",
       "    \u001b[32m'thumbnailUrl'\u001b[0m: \u001b[32m'https://s1.reutersmedia.net/resources_v2/images/rcom-default.png?\u001b[0m\u001b[32mw\u001b[0m\u001b[32m=\u001b[0m\u001b[32m800\u001b[0m\u001b[32m'\u001b[0m,\n",
       "    \u001b[32m'dateCreated'\u001b[0m: \u001b[32m'2020-01-13T11:35:26Z'\u001b[0m,\n",
       "    \u001b[32m'dateModified'\u001b[0m: \u001b[32m'2020-01-13T13:05:08Z'\u001b[0m,\n",
       "    \u001b[32m'datePublished'\u001b[0m: \u001b[32m'2020-01-13T11:35:26Z'\u001b[0m,\n",
       "    \u001b[32m'author'\u001b[0m: \u001b[1m{\u001b[0m\u001b[32m'@type'\u001b[0m: \u001b[32m'Person'\u001b[0m, \u001b[32m'name'\u001b[0m: \u001b[32m'K. Sathya Narayanan'\u001b[0m\u001b[1m}\u001b[0m,\n",
       "    \u001b[32m'publisher'\u001b[0m: \u001b[1m{\u001b[0m\n",
       "        \u001b[32m'@type'\u001b[0m: \u001b[32m'Organization'\u001b[0m,\n",
       "        \u001b[32m'name'\u001b[0m: \u001b[32m'Reuters'\u001b[0m,\n",
       "        \u001b[32m'logo'\u001b[0m: \u001b[1m{\u001b[0m\n",
       "            \u001b[32m'@type'\u001b[0m: \u001b[32m'ImageObject'\u001b[0m,\n",
       "            \u001b[32m'url'\u001b[0m: \u001b[32m'https://s3.reutersmedia.net/resources_v2/images/reuters_social_logo.png'\u001b[0m,\n",
       "            \u001b[32m'width'\u001b[0m: \u001b[32m'200'\u001b[0m,\n",
       "            \u001b[32m'height'\u001b[0m: \u001b[32m'200'\u001b[0m\n",
       "        \u001b[1m}\u001b[0m\n",
       "    \u001b[1m}\u001b[0m,\n",
       "    \u001b[32m'description'\u001b[0m: \u001b[32m'\u001b[0m\u001b[32m(\u001b[0m\u001b[32mUpdates prices\u001b[0m\u001b[32m)\u001b[0m\u001b[32m * U.S., China due to sign trade deal on Wednesday * SPDR Gold holdings fall to lowest since Sept. 16 on Friday By K. Sathya Narayanan Jan 13 \u001b[0m\u001b[32m(\u001b[0m\u001b[32mReuters\u001b[0m\u001b[32m)\u001b[0m\u001b[32m - Gold prices fell 1% on Monday as optimism in equity markets ahead of the signing of an interim U.S.-China...'\u001b[0m,\n",
       "    \u001b[32m'articleSection'\u001b[0m: \u001b[32m'Gold Market Report'\u001b[0m,\n",
       "    \u001b[32m'creator'\u001b[0m: \u001b[1m[\u001b[0m\u001b[32m'K. Sathya Narayanan'\u001b[0m\u001b[1m]\u001b[0m,\n",
       "    \u001b[32m'keywords'\u001b[0m: \u001b[1m[\u001b[0m\n",
       "        \u001b[1m[\u001b[0m\n",
       "            \u001b[32m'GLOBAL'\u001b[0m,\n",
       "            \u001b[32m'PRECIOUS/ \u001b[0m\u001b[32m(\u001b[0m\u001b[32mUPDATE 5, PIX\u001b[0m\u001b[32m)\u001b[0m\u001b[32m'\u001b[0m,\n",
       "            \u001b[32m'Americas'\u001b[0m,\n",
       "            \u001b[32m'Asia / Pacific'\u001b[0m,\n",
       "            \u001b[32m'Basic Materials \u001b[0m\u001b[32m(\u001b[0m\u001b[32mTRBC level 1\u001b[0m\u001b[32m)\u001b[0m\u001b[32m'\u001b[0m,\n",
       "            \u001b[32m'Commodities Markets'\u001b[0m,\n",
       "            \u001b[32m'Europe'\u001b[0m,\n",
       "            \u001b[32m'United Kingdom'\u001b[0m,\n",
       "            \u001b[32m'Gold'\u001b[0m,\n",
       "            \u001b[32m'Metals Markets'\u001b[0m,\n",
       "            \u001b[32m'Mining'\u001b[0m,\n",
       "            \u001b[32m'Mineral Resources \u001b[0m\u001b[32m(\u001b[0m\u001b[32mTRBC level 2\u001b[0m\u001b[32m)\u001b[0m\u001b[32m'\u001b[0m,\n",
       "            \u001b[32m'Metals & Mining \u001b[0m\u001b[32m(\u001b[0m\u001b[32mTRBC level 3\u001b[0m\u001b[32m)\u001b[0m\u001b[32m'\u001b[0m,\n",
       "            \u001b[32m'North America'\u001b[0m,\n",
       "            \u001b[32m'Palladium'\u001b[0m,\n",
       "            \u001b[32m'Platinum Group Metals'\u001b[0m,\n",
       "            \u001b[32m'Platinum'\u001b[0m,\n",
       "            \u001b[32m'Non-Gold Precious Metals & Minerals \u001b[0m\u001b[32m(\u001b[0m\u001b[32mTRBC level 4\u001b[0m\u001b[32m)\u001b[0m\u001b[32m'\u001b[0m,\n",
       "            \u001b[32m'All Precious Metals and Minerals'\u001b[0m,\n",
       "            \u001b[32m'Precious Metals'\u001b[0m,\n",
       "            \u001b[32m'Picture Available'\u001b[0m,\n",
       "            \u001b[32m'Silver'\u001b[0m,\n",
       "            \u001b[32m'United States'\u001b[0m,\n",
       "            \u001b[32m'Western Europe'\u001b[0m\n",
       "        \u001b[1m]\u001b[0m\n",
       "    \u001b[1m]\u001b[0m,\n",
       "    \u001b[32m'about'\u001b[0m: \u001b[32m'Article'\u001b[0m\n",
       "\u001b[1m}\u001b[0m"
      ]
     },
     "execution_count": 83,
     "metadata": {},
     "output_type": "execute_result"
    }
   ],
   "source": [
    "# Converting string to json object for easy extraction of data\n",
    "import json\n",
    "\n",
    "json_data = json.loads(article_json_meta_data.contents[0])\n",
    "json_data"
   ]
  },
  {
   "cell_type": "code",
   "execution_count": 84,
   "metadata": {},
   "outputs": [
    {
     "name": "stdout",
     "output_type": "stream",
     "text": [
      "PRECIOUS-Gold slips 1% ahead of U.S.-China trade deal\n",
      "2020-01-13T11:35:26Z\n",
      "K. Sathya Narayanan\n",
      "Person\n",
      "Reuters\n",
      "Organization\n"
     ]
    }
   ],
   "source": [
    "# Article infor to be acquired:\n",
    "#       date\n",
    "#       time\n",
    "#       link *\n",
    "#       author\n",
    "#       type_of_author\n",
    "#       publisher\n",
    "#       type_of_publisher\n",
    "#       headline *\n",
    "#       full_text\n",
    "\n",
    "\n",
    "print(json_data['headline']) # Article headline\n",
    "print(json_data['datePublished']) # publish date and time of article, this is in Zulu time so conversion to CAT needed\n",
    "print(json_data['author']['name']) # Name of author'name'\n",
    "print(json_data['author']['@type']) # Type of author\n",
    "print(json_data['publisher']['name']) # Name of publisher\n",
    "print(json_data['publisher']['@type']) # Type of publisher"
   ]
  },
  {
   "cell_type": "code",
   "execution_count": 85,
   "metadata": {},
   "outputs": [
    {
     "data": {
      "text/html": [
       "<pre style=\"white-space:pre;overflow-x:auto;line-height:normal;font-family:Menlo,'DejaVu Sans Mono',consolas,'Courier New',monospace\"></pre>\n"
      ],
      "text/plain": []
     },
     "metadata": {},
     "output_type": "display_data"
    },
    {
     "data": {
      "text/plain": [
       "\n",
       "\u001b[1m{\u001b[0m\n",
       "    \u001b[32m'link'\u001b[0m: \u001b[32m'https://www.reuters.com/article/global-precious/precious-gold-slips-1-ahead-of-u-s-china-trade-deal-idUSL4N29I246'\u001b[0m,\n",
       "    \u001b[32m'headline'\u001b[0m: \u001b[32m'PRECIOUS-Gold slips 1% ahead of U.S.-China trade deal'\u001b[0m,\n",
       "    \u001b[32m'datePublished'\u001b[0m: \u001b[32m'2020-01-13T11:35:26Z'\u001b[0m,\n",
       "    \u001b[32m'author'\u001b[0m: \u001b[32m'K. Sathya Narayanan'\u001b[0m,\n",
       "    \u001b[32m'type_of_author'\u001b[0m: \u001b[32m'Person'\u001b[0m,\n",
       "    \u001b[32m'publisher'\u001b[0m: \u001b[32m'Reuters'\u001b[0m,\n",
       "    \u001b[32m'type_of_publisher'\u001b[0m: \u001b[32m'Organization'\u001b[0m\n",
       "\u001b[1m}\u001b[0m"
      ]
     },
     "execution_count": 85,
     "metadata": {},
     "output_type": "execute_result"
    }
   ],
   "source": [
    "# Adding data into article infor dict\n",
    "article_infor['headline'] = json_data['headline']\n",
    "article_infor['datePublished'] = json_data['datePublished']\n",
    "article_infor['author'] = json_data['author']['name']\n",
    "article_infor['type_of_author'] = json_data['author']['@type']\n",
    "article_infor['publisher'] = json_data['publisher']['name']\n",
    "article_infor['type_of_publisher'] = json_data['publisher']['@type']\n",
    "\n",
    "article_infor"
   ]
  },
  {
   "cell_type": "code",
   "execution_count": 1,
   "metadata": {},
   "outputs": [
    {
     "data": {
      "text/html": [
       "<pre style=\"white-space:pre;overflow-x:auto;line-height:normal;font-family:Menlo,'DejaVu Sans Mono',consolas,'Courier New',monospace\"><span style=\"color: #800000; text-decoration-color: #800000\">╭─────────────────────────────── </span><span style=\"color: #800000; text-decoration-color: #800000; font-weight: bold\">Traceback </span><span style=\"color: #bf7f7f; text-decoration-color: #bf7f7f; font-weight: bold\">(most recent call last)</span><span style=\"color: #800000; text-decoration-color: #800000\"> ────────────────────────────────╮</span>\n",
       "<span style=\"color: #800000; text-decoration-color: #800000\">│</span> in <span style=\"color: #00ff00; text-decoration-color: #00ff00\">&lt;module&gt;</span>:<span style=\"color: #0000ff; text-decoration-color: #0000ff\">3</span>                                                                                    <span style=\"color: #800000; text-decoration-color: #800000\">│</span>\n",
       "<span style=\"color: #800000; text-decoration-color: #800000\">│</span>                                                                                                  <span style=\"color: #800000; text-decoration-color: #800000\">│</span>\n",
       "<span style=\"color: #800000; text-decoration-color: #800000\">│</span>   <span style=\"color: #7f7f7f; text-decoration-color: #7f7f7f\"> 1 # Full article text is located in the only pre in the page but not on all pages</span>             <span style=\"color: #800000; text-decoration-color: #800000\">│</span>\n",
       "<span style=\"color: #800000; text-decoration-color: #800000\">│</span>   <span style=\"color: #7f7f7f; text-decoration-color: #7f7f7f\"> 2 # Check if there is a &lt;pre&gt; tag containing the article text</span>                                 <span style=\"color: #800000; text-decoration-color: #800000\">│</span>\n",
       "<span style=\"color: #800000; text-decoration-color: #800000\">│</span> <span style=\"color: #800000; text-decoration-color: #800000\">❱ </span> 3 article_pre_tag = article_soup.find(<span style=\"color: #808000; text-decoration-color: #808000\">'pre'</span>)                                                  <span style=\"color: #800000; text-decoration-color: #800000\">│</span>\n",
       "<span style=\"color: #800000; text-decoration-color: #800000\">│</span>   <span style=\"color: #7f7f7f; text-decoration-color: #7f7f7f\"> 4 </span>                                                                                            <span style=\"color: #800000; text-decoration-color: #800000\">│</span>\n",
       "<span style=\"color: #800000; text-decoration-color: #800000\">│</span>   <span style=\"color: #7f7f7f; text-decoration-color: #7f7f7f\"> 5 </span><span style=\"color: #0000ff; text-decoration-color: #0000ff\">if</span> article_pre_tag:                                                                         <span style=\"color: #800000; text-decoration-color: #800000\">│</span>\n",
       "<span style=\"color: #800000; text-decoration-color: #800000\">│</span>   <span style=\"color: #7f7f7f; text-decoration-color: #7f7f7f\"> 6 </span><span style=\"color: #7f7f7f; text-decoration-color: #7f7f7f\">│   </span><span style=\"color: #7f7f7f; text-decoration-color: #7f7f7f\"># If a &lt;pre&gt; tag is found, process the article as originally posted</span>                     <span style=\"color: #800000; text-decoration-color: #800000\">│</span>\n",
       "<span style=\"color: #800000; text-decoration-color: #800000\">╰──────────────────────────────────────────────────────────────────────────────────────────────────╯</span>\n",
       "<span style=\"color: #ff0000; text-decoration-color: #ff0000; font-weight: bold\">NameError: </span>name <span style=\"color: #008000; text-decoration-color: #008000\">'article_soup'</span> is not defined\n",
       "</pre>\n"
      ],
      "text/plain": [
       "\u001b[31m╭─\u001b[0m\u001b[31m──────────────────────────────\u001b[0m\u001b[31m \u001b[0m\u001b[1;31mTraceback \u001b[0m\u001b[1;2;31m(most recent call last)\u001b[0m\u001b[31m \u001b[0m\u001b[31m───────────────────────────────\u001b[0m\u001b[31m─╮\u001b[0m\n",
       "\u001b[31m│\u001b[0m in \u001b[92m<module>\u001b[0m:\u001b[94m3\u001b[0m                                                                                    \u001b[31m│\u001b[0m\n",
       "\u001b[31m│\u001b[0m                                                                                                  \u001b[31m│\u001b[0m\n",
       "\u001b[31m│\u001b[0m   \u001b[2m 1 \u001b[0m\u001b[2m# Full article text is located in the only pre in the page but not on all pages\u001b[0m             \u001b[31m│\u001b[0m\n",
       "\u001b[31m│\u001b[0m   \u001b[2m 2 \u001b[0m\u001b[2m# Check if there is a <pre> tag containing the article text\u001b[0m                                 \u001b[31m│\u001b[0m\n",
       "\u001b[31m│\u001b[0m \u001b[31m❱ \u001b[0m 3 article_pre_tag = article_soup.find(\u001b[33m'\u001b[0m\u001b[33mpre\u001b[0m\u001b[33m'\u001b[0m)                                                  \u001b[31m│\u001b[0m\n",
       "\u001b[31m│\u001b[0m   \u001b[2m 4 \u001b[0m                                                                                            \u001b[31m│\u001b[0m\n",
       "\u001b[31m│\u001b[0m   \u001b[2m 5 \u001b[0m\u001b[94mif\u001b[0m article_pre_tag:                                                                         \u001b[31m│\u001b[0m\n",
       "\u001b[31m│\u001b[0m   \u001b[2m 6 \u001b[0m\u001b[2m│   \u001b[0m\u001b[2m# If a <pre> tag is found, process the article as originally posted\u001b[0m                     \u001b[31m│\u001b[0m\n",
       "\u001b[31m╰──────────────────────────────────────────────────────────────────────────────────────────────────╯\u001b[0m\n",
       "\u001b[1;91mNameError: \u001b[0mname \u001b[32m'article_soup'\u001b[0m is not defined\n"
      ]
     },
     "metadata": {},
     "output_type": "display_data"
    }
   ],
   "source": [
    "# Full article text is located in the only pre in the page but not on all pages\n",
    "# Some of the pages the article is contained between multiple p tags \n",
    "# Check if there is a <pre> tag containing the article text\n",
    "article_pre_tag = article_soup.find('pre')\n",
    "\n",
    "if article_pre_tag:\n",
    "    # If a <pre> tag is found, process the article as originally posted\n",
    "    article_text = article_pre_tag.text\n",
    "    article_text = article_text.replace('\\n', '').strip()\n",
    "else:\n",
    "    # If there is no <pre> tag, process the article using paragraphs\n",
    "    article_body_wrapper = article_soup.find('div', class_='ArticleBodyWrapper')\n",
    "    \n",
    "    # Find all <p> tags within the ArticleBodyWrapper\n",
    "    article_text_paragraphs = article_body_wrapper.find_all('p', class_='Paragraph-paragraph-2Bgue ArticleBody-para-TD_9x')\n",
    "    \n",
    "    # Initialize an empty list to store paragraphs of the article\n",
    "    article_paragraphs = []\n",
    "\n",
    "    # Iterate through the <p> tags and extract text\n",
    "    for paragraph in article_text_paragraphs:\n",
    "        paragraph_text = paragraph.get_text(strip=True)  # Get the text and remove leading/trailing whitespace\n",
    "        article_paragraphs.append(paragraph_text)\n",
    "\n",
    "    # Concatenate the paragraphs to form the full article text\n",
    "    article_text = ' '.join(article_paragraphs)\n",
    "    article_text = article_text.strip()"
   ]
  },
  {
   "cell_type": "code",
   "execution_count": 88,
   "metadata": {},
   "outputs": [],
   "source": [
    "# Adding article text to article_info\n",
    "article_info['full_text'] = article_text"
   ]
  },
  {
   "cell_type": "code",
   "execution_count": 89,
   "metadata": {},
   "outputs": [
    {
     "data": {
      "text/html": [
       "<pre style=\"white-space:pre;overflow-x:auto;line-height:normal;font-family:Menlo,'DejaVu Sans Mono',consolas,'Courier New',monospace\"></pre>\n"
      ],
      "text/plain": []
     },
     "metadata": {},
     "output_type": "display_data"
    },
    {
     "data": {
      "text/plain": [
       "\n",
       "\u001b[1m{\u001b[0m\n",
       "    \u001b[32m'link'\u001b[0m: \u001b[32m'https://www.reuters.com/article/global-precious/precious-gold-slips-1-ahead-of-u-s-china-trade-deal-idUSL4N29I246'\u001b[0m,\n",
       "    \u001b[32m'headline'\u001b[0m: \u001b[32m'PRECIOUS-Gold slips 1% ahead of U.S.-China trade deal'\u001b[0m,\n",
       "    \u001b[32m'datePublished'\u001b[0m: \u001b[32m'2020-01-13T11:35:26Z'\u001b[0m,\n",
       "    \u001b[32m'author'\u001b[0m: \u001b[32m'K. Sathya Narayanan'\u001b[0m,\n",
       "    \u001b[32m'type_of_author'\u001b[0m: \u001b[32m'Person'\u001b[0m,\n",
       "    \u001b[32m'publisher'\u001b[0m: \u001b[32m'Reuters'\u001b[0m,\n",
       "    \u001b[32m'type_of_publisher'\u001b[0m: \u001b[32m'Organization'\u001b[0m,\n",
       "    \u001b[32m'full_text'\u001b[0m: \u001b[32m'\u001b[0m\u001b[32m(\u001b[0m\u001b[32mUpdates prices\u001b[0m\u001b[32m)\u001b[0m\u001b[32m    * U.S., China due to sign trade deal on Wednesday    * SPDR Gold holdings fall to lowest since Sept. 16 on Friday    By K. Sathya Narayanan    Jan 13 \u001b[0m\u001b[32m(\u001b[0m\u001b[32mReuters\u001b[0m\u001b[32m)\u001b[0m\u001b[32m - Gold prices fell 1% on Monday as optimismin equity markets ahead of the signing of an interim U.S.-Chinatrade deal and lack of further escalation in Middle Easttensions diminished bullion\\'s safe-haven appeal.    The U.S.-China Phase 1 agreement is due to be signed at theWhite House on Wednesday.                 Spot gold        dipped 0.5% to $1,553.60 per ounce as of1246 GMT, having fallen 1% to $1,546.27 earlier in the session.    U.S. gold futures         fell 0.4% to $1,554.50.    \"We are struggling \u001b[0m\u001b[32m(\u001b[0m\u001b[32ma\u001b[0m\u001b[32m)\u001b[0m\u001b[32m little bit with the details. It\\'ll bequite interesting to see if there is any concrete guidance inthe details of the phase-one deal,\" said Julius Baer analystCarsten Menke.    \"Also, the news that the Chinese and the U.S. would meet onsemi-annual basis to discuss trade, I imagine was somethingwhich wasn\\'t expected by the market, and could be weighing ongold.\"    A Wall Street Journal report said on Saturday Washington andBeijing had agreed to semi-annual talks aimed at pushing forreforms in both countries and resolving disputes.                 The positive sentiment ahead of the planned signing boostedglobal equities, which were hovering just below record levels,while the U.S. dollar gained against key rivals.                      Stronger appetite for riskier assets weighs ongreenback-denominated gold.    Bullion rose to a near 7-year peak of $1,610.90 last weekafter a U.S. drone strike killed a top Iranian commander inBaghdad and Iran launched missiles against U.S. bases in Iraq inretaliation.    The rally, however, faded with a lack of further militaryescalation in the region.                             The United States imposed more sanctions on Iran on Fridayand vowed to tighten the economic screws if Tehran continued\"terrorist\" acts or pursued a nuclear bomb.                  \"The tensions between U.S. and Iran seems to have calmeddown a little bit, at least for the time being, and people arejust taking profits on that,\" said Afshin Nabavi, senior vicepresident at precious metals trader MKS SA.    Reflecting investor sentiment, holdings of the world\\'slargest gold-backed exchange-traded fund, SPDR Gold Trust      ,fell 0.9% to 874.52 tonnes on Friday, their lowest since Sept.16.              On the technical front, gold is testing the support level of$1,550 and a fall below that would be a negative signal, openingspace for further declines, Carlo Alberto De Casa, Chief analystat ActivTrades said in a note.    Elsewhere, palladium        rose 1.2% to $2,142.52 an ounce.Silver        was down 0.5% at $18, while platinum        fell0.5% to $973.32. \u001b[0m\u001b[32m(\u001b[0m\u001b[32mReporting by K. Sathya Narayanan in Bengaluru; editing byEmelia Sithole-Matarise and Louise Heavens\u001b[0m\u001b[32m)\u001b[0m\u001b[32m'\u001b[0m\n",
       "\u001b[1m}\u001b[0m"
      ]
     },
     "execution_count": 89,
     "metadata": {},
     "output_type": "execute_result"
    }
   ],
   "source": [
    "article_infor"
   ]
  },
  {
   "cell_type": "code",
   "execution_count": 90,
   "metadata": {},
   "outputs": [],
   "source": [
    "# Converting the date to utc from zulu time\n",
    "import pandas as pd\n",
    "utc_dt = article_infor['datePublished'].replace(\"Z\",\"UTC\")\n",
    "dt_obj = pd.to_datetime(utc_dt)\n",
    "date = dt_obj.date()\n",
    "time = dt_obj.time()\n",
    "article_infor['date'] = str(date)\n",
    "article_infor['time'] = str(time)"
   ]
  },
  {
   "cell_type": "code",
   "execution_count": 91,
   "metadata": {},
   "outputs": [
    {
     "data": {
      "text/html": [
       "<pre style=\"white-space:pre;overflow-x:auto;line-height:normal;font-family:Menlo,'DejaVu Sans Mono',consolas,'Courier New',monospace\"></pre>\n"
      ],
      "text/plain": []
     },
     "metadata": {},
     "output_type": "display_data"
    },
    {
     "data": {
      "text/plain": [
       "\n",
       "\u001b[1m{\u001b[0m\n",
       "    \u001b[32m'link'\u001b[0m: \u001b[32m'https://www.reuters.com/article/global-precious/precious-gold-slips-1-ahead-of-u-s-china-trade-deal-idUSL4N29I246'\u001b[0m,\n",
       "    \u001b[32m'headline'\u001b[0m: \u001b[32m'PRECIOUS-Gold slips 1% ahead of U.S.-China trade deal'\u001b[0m,\n",
       "    \u001b[32m'datePublished'\u001b[0m: \u001b[32m'2020-01-13T11:35:26Z'\u001b[0m,\n",
       "    \u001b[32m'author'\u001b[0m: \u001b[32m'K. Sathya Narayanan'\u001b[0m,\n",
       "    \u001b[32m'type_of_author'\u001b[0m: \u001b[32m'Person'\u001b[0m,\n",
       "    \u001b[32m'publisher'\u001b[0m: \u001b[32m'Reuters'\u001b[0m,\n",
       "    \u001b[32m'type_of_publisher'\u001b[0m: \u001b[32m'Organization'\u001b[0m,\n",
       "    \u001b[32m'full_text'\u001b[0m: \u001b[32m'\u001b[0m\u001b[32m(\u001b[0m\u001b[32mUpdates prices\u001b[0m\u001b[32m)\u001b[0m\u001b[32m    * U.S., China due to sign trade deal on Wednesday    * SPDR Gold holdings fall to lowest since Sept. 16 on Friday    By K. Sathya Narayanan    Jan 13 \u001b[0m\u001b[32m(\u001b[0m\u001b[32mReuters\u001b[0m\u001b[32m)\u001b[0m\u001b[32m - Gold prices fell 1% on Monday as optimismin equity markets ahead of the signing of an interim U.S.-Chinatrade deal and lack of further escalation in Middle Easttensions diminished bullion\\'s safe-haven appeal.    The U.S.-China Phase 1 agreement is due to be signed at theWhite House on Wednesday.                 Spot gold        dipped 0.5% to $1,553.60 per ounce as of1246 GMT, having fallen 1% to $1,546.27 earlier in the session.    U.S. gold futures         fell 0.4% to $1,554.50.    \"We are struggling \u001b[0m\u001b[32m(\u001b[0m\u001b[32ma\u001b[0m\u001b[32m)\u001b[0m\u001b[32m little bit with the details. It\\'ll bequite interesting to see if there is any concrete guidance inthe details of the phase-one deal,\" said Julius Baer analystCarsten Menke.    \"Also, the news that the Chinese and the U.S. would meet onsemi-annual basis to discuss trade, I imagine was somethingwhich wasn\\'t expected by the market, and could be weighing ongold.\"    A Wall Street Journal report said on Saturday Washington andBeijing had agreed to semi-annual talks aimed at pushing forreforms in both countries and resolving disputes.                 The positive sentiment ahead of the planned signing boostedglobal equities, which were hovering just below record levels,while the U.S. dollar gained against key rivals.                      Stronger appetite for riskier assets weighs ongreenback-denominated gold.    Bullion rose to a near 7-year peak of $1,610.90 last weekafter a U.S. drone strike killed a top Iranian commander inBaghdad and Iran launched missiles against U.S. bases in Iraq inretaliation.    The rally, however, faded with a lack of further militaryescalation in the region.                             The United States imposed more sanctions on Iran on Fridayand vowed to tighten the economic screws if Tehran continued\"terrorist\" acts or pursued a nuclear bomb.                  \"The tensions between U.S. and Iran seems to have calmeddown a little bit, at least for the time being, and people arejust taking profits on that,\" said Afshin Nabavi, senior vicepresident at precious metals trader MKS SA.    Reflecting investor sentiment, holdings of the world\\'slargest gold-backed exchange-traded fund, SPDR Gold Trust      ,fell 0.9% to 874.52 tonnes on Friday, their lowest since Sept.16.              On the technical front, gold is testing the support level of$1,550 and a fall below that would be a negative signal, openingspace for further declines, Carlo Alberto De Casa, Chief analystat ActivTrades said in a note.    Elsewhere, palladium        rose 1.2% to $2,142.52 an ounce.Silver        was down 0.5% at $18, while platinum        fell0.5% to $973.32. \u001b[0m\u001b[32m(\u001b[0m\u001b[32mReporting by K. Sathya Narayanan in Bengaluru; editing byEmelia Sithole-Matarise and Louise Heavens\u001b[0m\u001b[32m)\u001b[0m\u001b[32m'\u001b[0m,\n",
       "    \u001b[32m'date'\u001b[0m: \u001b[32m'2020-01-13'\u001b[0m,\n",
       "    \u001b[32m'time'\u001b[0m: \u001b[32m'11:35:26'\u001b[0m\n",
       "\u001b[1m}\u001b[0m"
      ]
     },
     "execution_count": 91,
     "metadata": {},
     "output_type": "execute_result"
    }
   ],
   "source": [
    "article_infor"
   ]
  },
  {
   "cell_type": "code",
   "execution_count": 92,
   "metadata": {},
   "outputs": [],
   "source": []
  }
 ],
 "metadata": {
  "kernelspec": {
   "display_name": "Kedro (gold_analysis)",
   "language": "python",
   "name": "kedro_gold_analysis"
  },
  "language_info": {
   "codemirror_mode": {
    "name": "ipython",
    "version": 3
   },
   "file_extension": ".py",
   "mimetype": "text/x-python",
   "name": "python",
   "nbconvert_exporter": "python",
   "pygments_lexer": "ipython3",
   "version": "3.11.4"
  },
  "orig_nbformat": 4
 },
 "nbformat": 4,
 "nbformat_minor": 2
}
