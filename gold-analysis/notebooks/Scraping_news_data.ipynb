{
 "cells": [
  {
   "cell_type": "code",
   "execution_count": 2,
   "metadata": {},
   "outputs": [],
   "source": [
    "import requests\n",
    "from bs4 import BeautifulSoup"
   ]
  },
  {
   "cell_type": "code",
   "execution_count": 3,
   "metadata": {},
   "outputs": [],
   "source": [
    "# Base url \n",
    "base_url = \"https://www.reuters.com\""
   ]
  },
  {
   "cell_type": "code",
   "execution_count": 4,
   "metadata": {},
   "outputs": [],
   "source": [
    "# Endpoint to the page containing articles\n",
    "page_endpoint = \"/news/archive/goldMktRpt?page=\"\n",
    "\n",
    "# Here focus is on one page however there are 394 more pages to be considered\n",
    "page_number = 394\n",
    "\n",
    "# Full page url created by combining the base url, endpoint and the page number\n",
    "# Pagination\n",
    "page_url = f\"{base_url}{page_endpoint}{page_number}\"\n",
    "\n",
    "# Send a request to the page url\n",
    "response = requests.get(page_url)\n",
    "if response.status_code != 200:\n",
    "    print(f\"Failed to retrieve page {page_number}\")\n",
    "\n",
    "# Soup object for the page and parsing it\n",
    "page_soup = BeautifulSoup(response.text, 'html.parser')\n",
    "\n",
    "# Saving the contents of the page for offline access and inspection \n",
    "with open(\"news_page.html\", \"w\", encoding = 'utf-8') as file:\n",
    "    ## prettify the soup object and convert it into a string  \n",
    "    file.write(str(page_soup.prettify()))"
   ]
  },
  {
   "cell_type": "code",
   "execution_count": 5,
   "metadata": {},
   "outputs": [
    {
     "name": "stdout",
     "output_type": "stream",
     "text": [
      "https://www.reuters.com/article/global-precious/precious-gold-slips-1-ahead-of-u-s-china-trade-deal-idUSL4N29I246\n",
      "PRECIOUS-Gold slips 1% ahead of U.S.-China trade deal\n",
      "https://www.reuters.com/article/global-precious/precious-gold-slips-as-asian-equities-rise-ahead-of-sino-u-s-trade-deal-idUSL4N29I09V\n",
      "PRECIOUS-Gold slips as Asian equities rise ahead of Sino-U.S. trade deal\n",
      "https://www.reuters.com/article/global-precious/precious-gold-dips-on-sino-u-s-trade-optimism-firm-dollar-idUSL4N29I04S\n",
      "PRECIOUS-Gold dips on Sino-U.S. trade optimism, firm dollar\n",
      "https://www.reuters.com/article/global-precious/precious-gold-firms-on-renewed-u-s-iran-tensions-eyes-fifth-weekly-gain-idUSL4N29F31F\n",
      "PRECIOUS-Gold firms on renewed U.S.-Iran tensions, eyes fifth weekly gain\n",
      "https://www.reuters.com/article/global-precious/precious-gold-extends-fall-as-fading-middle-east-tensions-boost-risk-appetite-idUSL4N29F29I\n",
      "PRECIOUS-Gold extends fall as fading Middle East tensions boost risk appetite\n",
      "https://www.reuters.com/article/global-precious/precious-gold-inches-lower-amid-rising-equities-as-mideast-tensions-fade-idUSL4N29F0TM\n",
      "PRECIOUS-Gold inches lower amid rising equities as Mideast tensions fade\n",
      "https://www.reuters.com/article/global-precious/precious-gold-inches-down-as-easing-u-s-iran-tensions-whet-risk-appetite-idUSL4N29F064\n",
      "PRECIOUS-Gold inches down as easing U.S.-Iran tensions whet risk appetite\n",
      "https://www.reuters.com/article/global-precious/precious-golds-rally-fizzles-on-de-escalating-u-s-iran-tensions-idUSL4N29E3AT\n",
      "PRECIOUS-Gold's rally fizzles on de-escalating U.S.-Iran tensions\n",
      "https://www.reuters.com/article/global-precious/precious-gold-slides-from-near-7-year-peak-as-u-s-iran-fears-subside-idUSL4N29E2G2\n",
      "PRECIOUS-Gold slides from near 7-year peak as U.S.-Iran fears subside\n",
      "https://www.reuters.com/article/global-precious/precious-gold-drops-from-7-year-highs-as-u-s-iran-worries-abate-idUSL4N29E0T4\n",
      "PRECIOUS-Gold drops from 7-year highs as U.S.-Iran worries abate\n",
      "https://www.reuters.com/article/us-usa-election-emhoff/vice-president-elect-kamala-harris-husband-leaves-job-at-powerhouse-law-firm-dla-piper-idUSKBN27Q3BM\n",
      "Vice President-Elect Kamala Harris' husband leaves job at powerhouse law firm DLA Piper\n",
      "https://www.reuters.com/article/us-usa-election-house-southcarolina/story-on-u-s-representative-cunningham-conceding-south-carolina-race-withdrawn-idUSKBN27Q38W\n",
      "Story on U.S. Representative Cunningham conceding South Carolina race withdrawn\n",
      "https://www.reuters.com/article/us-usa-election-transition-mcconnell/mcconnell-says-he-does-not-expect-interrupted-presidential-transition-idUSKBN27Q33R\n",
      "McConnell says he does not expect interrupted presidential transition\n"
     ]
    }
   ],
   "source": [
    "# Data structure to store article infor\n",
    "article_infor = {}\n",
    "articles = page_soup.find_all('div', class_='story-content')\n",
    "for article in articles:\n",
    "    print(f\"{base_url}{article.a.attrs['href']}\")\n",
    "    print(article.a.text.strip())"
   ]
  },
  {
   "cell_type": "code",
   "execution_count": 15,
   "metadata": {},
   "outputs": [
    {
     "data": {
      "text/html": [
       "<pre style=\"white-space:pre;overflow-x:auto;line-height:normal;font-family:Menlo,'DejaVu Sans Mono',consolas,'Courier New',monospace\"></pre>\n"
      ],
      "text/plain": []
     },
     "metadata": {},
     "output_type": "display_data"
    },
    {
     "data": {
      "text/plain": [
       "\u001b[32m'https://www.reuters.com/article/global-precious/precious-gold-slips-1-ahead-of-u-s-china-trade-deal-idUSL4N29I246'\u001b[0m"
      ]
     },
     "execution_count": 15,
     "metadata": {},
     "output_type": "execute_result"
    }
   ],
   "source": [
    "# Article link is parsed next\n",
    "article_link = f\"{base_url}{articles[0].a.attrs['href']}\"\n",
    "article_infor[\"link\"] = article_link\n",
    "article_link"
   ]
  },
  {
   "cell_type": "code",
   "execution_count": 16,
   "metadata": {},
   "outputs": [],
   "source": [
    "# Sending http request to article link\n",
    "response = requests.get(article_link)\n",
    "if response.status_code != 200:\n",
    "    print(f\"Failed to retrieve article with link :  {article_link}\")\n",
    "\n",
    "article_soup = BeautifulSoup(response.text, 'html.parser')\n",
    "# open the file in w mode\n",
    "# set encoding to UTF-8\n",
    "with open(\"article_page.html\", \"w\", encoding = 'utf-8') as file:\n",
    "    \n",
    "    # prettify the soup object and convert it into a string  \n",
    "    file.write(str(article_soup.prettify()))"
   ]
  },
  {
   "cell_type": "code",
   "execution_count": 8,
   "metadata": {},
   "outputs": [
    {
     "data": {
      "text/html": [
       "<pre style=\"white-space:pre;overflow-x:auto;line-height:normal;font-family:Menlo,'DejaVu Sans Mono',consolas,'Courier New',monospace\"></pre>\n"
      ],
      "text/plain": []
     },
     "metadata": {},
     "output_type": "display_data"
    },
    {
     "data": {
      "text/plain": [
       "\u001b[1m<\u001b[0m\u001b[1;95mscript\u001b[0m\u001b[39m \u001b[0m\u001b[33mtype\u001b[0m\u001b[39m=\u001b[0m\u001b[32m\"application\u001b[0m\u001b[32m/ld+json\"\u001b[0m\u001b[39m>\u001b[0m\u001b[1;39m{\u001b[0m\u001b[32m\"@context\"\u001b[0m\u001b[39m:\u001b[0m\u001b[32m\"http://schema.org\"\u001b[0m\u001b[39m,\u001b[0m\u001b[32m\"@type\"\u001b[0m\u001b[39m:\u001b[0m\u001b[32m\"NewsArticle\"\u001b[0m\u001b[39m,\u001b[0m\u001b[32m\"mainEntityOfPage\"\u001b[0m\u001b[39m:\u001b[0m\u001b[1;39m{\u001b[0m\u001b[32m\"@type\"\u001b[0m\u001b[39m:\u001b[0m\u001b[32m\"WebPage\"\u001b[0m\u001b[39m,\u001b[0m\u001b[32m\"@id\"\u001b[0m\u001b[39m:\u001b[0m\u001b[32m\"https://www.reuters.com/article/global-precious-idUSL4N29I246\"\u001b[0m\u001b[1;39m}\u001b[0m\u001b[39m,\u001b[0m\u001b[32m\"headline\"\u001b[0m\u001b[39m:\u001b[0m\u001b[32m\"PRECIOUS-Gold slips 1% ahead of U.S.-China trade deal\"\u001b[0m\u001b[39m,\u001b[0m\u001b[32m\"url\"\u001b[0m\u001b[39m:\u001b[0m\u001b[32m\"https://www.reuters.com/article/global-precious-idUSL4N29I246\"\u001b[0m\u001b[39m,\u001b[0m\u001b[32m\"image\"\u001b[0m\u001b[39m:\u001b[0m\u001b[1;39m{\u001b[0m\u001b[32m\"@type\"\u001b[0m\u001b[39m:\u001b[0m\u001b[32m\"ImageObject\"\u001b[0m\u001b[39m,\u001b[0m\u001b[32m\"url\"\u001b[0m\u001b[39m:\u001b[0m\u001b[32m\"https://s1.reutersmedia.net/resources_v2/images/rcom-default.png?\u001b[0m\u001b[32mw\u001b[0m\u001b[32m=\u001b[0m\u001b[32m800\"\u001b[0m\u001b[39m,\u001b[0m\u001b[32m\"width\"\u001b[0m\u001b[39m:\u001b[0m\u001b[32m\"800\"\u001b[0m\u001b[39m,\u001b[0m\u001b[32m\"height\"\u001b[0m\u001b[39m:\u001b[0m\u001b[32m\"800\"\u001b[0m\u001b[1;39m}\u001b[0m\u001b[39m,\u001b[0m\u001b[32m\"thumbnailUrl\"\u001b[0m\u001b[39m:\u001b[0m\u001b[32m\"https://s1.reutersmedia.net/resources_v2/images/rcom-default.png?\u001b[0m\u001b[32mw\u001b[0m\u001b[32m=\u001b[0m\u001b[32m800\"\u001b[0m\u001b[39m,\u001b[0m\u001b[32m\"dateCreated\"\u001b[0m\u001b[39m:\u001b[0m\u001b[32m\"2020-01-13T11:35:26Z\"\u001b[0m\u001b[39m,\u001b[0m\u001b[32m\"dateModified\"\u001b[0m\u001b[39m:\u001b[0m\u001b[32m\"2020-01-13T13:05:08Z\"\u001b[0m\u001b[39m,\u001b[0m\u001b[32m\"datePublished\"\u001b[0m\u001b[39m:\u001b[0m\u001b[32m\"2020-01-13T11:35:26Z\"\u001b[0m\u001b[39m,\u001b[0m\u001b[32m\"author\"\u001b[0m\u001b[39m:\u001b[0m\u001b[1;39m{\u001b[0m\u001b[32m\"@type\"\u001b[0m\u001b[39m:\u001b[0m\u001b[32m\"Person\"\u001b[0m\u001b[39m,\u001b[0m\u001b[32m\"name\"\u001b[0m\u001b[39m:\u001b[0m\u001b[32m\"K. Sathya Narayanan\"\u001b[0m\u001b[1;39m}\u001b[0m\u001b[39m,\u001b[0m\u001b[32m\"publisher\"\u001b[0m\u001b[39m:\u001b[0m\u001b[1;39m{\u001b[0m\u001b[32m\"@type\"\u001b[0m\u001b[39m:\u001b[0m\u001b[32m\"Organization\"\u001b[0m\u001b[39m,\u001b[0m\u001b[32m\"name\"\u001b[0m\u001b[39m:\u001b[0m\u001b[32m\"Reuters\"\u001b[0m\u001b[39m,\u001b[0m\u001b[32m\"logo\"\u001b[0m\u001b[39m:\u001b[0m\u001b[1;39m{\u001b[0m\u001b[32m\"@type\"\u001b[0m\u001b[39m:\u001b[0m\u001b[32m\"ImageObject\"\u001b[0m\u001b[39m,\u001b[0m\u001b[32m\"url\"\u001b[0m\u001b[39m:\u001b[0m\u001b[32m\"https://s3.reutersmedia.net/resources_v2/images/reuters_social_logo.png\"\u001b[0m\u001b[39m,\u001b[0m\u001b[32m\"width\"\u001b[0m\u001b[39m:\u001b[0m\u001b[32m\"200\"\u001b[0m\u001b[39m,\u001b[0m\u001b[32m\"height\"\u001b[0m\u001b[39m:\u001b[0m\u001b[32m\"200\"\u001b[0m\u001b[1;39m}\u001b[0m\u001b[1;39m}\u001b[0m\u001b[39m,\u001b[0m\u001b[32m\"description\"\u001b[0m\u001b[39m:\u001b[0m\u001b[32m\"\u001b[0m\u001b[32m(\u001b[0m\u001b[32mUpdates prices\u001b[0m\u001b[32m)\u001b[0m\u001b[32m * U.S., China due to sign trade deal on Wednesday * SPDR Gold holdings fall to lowest since Sept. 16 on Friday By K. Sathya Narayanan Jan 13 \u001b[0m\u001b[32m(\u001b[0m\u001b[32mReuters\u001b[0m\u001b[32m)\u001b[0m\u001b[32m - Gold prices fell 1% on Monday as optimism in equity markets ahead of the signing of an interim U.S.-China...\"\u001b[0m\u001b[39m,\u001b[0m\u001b[32m\"articleSection\"\u001b[0m\u001b[39m:\u001b[0m\u001b[32m\"Gold Market Report\"\u001b[0m\u001b[39m,\u001b[0m\u001b[32m\"creator\"\u001b[0m\u001b[39m:\u001b[0m\u001b[1;39m[\u001b[0m\u001b[32m\"K. Sathya Narayanan\"\u001b[0m\u001b[1;39m]\u001b[0m\u001b[39m,\u001b[0m\u001b[32m\"keywords\"\u001b[0m\u001b[39m:\u001b[0m\u001b[1;39m[\u001b[0m\u001b[1;39m[\u001b[0m\u001b[32m\"GLOBAL\"\u001b[0m\u001b[39m,\u001b[0m\u001b[32m\"PRECIOUS/ \u001b[0m\u001b[32m(\u001b[0m\u001b[32mUPDATE 5, PIX\u001b[0m\u001b[32m)\u001b[0m\u001b[32m\"\u001b[0m\u001b[39m,\u001b[0m\u001b[32m\"Americas\"\u001b[0m\u001b[39m,\u001b[0m\u001b[32m\"Asia / Pacific\"\u001b[0m\u001b[39m,\u001b[0m\u001b[32m\"Basic Materials \u001b[0m\u001b[32m(\u001b[0m\u001b[32mTRBC level 1\u001b[0m\u001b[32m)\u001b[0m\u001b[32m\"\u001b[0m\u001b[39m,\u001b[0m\u001b[32m\"Commodities Markets\"\u001b[0m\u001b[39m,\u001b[0m\u001b[32m\"Europe\"\u001b[0m\u001b[39m,\u001b[0m\u001b[32m\"United Kingdom\"\u001b[0m\u001b[39m,\u001b[0m\u001b[32m\"Gold\"\u001b[0m\u001b[39m,\u001b[0m\u001b[32m\"Metals Markets\"\u001b[0m\u001b[39m,\u001b[0m\u001b[32m\"Mining\"\u001b[0m\u001b[39m,\u001b[0m\u001b[32m\"Mineral Resources \u001b[0m\u001b[32m(\u001b[0m\u001b[32mTRBC level 2\u001b[0m\u001b[32m)\u001b[0m\u001b[32m\"\u001b[0m\u001b[39m,\u001b[0m\u001b[32m\"Metals & Mining \u001b[0m\u001b[32m(\u001b[0m\u001b[32mTRBC level 3\u001b[0m\u001b[32m)\u001b[0m\u001b[32m\"\u001b[0m\u001b[39m,\u001b[0m\u001b[32m\"North America\"\u001b[0m\u001b[39m,\u001b[0m\u001b[32m\"Palladium\"\u001b[0m\u001b[39m,\u001b[0m\u001b[32m\"Platinum Group Metals\"\u001b[0m\u001b[39m,\u001b[0m\u001b[32m\"Platinum\"\u001b[0m\u001b[39m,\u001b[0m\u001b[32m\"Non-Gold Precious Metals & Minerals \u001b[0m\u001b[32m(\u001b[0m\u001b[32mTRBC level 4\u001b[0m\u001b[32m)\u001b[0m\u001b[32m\"\u001b[0m\u001b[39m,\u001b[0m\u001b[32m\"All Precious Metals and Minerals\"\u001b[0m\u001b[39m,\u001b[0m\u001b[32m\"Precious Metals\"\u001b[0m\u001b[39m,\u001b[0m\u001b[32m\"Picture Available\"\u001b[0m\u001b[39m,\u001b[0m\u001b[32m\"Silver\"\u001b[0m\u001b[39m,\u001b[0m\u001b[32m\"United States\"\u001b[0m\u001b[39m,\u001b[0m\u001b[32m\"Western Europe\"\u001b[0m\u001b[1;39m]\u001b[0m\u001b[1;39m]\u001b[0m\u001b[39m,\u001b[0m\u001b[32m\"about\"\u001b[0m\u001b[39m:\u001b[0m\u001b[32m\"Article\"\u001b[0m\u001b[1;39m}\u001b[0m\u001b[39m<\u001b[0m\u001b[35m/\u001b[0m\u001b[95mscript\u001b[0m\u001b[1m>\u001b[0m"
      ]
     },
     "execution_count": 8,
     "metadata": {},
     "output_type": "execute_result"
    }
   ],
   "source": [
    "# Meta data contains most of the information about an article\n",
    "article_json_meta_data = article_soup.find('script', type=\"application/ld+json\")\n",
    "article_json_meta_data"
   ]
  },
  {
   "cell_type": "code",
   "execution_count": 17,
   "metadata": {},
   "outputs": [
    {
     "data": {
      "text/html": [
       "<pre style=\"white-space:pre;overflow-x:auto;line-height:normal;font-family:Menlo,'DejaVu Sans Mono',consolas,'Courier New',monospace\"></pre>\n"
      ],
      "text/plain": []
     },
     "metadata": {},
     "output_type": "display_data"
    },
    {
     "data": {
      "text/plain": [
       "\u001b[32m'\u001b[0m\u001b[32m{\u001b[0m\u001b[32m\"@context\":\"http://schema.org\",\"@type\":\"NewsArticle\",\"mainEntityOfPage\":\u001b[0m\u001b[32m{\u001b[0m\u001b[32m\"@type\":\"WebPage\",\"@id\":\"https://www.reuters.com/article/global-precious-idUSL4N29I246\"\u001b[0m\u001b[32m}\u001b[0m\u001b[32m,\"headline\":\"PRECIOUS-Gold slips 1% ahead of U.S.-China trade deal\",\"url\":\"https://www.reuters.com/article/global-precious-idUSL4N29I246\",\"image\":\u001b[0m\u001b[32m{\u001b[0m\u001b[32m\"@type\":\"ImageObject\",\"url\":\"https://s1.reutersmedia.net/resources_v2/images/rcom-default.png?\u001b[0m\u001b[32mw\u001b[0m\u001b[32m=\u001b[0m\u001b[32m800\"\u001b[0m\u001b[32m,\"width\":\"800\",\"height\":\"800\"\u001b[0m\u001b[32m}\u001b[0m\u001b[32m,\"thumbnailUrl\":\"https://s1.reutersmedia.net/resources_v2/images/rcom-default.png?\u001b[0m\u001b[32mw\u001b[0m\u001b[32m=\u001b[0m\u001b[32m800\"\u001b[0m\u001b[32m,\"dateCreated\":\"2020-01-13T11:35:26Z\",\"dateModified\":\"2020-01-13T13:05:08Z\",\"datePublished\":\"2020-01-13T11:35:26Z\",\"author\":\u001b[0m\u001b[32m{\u001b[0m\u001b[32m\"@type\":\"Person\",\"name\":\"K. Sathya Narayanan\"\u001b[0m\u001b[32m}\u001b[0m\u001b[32m,\"publisher\":\u001b[0m\u001b[32m{\u001b[0m\u001b[32m\"@type\":\"Organization\",\"name\":\"Reuters\",\"logo\":\u001b[0m\u001b[32m{\u001b[0m\u001b[32m\"@type\":\"ImageObject\",\"url\":\"https://s3.reutersmedia.net/resources_v2/images/reuters_social_logo.png\",\"width\":\"200\",\"height\":\"200\"\u001b[0m\u001b[32m}\u001b[0m\u001b[32m}\u001b[0m\u001b[32m,\"description\":\"\u001b[0m\u001b[32m(\u001b[0m\u001b[32mUpdates prices\u001b[0m\u001b[32m)\u001b[0m\u001b[32m * U.S., China due to sign trade deal on Wednesday * SPDR Gold holdings fall to lowest since Sept. 16 on Friday By K. Sathya Narayanan Jan 13 \u001b[0m\u001b[32m(\u001b[0m\u001b[32mReuters\u001b[0m\u001b[32m)\u001b[0m\u001b[32m - Gold prices fell 1% on Monday as optimism in equity markets ahead of the signing of an interim U.S.-China...\",\"articleSection\":\"Gold Market Report\",\"creator\":\u001b[0m\u001b[32m[\u001b[0m\u001b[32m\"K. Sathya Narayanan\"\u001b[0m\u001b[32m]\u001b[0m\u001b[32m,\"keywords\":\u001b[0m\u001b[32m[\u001b[0m\u001b[32m[\u001b[0m\u001b[32m\"GLOBAL\",\"PRECIOUS/ \u001b[0m\u001b[32m(\u001b[0m\u001b[32mUPDATE 5, PIX\u001b[0m\u001b[32m)\u001b[0m\u001b[32m\",\"Americas\",\"Asia / Pacific\",\"Basic Materials \u001b[0m\u001b[32m(\u001b[0m\u001b[32mTRBC level 1\u001b[0m\u001b[32m)\u001b[0m\u001b[32m\",\"Commodities Markets\",\"Europe\",\"United Kingdom\",\"Gold\",\"Metals Markets\",\"Mining\",\"Mineral Resources \u001b[0m\u001b[32m(\u001b[0m\u001b[32mTRBC level 2\u001b[0m\u001b[32m)\u001b[0m\u001b[32m\",\"Metals & Mining \u001b[0m\u001b[32m(\u001b[0m\u001b[32mTRBC level 3\u001b[0m\u001b[32m)\u001b[0m\u001b[32m\",\"North America\",\"Palladium\",\"Platinum Group Metals\",\"Platinum\",\"Non-Gold Precious Metals & Minerals \u001b[0m\u001b[32m(\u001b[0m\u001b[32mTRBC level 4\u001b[0m\u001b[32m)\u001b[0m\u001b[32m\",\"All Precious Metals and Minerals\",\"Precious Metals\",\"Picture Available\",\"Silver\",\"United States\",\"Western Europe\"\u001b[0m\u001b[32m]\u001b[0m\u001b[32m]\u001b[0m\u001b[32m,\"about\":\"Article\"\u001b[0m\u001b[32m}\u001b[0m\u001b[32m'\u001b[0m"
      ]
     },
     "execution_count": 17,
     "metadata": {},
     "output_type": "execute_result"
    }
   ],
   "source": [
    "# content contains a string representation of a json on=bject containing all infor needed\n",
    "article_json_meta_data.contents[0]"
   ]
  },
  {
   "cell_type": "code",
   "execution_count": 18,
   "metadata": {},
   "outputs": [
    {
     "data": {
      "text/html": [
       "<pre style=\"white-space:pre;overflow-x:auto;line-height:normal;font-family:Menlo,'DejaVu Sans Mono',consolas,'Courier New',monospace\"></pre>\n"
      ],
      "text/plain": []
     },
     "metadata": {},
     "output_type": "display_data"
    },
    {
     "data": {
      "text/plain": [
       "\n",
       "\u001b[1m{\u001b[0m\n",
       "    \u001b[32m'@context'\u001b[0m: \u001b[32m'http://schema.org'\u001b[0m,\n",
       "    \u001b[32m'@type'\u001b[0m: \u001b[32m'NewsArticle'\u001b[0m,\n",
       "    \u001b[32m'mainEntityOfPage'\u001b[0m: \u001b[1m{\u001b[0m\n",
       "        \u001b[32m'@type'\u001b[0m: \u001b[32m'WebPage'\u001b[0m,\n",
       "        \u001b[32m'@id'\u001b[0m: \u001b[32m'https://www.reuters.com/article/global-precious-idUSL4N29I246'\u001b[0m\n",
       "    \u001b[1m}\u001b[0m,\n",
       "    \u001b[32m'headline'\u001b[0m: \u001b[32m'PRECIOUS-Gold slips 1% ahead of U.S.-China trade deal'\u001b[0m,\n",
       "    \u001b[32m'url'\u001b[0m: \u001b[32m'https://www.reuters.com/article/global-precious-idUSL4N29I246'\u001b[0m,\n",
       "    \u001b[32m'image'\u001b[0m: \u001b[1m{\u001b[0m\n",
       "        \u001b[32m'@type'\u001b[0m: \u001b[32m'ImageObject'\u001b[0m,\n",
       "        \u001b[32m'url'\u001b[0m: \u001b[32m'https://s1.reutersmedia.net/resources_v2/images/rcom-default.png?\u001b[0m\u001b[32mw\u001b[0m\u001b[32m=\u001b[0m\u001b[32m800\u001b[0m\u001b[32m'\u001b[0m,\n",
       "        \u001b[32m'width'\u001b[0m: \u001b[32m'800'\u001b[0m,\n",
       "        \u001b[32m'height'\u001b[0m: \u001b[32m'800'\u001b[0m\n",
       "    \u001b[1m}\u001b[0m,\n",
       "    \u001b[32m'thumbnailUrl'\u001b[0m: \u001b[32m'https://s1.reutersmedia.net/resources_v2/images/rcom-default.png?\u001b[0m\u001b[32mw\u001b[0m\u001b[32m=\u001b[0m\u001b[32m800\u001b[0m\u001b[32m'\u001b[0m,\n",
       "    \u001b[32m'dateCreated'\u001b[0m: \u001b[32m'2020-01-13T11:35:26Z'\u001b[0m,\n",
       "    \u001b[32m'dateModified'\u001b[0m: \u001b[32m'2020-01-13T13:05:08Z'\u001b[0m,\n",
       "    \u001b[32m'datePublished'\u001b[0m: \u001b[32m'2020-01-13T11:35:26Z'\u001b[0m,\n",
       "    \u001b[32m'author'\u001b[0m: \u001b[1m{\u001b[0m\u001b[32m'@type'\u001b[0m: \u001b[32m'Person'\u001b[0m, \u001b[32m'name'\u001b[0m: \u001b[32m'K. Sathya Narayanan'\u001b[0m\u001b[1m}\u001b[0m,\n",
       "    \u001b[32m'publisher'\u001b[0m: \u001b[1m{\u001b[0m\n",
       "        \u001b[32m'@type'\u001b[0m: \u001b[32m'Organization'\u001b[0m,\n",
       "        \u001b[32m'name'\u001b[0m: \u001b[32m'Reuters'\u001b[0m,\n",
       "        \u001b[32m'logo'\u001b[0m: \u001b[1m{\u001b[0m\n",
       "            \u001b[32m'@type'\u001b[0m: \u001b[32m'ImageObject'\u001b[0m,\n",
       "            \u001b[32m'url'\u001b[0m: \u001b[32m'https://s3.reutersmedia.net/resources_v2/images/reuters_social_logo.png'\u001b[0m,\n",
       "            \u001b[32m'width'\u001b[0m: \u001b[32m'200'\u001b[0m,\n",
       "            \u001b[32m'height'\u001b[0m: \u001b[32m'200'\u001b[0m\n",
       "        \u001b[1m}\u001b[0m\n",
       "    \u001b[1m}\u001b[0m,\n",
       "    \u001b[32m'description'\u001b[0m: \u001b[32m'\u001b[0m\u001b[32m(\u001b[0m\u001b[32mUpdates prices\u001b[0m\u001b[32m)\u001b[0m\u001b[32m * U.S., China due to sign trade deal on Wednesday * SPDR Gold holdings fall to lowest since Sept. 16 on Friday By K. Sathya Narayanan Jan 13 \u001b[0m\u001b[32m(\u001b[0m\u001b[32mReuters\u001b[0m\u001b[32m)\u001b[0m\u001b[32m - Gold prices fell 1% on Monday as optimism in equity markets ahead of the signing of an interim U.S.-China...'\u001b[0m,\n",
       "    \u001b[32m'articleSection'\u001b[0m: \u001b[32m'Gold Market Report'\u001b[0m,\n",
       "    \u001b[32m'creator'\u001b[0m: \u001b[1m[\u001b[0m\u001b[32m'K. Sathya Narayanan'\u001b[0m\u001b[1m]\u001b[0m,\n",
       "    \u001b[32m'keywords'\u001b[0m: \u001b[1m[\u001b[0m\n",
       "        \u001b[1m[\u001b[0m\n",
       "            \u001b[32m'GLOBAL'\u001b[0m,\n",
       "            \u001b[32m'PRECIOUS/ \u001b[0m\u001b[32m(\u001b[0m\u001b[32mUPDATE 5, PIX\u001b[0m\u001b[32m)\u001b[0m\u001b[32m'\u001b[0m,\n",
       "            \u001b[32m'Americas'\u001b[0m,\n",
       "            \u001b[32m'Asia / Pacific'\u001b[0m,\n",
       "            \u001b[32m'Basic Materials \u001b[0m\u001b[32m(\u001b[0m\u001b[32mTRBC level 1\u001b[0m\u001b[32m)\u001b[0m\u001b[32m'\u001b[0m,\n",
       "            \u001b[32m'Commodities Markets'\u001b[0m,\n",
       "            \u001b[32m'Europe'\u001b[0m,\n",
       "            \u001b[32m'United Kingdom'\u001b[0m,\n",
       "            \u001b[32m'Gold'\u001b[0m,\n",
       "            \u001b[32m'Metals Markets'\u001b[0m,\n",
       "            \u001b[32m'Mining'\u001b[0m,\n",
       "            \u001b[32m'Mineral Resources \u001b[0m\u001b[32m(\u001b[0m\u001b[32mTRBC level 2\u001b[0m\u001b[32m)\u001b[0m\u001b[32m'\u001b[0m,\n",
       "            \u001b[32m'Metals & Mining \u001b[0m\u001b[32m(\u001b[0m\u001b[32mTRBC level 3\u001b[0m\u001b[32m)\u001b[0m\u001b[32m'\u001b[0m,\n",
       "            \u001b[32m'North America'\u001b[0m,\n",
       "            \u001b[32m'Palladium'\u001b[0m,\n",
       "            \u001b[32m'Platinum Group Metals'\u001b[0m,\n",
       "            \u001b[32m'Platinum'\u001b[0m,\n",
       "            \u001b[32m'Non-Gold Precious Metals & Minerals \u001b[0m\u001b[32m(\u001b[0m\u001b[32mTRBC level 4\u001b[0m\u001b[32m)\u001b[0m\u001b[32m'\u001b[0m,\n",
       "            \u001b[32m'All Precious Metals and Minerals'\u001b[0m,\n",
       "            \u001b[32m'Precious Metals'\u001b[0m,\n",
       "            \u001b[32m'Picture Available'\u001b[0m,\n",
       "            \u001b[32m'Silver'\u001b[0m,\n",
       "            \u001b[32m'United States'\u001b[0m,\n",
       "            \u001b[32m'Western Europe'\u001b[0m\n",
       "        \u001b[1m]\u001b[0m\n",
       "    \u001b[1m]\u001b[0m,\n",
       "    \u001b[32m'about'\u001b[0m: \u001b[32m'Article'\u001b[0m\n",
       "\u001b[1m}\u001b[0m"
      ]
     },
     "execution_count": 18,
     "metadata": {},
     "output_type": "execute_result"
    }
   ],
   "source": [
    "# Converting string to json object for easy extraction of data\n",
    "import json\n",
    "\n",
    "json_data = json.loads(article_json_meta_data.contents[0])\n",
    "json_data"
   ]
  },
  {
   "cell_type": "code",
   "execution_count": 14,
   "metadata": {},
   "outputs": [
    {
     "name": "stdout",
     "output_type": "stream",
     "text": [
      "PRECIOUS-Gold slips 1% ahead of U.S.-China trade deal\n",
      "2020-01-13T11:35:26Z\n",
      "K. Sathya Narayanan\n",
      "Person\n",
      "Reuters\n",
      "Organization\n"
     ]
    }
   ],
   "source": [
    "# Article infor to be acquired:\n",
    "#       date\n",
    "#       time\n",
    "#       link *\n",
    "#       author\n",
    "#       type_of_author\n",
    "#       publisher\n",
    "#       type_of_publisher\n",
    "#       headline *\n",
    "#       full_text\n",
    "\n",
    "\n",
    "print(json_data['headline']) # Article headline\n",
    "print(json_data['datePublished']) # publish date and time of article, this is in Zulu time so conversion to CAT needed\n",
    "print(json_data['author']['name']) # Name of author'name'\n",
    "print(json_data['author']['@type']) # Type of author\n",
    "print(json_data['publisher']['name']) # Name of publisher\n",
    "print(json_data['publisher']['@type']) # Type of publisher"
   ]
  },
  {
   "cell_type": "code",
   "execution_count": 19,
   "metadata": {},
   "outputs": [
    {
     "data": {
      "text/html": [
       "<pre style=\"white-space:pre;overflow-x:auto;line-height:normal;font-family:Menlo,'DejaVu Sans Mono',consolas,'Courier New',monospace\"></pre>\n"
      ],
      "text/plain": []
     },
     "metadata": {},
     "output_type": "display_data"
    },
    {
     "data": {
      "text/plain": [
       "\n",
       "\u001b[1m{\u001b[0m\n",
       "    \u001b[32m'link'\u001b[0m: \u001b[32m'https://www.reuters.com/article/global-precious/precious-gold-slips-1-ahead-of-u-s-china-trade-deal-idUSL4N29I246'\u001b[0m,\n",
       "    \u001b[32m'headline'\u001b[0m: \u001b[32m'PRECIOUS-Gold slips 1% ahead of U.S.-China trade deal'\u001b[0m,\n",
       "    \u001b[32m'datePublished'\u001b[0m: \u001b[32m'2020-01-13T11:35:26Z'\u001b[0m,\n",
       "    \u001b[32m'author'\u001b[0m: \u001b[32m'K. Sathya Narayanan'\u001b[0m,\n",
       "    \u001b[32m'type_of_author'\u001b[0m: \u001b[32m'Person'\u001b[0m,\n",
       "    \u001b[32m'publisher'\u001b[0m: \u001b[32m'Reuters'\u001b[0m,\n",
       "    \u001b[32m'type_of_publisher'\u001b[0m: \u001b[32m'Organization'\u001b[0m\n",
       "\u001b[1m}\u001b[0m"
      ]
     },
     "execution_count": 19,
     "metadata": {},
     "output_type": "execute_result"
    }
   ],
   "source": [
    "# Adding data into article infor dict\n",
    "article_infor['headline'] = json_data['headline']\n",
    "article_infor['datePublished'] = json_data['datePublished']\n",
    "article_infor['author'] = json_data['author']['name']\n",
    "article_infor['type_of_author'] = json_data['author']['@type']\n",
    "article_infor['publisher'] = json_data['publisher']['name']\n",
    "article_infor['type_of_publisher'] = json_data['publisher']['@type']\n",
    "\n",
    "article_infor"
   ]
  },
  {
   "cell_type": "code",
   "execution_count": 40,
   "metadata": {},
   "outputs": [
    {
     "data": {
      "text/html": [
       "<pre style=\"white-space:pre;overflow-x:auto;line-height:normal;font-family:Menlo,'DejaVu Sans Mono',consolas,'Courier New',monospace\"></pre>\n"
      ],
      "text/plain": []
     },
     "metadata": {},
     "output_type": "display_data"
    },
    {
     "data": {
      "text/plain": [
       "\u001b[32m' \u001b[0m\u001b[32m(\u001b[0m\u001b[32mUpdates prices\u001b[0m\u001b[32m)\u001b[0m\u001b[32m\\n    * U.S., China due to sign trade deal on Wednesday\\n    * SPDR Gold holdings fall to lowest since Sept. 16 on Friday\\n\\n    By K. Sathya Narayanan\\n    Jan 13 \u001b[0m\u001b[32m(\u001b[0m\u001b[32mReuters\u001b[0m\u001b[32m)\u001b[0m\u001b[32m - Gold prices fell 1% on Monday as optimism\\nin equity markets ahead of the signing of an interim U.S.-China\\ntrade deal and lack of further escalation in Middle East\\ntensions diminished bullion\\'s safe-haven appeal.\\n    The U.S.-China Phase 1 agreement is due to be signed at the\\nWhite House on Wednesday.             \\n    Spot gold        dipped 0.5% to $1,553.60 per ounce as of\\n1246 GMT, having fallen 1% to $1,546.27 earlier in the session.\\n    U.S. gold futures         fell 0.4% to $1,554.50.\\n    \"We are struggling \u001b[0m\u001b[32m(\u001b[0m\u001b[32ma\u001b[0m\u001b[32m)\u001b[0m\u001b[32m little bit with the details. It\\'ll be\\nquite interesting to see if there is any concrete guidance in\\nthe details of the phase-one deal,\" said Julius Baer analyst\\nCarsten Menke.\\n    \"Also, the news that the Chinese and the U.S. would meet on\\nsemi-annual basis to discuss trade, I imagine was something\\nwhich wasn\\'t expected by the market, and could be weighing on\\ngold.\"\\n    A Wall Street Journal report said on Saturday Washington and\\nBeijing had agreed to semi-annual talks aimed at pushing for\\nreforms in both countries and resolving disputes.             \\n    The positive sentiment ahead of the planned signing boosted\\nglobal equities, which were hovering just below record levels,\\nwhile the U.S. dollar gained against key rivals.            \\n      \\n    Stronger appetite for riskier assets weighs on\\ngreenback-denominated gold.\\n    Bullion rose to a near 7-year peak of $1,610.90 last week\\nafter a U.S. drone strike killed a top Iranian commander in\\nBaghdad and Iran launched missiles against U.S. bases in Iraq in\\nretaliation.\\n    The rally, however, faded with a lack of further military\\nescalation in the region.                         \\n    The United States imposed more sanctions on Iran on Friday\\nand vowed to tighten the economic screws if Tehran continued\\n\"terrorist\" acts or pursued a nuclear bomb.              \\n    \"The tensions between U.S. and Iran seems to have calmed\\ndown a little bit, at least for the time being, and people are\\njust taking profits on that,\" said Afshin Nabavi, senior vice\\npresident at precious metals trader MKS SA.\\n    Reflecting investor sentiment, holdings of the world\\'s\\nlargest gold-backed exchange-traded fund, SPDR Gold Trust      ,\\nfell 0.9% to 874.52 tonnes on Friday, their lowest since Sept.\\n16.          \\n    On the technical front, gold is testing the support level of\\n$1,550 and a fall below that would be a negative signal, opening\\nspace for further declines, Carlo Alberto De Casa, Chief analyst\\nat ActivTrades said in a note.\\n    Elsewhere, palladium        rose 1.2% to $2,142.52 an ounce.\\nSilver        was down 0.5% at $18, while platinum        fell\\n0.5% to $973.32.\\n\\n \u001b[0m\u001b[32m(\u001b[0m\u001b[32mReporting by K. Sathya Narayanan in Bengaluru; editing by\\nEmelia Sithole-Matarise and Louise Heavens\u001b[0m\u001b[32m)\u001b[0m\u001b[32m\\n  '\u001b[0m"
      ]
     },
     "execution_count": 40,
     "metadata": {},
     "output_type": "execute_result"
    }
   ],
   "source": [
    "# Full article text is located in the only pre in the page\n",
    "article_text = article_soup.find('pre').text\n",
    "article_text"
   ]
  },
  {
   "cell_type": "code",
   "execution_count": 41,
   "metadata": {},
   "outputs": [
    {
     "data": {
      "text/html": [
       "<pre style=\"white-space:pre;overflow-x:auto;line-height:normal;font-family:Menlo,'DejaVu Sans Mono',consolas,'Courier New',monospace\"></pre>\n"
      ],
      "text/plain": []
     },
     "metadata": {},
     "output_type": "display_data"
    },
    {
     "data": {
      "text/plain": [
       "\u001b[32m'\u001b[0m\u001b[32m(\u001b[0m\u001b[32mUpdates prices\u001b[0m\u001b[32m)\u001b[0m\u001b[32m    * U.S., China due to sign trade deal on Wednesday    * SPDR Gold holdings fall to lowest since Sept. 16 on Friday    By K. Sathya Narayanan    Jan 13 \u001b[0m\u001b[32m(\u001b[0m\u001b[32mReuters\u001b[0m\u001b[32m)\u001b[0m\u001b[32m - Gold prices fell 1% on Monday as optimismin equity markets ahead of the signing of an interim U.S.-Chinatrade deal and lack of further escalation in Middle Easttensions diminished bullion\\'s safe-haven appeal.    The U.S.-China Phase 1 agreement is due to be signed at theWhite House on Wednesday.                 Spot gold        dipped 0.5% to $1,553.60 per ounce as of1246 GMT, having fallen 1% to $1,546.27 earlier in the session.    U.S. gold futures         fell 0.4% to $1,554.50.    \"We are struggling \u001b[0m\u001b[32m(\u001b[0m\u001b[32ma\u001b[0m\u001b[32m)\u001b[0m\u001b[32m little bit with the details. It\\'ll bequite interesting to see if there is any concrete guidance inthe details of the phase-one deal,\" said Julius Baer analystCarsten Menke.    \"Also, the news that the Chinese and the U.S. would meet onsemi-annual basis to discuss trade, I imagine was somethingwhich wasn\\'t expected by the market, and could be weighing ongold.\"    A Wall Street Journal report said on Saturday Washington andBeijing had agreed to semi-annual talks aimed at pushing forreforms in both countries and resolving disputes.                 The positive sentiment ahead of the planned signing boostedglobal equities, which were hovering just below record levels,while the U.S. dollar gained against key rivals.                      Stronger appetite for riskier assets weighs ongreenback-denominated gold.    Bullion rose to a near 7-year peak of $1,610.90 last weekafter a U.S. drone strike killed a top Iranian commander inBaghdad and Iran launched missiles against U.S. bases in Iraq inretaliation.    The rally, however, faded with a lack of further militaryescalation in the region.                             The United States imposed more sanctions on Iran on Fridayand vowed to tighten the economic screws if Tehran continued\"terrorist\" acts or pursued a nuclear bomb.                  \"The tensions between U.S. and Iran seems to have calmeddown a little bit, at least for the time being, and people arejust taking profits on that,\" said Afshin Nabavi, senior vicepresident at precious metals trader MKS SA.    Reflecting investor sentiment, holdings of the world\\'slargest gold-backed exchange-traded fund, SPDR Gold Trust      ,fell 0.9% to 874.52 tonnes on Friday, their lowest since Sept.16.              On the technical front, gold is testing the support level of$1,550 and a fall below that would be a negative signal, openingspace for further declines, Carlo Alberto De Casa, Chief analystat ActivTrades said in a note.    Elsewhere, palladium        rose 1.2% to $2,142.52 an ounce.Silver        was down 0.5% at $18, while platinum        fell0.5% to $973.32. \u001b[0m\u001b[32m(\u001b[0m\u001b[32mReporting by K. Sathya Narayanan in Bengaluru; editing byEmelia Sithole-Matarise and Louise Heavens\u001b[0m\u001b[32m)\u001b[0m\u001b[32m'\u001b[0m"
      ]
     },
     "execution_count": 41,
     "metadata": {},
     "output_type": "execute_result"
    }
   ],
   "source": [
    "# Clean article text \n",
    "article_text = article_text.replace('\\n', '').strip()\n",
    "article_text"
   ]
  },
  {
   "cell_type": "code",
   "execution_count": 42,
   "metadata": {},
   "outputs": [],
   "source": [
    "# Adding article text to article infor\n",
    "article_infor['full_text'] = article_text"
   ]
  },
  {
   "cell_type": "code",
   "execution_count": 43,
   "metadata": {},
   "outputs": [
    {
     "data": {
      "text/html": [
       "<pre style=\"white-space:pre;overflow-x:auto;line-height:normal;font-family:Menlo,'DejaVu Sans Mono',consolas,'Courier New',monospace\"></pre>\n"
      ],
      "text/plain": []
     },
     "metadata": {},
     "output_type": "display_data"
    },
    {
     "data": {
      "text/plain": [
       "\n",
       "\u001b[1m{\u001b[0m\n",
       "    \u001b[32m'link'\u001b[0m: \u001b[32m'https://www.reuters.com/article/global-precious/precious-gold-slips-1-ahead-of-u-s-china-trade-deal-idUSL4N29I246'\u001b[0m,\n",
       "    \u001b[32m'headline'\u001b[0m: \u001b[32m'PRECIOUS-Gold slips 1% ahead of U.S.-China trade deal'\u001b[0m,\n",
       "    \u001b[32m'datePublished'\u001b[0m: \u001b[32m'2020-01-13T11:35:26Z'\u001b[0m,\n",
       "    \u001b[32m'author'\u001b[0m: \u001b[32m'K. Sathya Narayanan'\u001b[0m,\n",
       "    \u001b[32m'type_of_author'\u001b[0m: \u001b[32m'Person'\u001b[0m,\n",
       "    \u001b[32m'publisher'\u001b[0m: \u001b[32m'Reuters'\u001b[0m,\n",
       "    \u001b[32m'type_of_publisher'\u001b[0m: \u001b[32m'Organization'\u001b[0m,\n",
       "    \u001b[32m'full_text'\u001b[0m: \u001b[32m'\u001b[0m\u001b[32m(\u001b[0m\u001b[32mUpdates prices\u001b[0m\u001b[32m)\u001b[0m\u001b[32m    * U.S., China due to sign trade deal on Wednesday    * SPDR Gold holdings fall to lowest since Sept. 16 on Friday    By K. Sathya Narayanan    Jan 13 \u001b[0m\u001b[32m(\u001b[0m\u001b[32mReuters\u001b[0m\u001b[32m)\u001b[0m\u001b[32m - Gold prices fell 1% on Monday as optimismin equity markets ahead of the signing of an interim U.S.-Chinatrade deal and lack of further escalation in Middle Easttensions diminished bullion\\'s safe-haven appeal.    The U.S.-China Phase 1 agreement is due to be signed at theWhite House on Wednesday.                 Spot gold        dipped 0.5% to $1,553.60 per ounce as of1246 GMT, having fallen 1% to $1,546.27 earlier in the session.    U.S. gold futures         fell 0.4% to $1,554.50.    \"We are struggling \u001b[0m\u001b[32m(\u001b[0m\u001b[32ma\u001b[0m\u001b[32m)\u001b[0m\u001b[32m little bit with the details. It\\'ll bequite interesting to see if there is any concrete guidance inthe details of the phase-one deal,\" said Julius Baer analystCarsten Menke.    \"Also, the news that the Chinese and the U.S. would meet onsemi-annual basis to discuss trade, I imagine was somethingwhich wasn\\'t expected by the market, and could be weighing ongold.\"    A Wall Street Journal report said on Saturday Washington andBeijing had agreed to semi-annual talks aimed at pushing forreforms in both countries and resolving disputes.                 The positive sentiment ahead of the planned signing boostedglobal equities, which were hovering just below record levels,while the U.S. dollar gained against key rivals.                      Stronger appetite for riskier assets weighs ongreenback-denominated gold.    Bullion rose to a near 7-year peak of $1,610.90 last weekafter a U.S. drone strike killed a top Iranian commander inBaghdad and Iran launched missiles against U.S. bases in Iraq inretaliation.    The rally, however, faded with a lack of further militaryescalation in the region.                             The United States imposed more sanctions on Iran on Fridayand vowed to tighten the economic screws if Tehran continued\"terrorist\" acts or pursued a nuclear bomb.                  \"The tensions between U.S. and Iran seems to have calmeddown a little bit, at least for the time being, and people arejust taking profits on that,\" said Afshin Nabavi, senior vicepresident at precious metals trader MKS SA.    Reflecting investor sentiment, holdings of the world\\'slargest gold-backed exchange-traded fund, SPDR Gold Trust      ,fell 0.9% to 874.52 tonnes on Friday, their lowest since Sept.16.              On the technical front, gold is testing the support level of$1,550 and a fall below that would be a negative signal, openingspace for further declines, Carlo Alberto De Casa, Chief analystat ActivTrades said in a note.    Elsewhere, palladium        rose 1.2% to $2,142.52 an ounce.Silver        was down 0.5% at $18, while platinum        fell0.5% to $973.32. \u001b[0m\u001b[32m(\u001b[0m\u001b[32mReporting by K. Sathya Narayanan in Bengaluru; editing byEmelia Sithole-Matarise and Louise Heavens\u001b[0m\u001b[32m)\u001b[0m\u001b[32m'\u001b[0m\n",
       "\u001b[1m}\u001b[0m"
      ]
     },
     "execution_count": 43,
     "metadata": {},
     "output_type": "execute_result"
    }
   ],
   "source": [
    "article_infor"
   ]
  },
  {
   "cell_type": "code",
   "execution_count": 69,
   "metadata": {},
   "outputs": [],
   "source": [
    "# Converting the date to utc from zulu time\n",
    "from datetime import datetime as dt\n",
    "utc_dt = article_infor['datePublished'].replace(\"Z\",\"UTC\")\n",
    "dt_obj = pd.to_datetime(utc_dt)\n",
    "date = dt_obj.date()\n",
    "time = dt_obj.time()\n",
    "article_infor['date'] = str(date)\n",
    "article_infor['time'] = str(time)"
   ]
  },
  {
   "cell_type": "code",
   "execution_count": 70,
   "metadata": {},
   "outputs": [
    {
     "data": {
      "text/html": [
       "<pre style=\"white-space:pre;overflow-x:auto;line-height:normal;font-family:Menlo,'DejaVu Sans Mono',consolas,'Courier New',monospace\"></pre>\n"
      ],
      "text/plain": []
     },
     "metadata": {},
     "output_type": "display_data"
    },
    {
     "data": {
      "text/plain": [
       "\n",
       "\u001b[1m{\u001b[0m\n",
       "    \u001b[32m'link'\u001b[0m: \u001b[32m'https://www.reuters.com/article/global-precious/precious-gold-slips-1-ahead-of-u-s-china-trade-deal-idUSL4N29I246'\u001b[0m,\n",
       "    \u001b[32m'headline'\u001b[0m: \u001b[32m'PRECIOUS-Gold slips 1% ahead of U.S.-China trade deal'\u001b[0m,\n",
       "    \u001b[32m'datePublished'\u001b[0m: \u001b[32m'2020-01-13T11:35:26Z'\u001b[0m,\n",
       "    \u001b[32m'author'\u001b[0m: \u001b[32m'K. Sathya Narayanan'\u001b[0m,\n",
       "    \u001b[32m'type_of_author'\u001b[0m: \u001b[32m'Person'\u001b[0m,\n",
       "    \u001b[32m'publisher'\u001b[0m: \u001b[32m'Reuters'\u001b[0m,\n",
       "    \u001b[32m'type_of_publisher'\u001b[0m: \u001b[32m'Organization'\u001b[0m,\n",
       "    \u001b[32m'full_text'\u001b[0m: \u001b[32m'\u001b[0m\u001b[32m(\u001b[0m\u001b[32mUpdates prices\u001b[0m\u001b[32m)\u001b[0m\u001b[32m    * U.S., China due to sign trade deal on Wednesday    * SPDR Gold holdings fall to lowest since Sept. 16 on Friday    By K. Sathya Narayanan    Jan 13 \u001b[0m\u001b[32m(\u001b[0m\u001b[32mReuters\u001b[0m\u001b[32m)\u001b[0m\u001b[32m - Gold prices fell 1% on Monday as optimismin equity markets ahead of the signing of an interim U.S.-Chinatrade deal and lack of further escalation in Middle Easttensions diminished bullion\\'s safe-haven appeal.    The U.S.-China Phase 1 agreement is due to be signed at theWhite House on Wednesday.                 Spot gold        dipped 0.5% to $1,553.60 per ounce as of1246 GMT, having fallen 1% to $1,546.27 earlier in the session.    U.S. gold futures         fell 0.4% to $1,554.50.    \"We are struggling \u001b[0m\u001b[32m(\u001b[0m\u001b[32ma\u001b[0m\u001b[32m)\u001b[0m\u001b[32m little bit with the details. It\\'ll bequite interesting to see if there is any concrete guidance inthe details of the phase-one deal,\" said Julius Baer analystCarsten Menke.    \"Also, the news that the Chinese and the U.S. would meet onsemi-annual basis to discuss trade, I imagine was somethingwhich wasn\\'t expected by the market, and could be weighing ongold.\"    A Wall Street Journal report said on Saturday Washington andBeijing had agreed to semi-annual talks aimed at pushing forreforms in both countries and resolving disputes.                 The positive sentiment ahead of the planned signing boostedglobal equities, which were hovering just below record levels,while the U.S. dollar gained against key rivals.                      Stronger appetite for riskier assets weighs ongreenback-denominated gold.    Bullion rose to a near 7-year peak of $1,610.90 last weekafter a U.S. drone strike killed a top Iranian commander inBaghdad and Iran launched missiles against U.S. bases in Iraq inretaliation.    The rally, however, faded with a lack of further militaryescalation in the region.                             The United States imposed more sanctions on Iran on Fridayand vowed to tighten the economic screws if Tehran continued\"terrorist\" acts or pursued a nuclear bomb.                  \"The tensions between U.S. and Iran seems to have calmeddown a little bit, at least for the time being, and people arejust taking profits on that,\" said Afshin Nabavi, senior vicepresident at precious metals trader MKS SA.    Reflecting investor sentiment, holdings of the world\\'slargest gold-backed exchange-traded fund, SPDR Gold Trust      ,fell 0.9% to 874.52 tonnes on Friday, their lowest since Sept.16.              On the technical front, gold is testing the support level of$1,550 and a fall below that would be a negative signal, openingspace for further declines, Carlo Alberto De Casa, Chief analystat ActivTrades said in a note.    Elsewhere, palladium        rose 1.2% to $2,142.52 an ounce.Silver        was down 0.5% at $18, while platinum        fell0.5% to $973.32. \u001b[0m\u001b[32m(\u001b[0m\u001b[32mReporting by K. Sathya Narayanan in Bengaluru; editing byEmelia Sithole-Matarise and Louise Heavens\u001b[0m\u001b[32m)\u001b[0m\u001b[32m'\u001b[0m,\n",
       "    \u001b[32m'date'\u001b[0m: \u001b[32m'2020-01-13'\u001b[0m,\n",
       "    \u001b[32m'time'\u001b[0m: \u001b[32m'11:35:26'\u001b[0m\n",
       "\u001b[1m}\u001b[0m"
      ]
     },
     "execution_count": 70,
     "metadata": {},
     "output_type": "execute_result"
    }
   ],
   "source": [
    "article_infor"
   ]
  },
  {
   "cell_type": "code",
   "execution_count": null,
   "metadata": {},
   "outputs": [],
   "source": [
    "# Function to scrap article_links from page url\n"
   ]
  }
 ],
 "metadata": {
  "kernelspec": {
   "display_name": "Kedro (gold_analysis)",
   "language": "python",
   "name": "kedro_gold_analysis"
  },
  "language_info": {
   "codemirror_mode": {
    "name": "ipython",
    "version": 3
   },
   "file_extension": ".py",
   "mimetype": "text/x-python",
   "name": "python",
   "nbconvert_exporter": "python",
   "pygments_lexer": "ipython3",
   "version": "3.11.4"
  },
  "orig_nbformat": 4
 },
 "nbformat": 4,
 "nbformat_minor": 2
}
