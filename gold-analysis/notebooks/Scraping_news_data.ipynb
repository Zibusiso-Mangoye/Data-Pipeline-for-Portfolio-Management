{
 "cells": [
  {
   "cell_type": "code",
   "execution_count": 1,
   "metadata": {},
   "outputs": [],
   "source": [
    "import requests\n",
    "from bs4 import BeautifulSoup"
   ]
  },
  {
   "cell_type": "code",
   "execution_count": null,
   "metadata": {},
   "outputs": [],
   "source": [
    "base_url = \"https://www.reuters.com\""
   ]
  },
  {
   "cell_type": "code",
   "execution_count": 4,
   "metadata": {},
   "outputs": [],
   "source": [
    "page_endpoint = \"/news/archive/goldMktRpt?page=\"\n",
    "page_number = 394\n",
    "page_url = f\"{base_url}{page_endpoint}{page_number}\"\n",
    "response = requests.get(page_url)\n",
    "if response.status_code != 200:\n",
    "    print(f\"Failed to retrieve page {page_number}\")\n",
    "\n",
    "soup = BeautifulSoup(response.text, 'html.parser')\n",
    "# open the file in w mode\n",
    "# set encoding to UTF-8\n",
    "with open(\"news_page.html\", \"w\", encoding = 'utf-8') as file:\n",
    "    \n",
    "    # prettify the soup object and convert it into a string  \n",
    "    file.write(str(soup.prettify()))"
   ]
  },
  {
   "cell_type": "code",
   "execution_count": 31,
   "metadata": {},
   "outputs": [
    {
     "name": "stdout",
     "output_type": "stream",
     "text": [
      "https://www.reuters.com/news/archive/goldMktRpt?page=394/article/global-precious/precious-gold-firms-on-renewed-u-s-iran-tensions-eyes-fifth-weekly-gain-idUSL4N29F31F\n",
      "PRECIOUS-Gold firms on renewed U.S.-Iran tensions, eyes fifth weekly gain\n",
      "https://www.reuters.com/news/archive/goldMktRpt?page=394/article/global-precious/precious-gold-extends-fall-as-fading-middle-east-tensions-boost-risk-appetite-idUSL4N29F29I\n",
      "PRECIOUS-Gold extends fall as fading Middle East tensions boost risk appetite\n",
      "https://www.reuters.com/news/archive/goldMktRpt?page=394/article/global-precious/precious-gold-inches-lower-amid-rising-equities-as-mideast-tensions-fade-idUSL4N29F0TM\n",
      "PRECIOUS-Gold inches lower amid rising equities as Mideast tensions fade\n",
      "https://www.reuters.com/news/archive/goldMktRpt?page=394/article/global-precious/precious-gold-inches-down-as-easing-u-s-iran-tensions-whet-risk-appetite-idUSL4N29F064\n",
      "PRECIOUS-Gold inches down as easing U.S.-Iran tensions whet risk appetite\n",
      "https://www.reuters.com/news/archive/goldMktRpt?page=394/article/global-precious/precious-golds-rally-fizzles-on-de-escalating-u-s-iran-tensions-idUSL4N29E3AT\n",
      "PRECIOUS-Gold's rally fizzles on de-escalating U.S.-Iran tensions\n",
      "https://www.reuters.com/news/archive/goldMktRpt?page=394/article/global-precious/precious-gold-slides-from-near-7-year-peak-as-u-s-iran-fears-subside-idUSL4N29E2G2\n",
      "PRECIOUS-Gold slides from near 7-year peak as U.S.-Iran fears subside\n",
      "https://www.reuters.com/news/archive/goldMktRpt?page=394/article/global-precious/precious-gold-drops-from-7-year-highs-as-u-s-iran-worries-abate-idUSL4N29E0T4\n",
      "PRECIOUS-Gold drops from 7-year highs as U.S.-Iran worries abate\n",
      "https://www.reuters.com/news/archive/goldMktRpt?page=394/article/global-precious/precious-gold-little-changed-as-fears-of-larger-u-s-iran-conflict-ease-idUSL4N29E04T\n",
      "PRECIOUS-Gold little changed as fears of larger U.S.-Iran conflict ease\n",
      "https://www.reuters.com/news/archive/goldMktRpt?page=394/article/global-precious/precious-gold-tumbles-as-trump-allays-middle-east-worries-idUSL4N29D3XN\n",
      "PRECIOUS-Gold tumbles as Trump allays Middle East worries\n",
      "https://www.reuters.com/news/archive/goldMktRpt?page=394/article/global-precious/precious-gold-eases-off-7-year-peak-as-middle-east-worries-abate-idUSL4N29D3OG\n",
      "PRECIOUS-Gold eases off 7-year peak as Middle East worries abate\n",
      "https://www.reuters.com/news/archive/goldMktRpt?page=394/article/us-usa-election-schumer/democrat-schumer-republicans-have-no-legal-case-in-challenging-u-s-presidential-election-idUSKBN27Q34K\n",
      "Democrat Schumer: Republicans have no legal case in challenging U.S. presidential election\n",
      "https://www.reuters.com/news/archive/goldMktRpt?page=394/article/us-usa-election-transition-biden/biden-camp-considers-legal-action-over-agencys-delay-in-recognizing-transition-idUSKBN27Q04I\n",
      "Biden camp considers legal action over agency's delay in recognizing transition\n",
      "https://www.reuters.com/news/archive/goldMktRpt?page=394/article/us-usa-election-legal-challenges-factbox/factbox-trump-campaign-sues-pennsylvania-to-stop-biden-win-adds-to-election-lawsuits-idUSKBN27Q2VS\n",
      "Factbox: Trump campaign sues Pennsylvania to stop Biden win, adds to election lawsuits\n"
     ]
    }
   ],
   "source": [
    "\n",
    "article_infor = {}\n",
    "articles = soup.find_all('div', class_='story-content')\n",
    "for article in articles:\n",
    "    article_link = f\"{base_url}{article.a.attrs['href']}\")\n",
    "    article_headline = article.a.text.strip()"
   ]
  }
 ],
 "metadata": {
  "kernelspec": {
   "display_name": "Kedro (gold_analysis)",
   "language": "python",
   "name": "kedro_gold_analysis"
  },
  "language_info": {
   "codemirror_mode": {
    "name": "ipython",
    "version": 3
   },
   "file_extension": ".py",
   "mimetype": "text/x-python",
   "name": "python",
   "nbconvert_exporter": "python",
   "pygments_lexer": "ipython3",
   "version": "3.11.4"
  },
  "orig_nbformat": 4
 },
 "nbformat": 4,
 "nbformat_minor": 2
}
