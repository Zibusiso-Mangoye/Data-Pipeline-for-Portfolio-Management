{
 "cells": [
  {
   "cell_type": "code",
   "execution_count": 1,
   "metadata": {},
   "outputs": [],
   "source": [
    "import requests\n",
    "from bs4 import BeautifulSoup"
   ]
  },
  {
   "cell_type": "code",
   "execution_count": 2,
   "metadata": {},
   "outputs": [],
   "source": [
    "# Base url \n",
    "base_url = \"https://www.reuters.com\""
   ]
  },
  {
   "cell_type": "code",
   "execution_count": 3,
   "metadata": {},
   "outputs": [],
   "source": [
    "# Endpoint to the page containing articles\n",
    "page_endpoint = \"/news/archive/goldMktRpt?page=\"\n",
    "\n",
    "# Here focus is on one page however there are 394 more pages to be considered\n",
    "page_number = 394\n",
    "\n",
    "# Full page url created by combining the base url, endpoint and the page number\n",
    "# Pagination\n",
    "page_url = f\"{base_url}{page_endpoint}{page_number}\"\n",
    "\n",
    "# Send a request to the page url\n",
    "response = requests.get(page_url)\n",
    "if response.status_code != 200:\n",
    "    print(f\"Failed to retrieve page {page_number}\")\n",
    "\n",
    "# Soup object for the page and parsing it\n",
    "page_soup = BeautifulSoup(response.text, 'html.parser')\n",
    "\n",
    "# Saving the contents of the page for offline access and inspection \n",
    "with open(\"news_page.html\", \"w\", encoding = 'utf-8') as file:\n",
    "    ## prettify the soup object and convert it into a string  \n",
    "    file.write(str(page_soup.prettify()))"
   ]
  },
  {
   "cell_type": "code",
   "execution_count": 8,
   "metadata": {},
   "outputs": [
    {
     "name": "stdout",
     "output_type": "stream",
     "text": [
      "https://www.reuters.com/article/global-precious/precious-gold-slips-as-asian-equities-rise-ahead-of-sino-u-s-trade-deal-idUSL4N29I09V\n",
      "PRECIOUS-Gold slips as Asian equities rise ahead of Sino-U.S. trade deal\n",
      "https://www.reuters.com/article/global-precious/precious-gold-dips-on-sino-u-s-trade-optimism-firm-dollar-idUSL4N29I04S\n",
      "PRECIOUS-Gold dips on Sino-U.S. trade optimism, firm dollar\n",
      "https://www.reuters.com/article/global-precious/precious-gold-firms-on-renewed-u-s-iran-tensions-eyes-fifth-weekly-gain-idUSL4N29F31F\n",
      "PRECIOUS-Gold firms on renewed U.S.-Iran tensions, eyes fifth weekly gain\n",
      "https://www.reuters.com/article/global-precious/precious-gold-extends-fall-as-fading-middle-east-tensions-boost-risk-appetite-idUSL4N29F29I\n",
      "PRECIOUS-Gold extends fall as fading Middle East tensions boost risk appetite\n",
      "https://www.reuters.com/article/global-precious/precious-gold-inches-lower-amid-rising-equities-as-mideast-tensions-fade-idUSL4N29F0TM\n",
      "PRECIOUS-Gold inches lower amid rising equities as Mideast tensions fade\n",
      "https://www.reuters.com/article/global-precious/precious-gold-inches-down-as-easing-u-s-iran-tensions-whet-risk-appetite-idUSL4N29F064\n",
      "PRECIOUS-Gold inches down as easing U.S.-Iran tensions whet risk appetite\n",
      "https://www.reuters.com/article/global-precious/precious-golds-rally-fizzles-on-de-escalating-u-s-iran-tensions-idUSL4N29E3AT\n",
      "PRECIOUS-Gold's rally fizzles on de-escalating U.S.-Iran tensions\n",
      "https://www.reuters.com/article/global-precious/precious-gold-slides-from-near-7-year-peak-as-u-s-iran-fears-subside-idUSL4N29E2G2\n",
      "PRECIOUS-Gold slides from near 7-year peak as U.S.-Iran fears subside\n",
      "https://www.reuters.com/article/global-precious/precious-gold-drops-from-7-year-highs-as-u-s-iran-worries-abate-idUSL4N29E0T4\n",
      "PRECIOUS-Gold drops from 7-year highs as U.S.-Iran worries abate\n",
      "https://www.reuters.com/article/global-precious/precious-gold-little-changed-as-fears-of-larger-u-s-iran-conflict-ease-idUSL4N29E04T\n",
      "PRECIOUS-Gold little changed as fears of larger U.S.-Iran conflict ease\n",
      "https://www.reuters.com/article/us-usa-election-biden-trump/biden-calls-trumps-refusal-to-concede-election-an-embarrassment-idUSKBN27Q35L\n",
      "Biden calls Trump's refusal to concede election an 'embarrassment'\n",
      "https://www.reuters.com/article/us-usa-election-congress-republicans/u-s-republicans-hint-at-limited-time-for-trump-to-make-his-post-election-case-idUSKBN27Q350\n",
      "U.S. Republicans hint at limited time for Trump to make his post-election case\n",
      "https://www.reuters.com/article/us-usa-election-biden/president-elect-biden-says-nothing-will-stop-the-transfer-of-power-idUSKBN27Q348\n",
      "President-Elect Biden says nothing will stop the transfer of power\n"
     ]
    }
   ],
   "source": [
    "# Data structure to store article infor\n",
    "# Article infor to be acquired:\n",
    "#       date\n",
    "#       time\n",
    "#       link\n",
    "#       author\n",
    "#       type_of_author\n",
    "#       publisher\n",
    "#       type_of_publisher\n",
    "#       headline\n",
    "#       full_text\n",
    "\n",
    "article_infor = {}\n",
    "articles = page_soup.find_all('div', class_='story-content')\n",
    "for article in articles:\n",
    "    print(f\"{base_url}{article.a.attrs['href']}\")\n",
    "    print(article.a.text.strip())"
   ]
  },
  {
   "cell_type": "code",
   "execution_count": 10,
   "metadata": {},
   "outputs": [
    {
     "data": {
      "text/html": [
       "<pre style=\"white-space:pre;overflow-x:auto;line-height:normal;font-family:Menlo,'DejaVu Sans Mono',consolas,'Courier New',monospace\"></pre>\n"
      ],
      "text/plain": []
     },
     "metadata": {},
     "output_type": "display_data"
    },
    {
     "data": {
      "text/plain": [
       "\u001b[32m'https://www.reuters.com/article/global-precious/precious-gold-slips-as-asian-equities-rise-ahead-of-sino-u-s-trade-deal-idUSL4N29I09V'\u001b[0m"
      ]
     },
     "execution_count": 10,
     "metadata": {},
     "output_type": "execute_result"
    }
   ],
   "source": [
    "article_link = f\"{base_url}{articles[0].a.attrs['href']}\"\n",
    "article_link"
   ]
  },
  {
   "cell_type": "code",
   "execution_count": 11,
   "metadata": {},
   "outputs": [],
   "source": [
    "\n",
    "response = requests.get(article_link)\n",
    "if response.status_code != 200:\n",
    "    print(f\"Failed to retrieve article with link :  {article_link}\")\n",
    "\n",
    "article_soup = BeautifulSoup(response.text, 'html.parser')\n",
    "# open the file in w mode\n",
    "# set encoding to UTF-8\n",
    "with open(\"article_page.html\", \"w\", encoding = 'utf-8') as file:\n",
    "    \n",
    "    # prettify the soup object and convert it into a string  \n",
    "    file.write(str(article_soup.prettify()))"
   ]
  },
  {
   "cell_type": "code",
   "execution_count": 29,
   "metadata": {},
   "outputs": [
    {
     "data": {
      "text/html": [
       "<pre style=\"white-space:pre;overflow-x:auto;line-height:normal;font-family:Menlo,'DejaVu Sans Mono',consolas,'Courier New',monospace\"></pre>\n"
      ],
      "text/plain": []
     },
     "metadata": {},
     "output_type": "display_data"
    },
    {
     "data": {
      "text/plain": [
       "\u001b[1m<\u001b[0m\u001b[1;95mscript\u001b[0m\u001b[39m \u001b[0m\u001b[33mtype\u001b[0m\u001b[39m=\u001b[0m\u001b[32m\"application\u001b[0m\u001b[32m/ld+json\"\u001b[0m\u001b[39m>\u001b[0m\u001b[1;39m{\u001b[0m\u001b[32m\"@context\"\u001b[0m\u001b[39m:\u001b[0m\u001b[32m\"http://schema.org\"\u001b[0m\u001b[39m,\u001b[0m\u001b[32m\"@type\"\u001b[0m\u001b[39m:\u001b[0m\u001b[32m\"NewsArticle\"\u001b[0m\u001b[39m,\u001b[0m\u001b[32m\"mainEntityOfPage\"\u001b[0m\u001b[39m:\u001b[0m\u001b[1;39m{\u001b[0m\u001b[32m\"@type\"\u001b[0m\u001b[39m:\u001b[0m\u001b[32m\"WebPage\"\u001b[0m\u001b[39m,\u001b[0m\u001b[32m\"@id\"\u001b[0m\u001b[39m:\u001b[0m\u001b[32m\"https://www.reuters.com/article/global-precious-idUSL4N29I09V\"\u001b[0m\u001b[1;39m}\u001b[0m\u001b[39m,\u001b[0m\u001b[32m\"headline\"\u001b[0m\u001b[39m:\u001b[0m\u001b[32m\"PRECIOUS-Gold slips as Asian equities rise ahead of Sino-U.S. trade deal\"\u001b[0m\u001b[39m,\u001b[0m\u001b[32m\"url\"\u001b[0m\u001b[39m:\u001b[0m\u001b[32m\"https://www.reuters.com/article/global-precious-idUSL4N29I09V\"\u001b[0m\u001b[39m,\u001b[0m\u001b[32m\"image\"\u001b[0m\u001b[39m:\u001b[0m\u001b[1;39m{\u001b[0m\u001b[32m\"@type\"\u001b[0m\u001b[39m:\u001b[0m\u001b[32m\"ImageObject\"\u001b[0m\u001b[39m,\u001b[0m\u001b[32m\"url\"\u001b[0m\u001b[39m:\u001b[0m\u001b[32m\"https://s1.reutersmedia.net/resources_v2/images/rcom-default.png?\u001b[0m\u001b[32mw\u001b[0m\u001b[32m=\u001b[0m\u001b[32m800\"\u001b[0m\u001b[39m,\u001b[0m\u001b[32m\"width\"\u001b[0m\u001b[39m:\u001b[0m\u001b[32m\"800\"\u001b[0m\u001b[39m,\u001b[0m\u001b[32m\"height\"\u001b[0m\u001b[39m:\u001b[0m\u001b[32m\"800\"\u001b[0m\u001b[1;39m}\u001b[0m\u001b[39m,\u001b[0m\u001b[32m\"thumbnailUrl\"\u001b[0m\u001b[39m:\u001b[0m\u001b[32m\"https://s1.reutersmedia.net/resources_v2/images/rcom-default.png?\u001b[0m\u001b[32mw\u001b[0m\u001b[32m=\u001b[0m\u001b[32m800\"\u001b[0m\u001b[39m,\u001b[0m\u001b[32m\"dateCreated\"\u001b[0m\u001b[39m:\u001b[0m\u001b[32m\"2020-01-13T05:00:07Z\"\u001b[0m\u001b[39m,\u001b[0m\u001b[32m\"dateModified\"\u001b[0m\u001b[39m:\u001b[0m\u001b[32m\"2020-01-13T08:10:19Z\"\u001b[0m\u001b[39m,\u001b[0m\u001b[32m\"datePublished\"\u001b[0m\u001b[39m:\u001b[0m\u001b[32m\"2020-01-13T05:00:07Z\"\u001b[0m\u001b[39m,\u001b[0m\u001b[32m\"author\"\u001b[0m\u001b[39m:\u001b[0m\u001b[1;39m{\u001b[0m\u001b[32m\"@type\"\u001b[0m\u001b[39m:\u001b[0m\u001b[32m\"Person\"\u001b[0m\u001b[39m,\u001b[0m\u001b[32m\"name\"\u001b[0m\u001b[39m:\u001b[0m\u001b[32m\"Asha Sistla\"\u001b[0m\u001b[1;39m}\u001b[0m\u001b[39m,\u001b[0m\u001b[32m\"publisher\"\u001b[0m\u001b[39m:\u001b[0m\u001b[1;39m{\u001b[0m\u001b[32m\"@type\"\u001b[0m\u001b[39m:\u001b[0m\u001b[32m\"Organization\"\u001b[0m\u001b[39m,\u001b[0m\u001b[32m\"name\"\u001b[0m\u001b[39m:\u001b[0m\u001b[32m\"Reuters\"\u001b[0m\u001b[39m,\u001b[0m\u001b[32m\"logo\"\u001b[0m\u001b[39m:\u001b[0m\u001b[1;39m{\u001b[0m\u001b[32m\"@type\"\u001b[0m\u001b[39m:\u001b[0m\u001b[32m\"ImageObject\"\u001b[0m\u001b[39m,\u001b[0m\u001b[32m\"url\"\u001b[0m\u001b[39m:\u001b[0m\u001b[32m\"https://s3.reutersmedia.net/resources_v2/images/reuters_social_logo.png\"\u001b[0m\u001b[39m,\u001b[0m\u001b[32m\"width\"\u001b[0m\u001b[39m:\u001b[0m\u001b[32m\"200\"\u001b[0m\u001b[39m,\u001b[0m\u001b[32m\"height\"\u001b[0m\u001b[39m:\u001b[0m\u001b[32m\"200\"\u001b[0m\u001b[1;39m}\u001b[0m\u001b[1;39m}\u001b[0m\u001b[39m,\u001b[0m\u001b[32m\"description\"\u001b[0m\u001b[39m:\u001b[0m\u001b[32m\"\u001b[0m\u001b[32m(\u001b[0m\u001b[32mUpdates prices\u001b[0m\u001b[32m)\u001b[0m\u001b[32m * U.S., China due to sign trade deal on Wednesday * SPDR Gold holdings fall to lowest since Sept. 16 on Friday * Gold specs raise bullish positions in week to Jan. 7 By Asha Sistla Jan 13 \u001b[0m\u001b[32m(\u001b[0m\u001b[32mReuters\u001b[0m\u001b[32m)\u001b[0m\u001b[32m - Gold prices fell on Monday as Asian stocks touched 19-...\"\u001b[0m\u001b[39m,\u001b[0m\u001b[32m\"articleSection\"\u001b[0m\u001b[39m:\u001b[0m\u001b[32m\"Gold Market Report\"\u001b[0m\u001b[39m,\u001b[0m\u001b[32m\"creator\"\u001b[0m\u001b[39m:\u001b[0m\u001b[1;39m[\u001b[0m\u001b[32m\"Asha Sistla\"\u001b[0m\u001b[1;39m]\u001b[0m\u001b[39m,\u001b[0m\u001b[32m\"keywords\"\u001b[0m\u001b[39m:\u001b[0m\u001b[1;39m[\u001b[0m\u001b[1;39m[\u001b[0m\u001b[32m\"GLOBAL\"\u001b[0m\u001b[39m,\u001b[0m\u001b[32m\"PRECIOUS/ \u001b[0m\u001b[32m(\u001b[0m\u001b[32mUPDATE 3\u001b[0m\u001b[32m)\u001b[0m\u001b[32m\"\u001b[0m\u001b[39m,\u001b[0m\u001b[32m\"Americas\"\u001b[0m\u001b[39m,\u001b[0m\u001b[32m\"Asia / Pacific\"\u001b[0m\u001b[39m,\u001b[0m\u001b[32m\"Basic Materials \u001b[0m\u001b[32m(\u001b[0m\u001b[32mTRBC level 1\u001b[0m\u001b[32m)\u001b[0m\u001b[32m\"\u001b[0m\u001b[39m,\u001b[0m\u001b[32m\"Commodities Markets\"\u001b[0m\u001b[39m,\u001b[0m\u001b[32m\"Europe\"\u001b[0m\u001b[39m,\u001b[0m\u001b[32m\"United Kingdom\"\u001b[0m\u001b[39m,\u001b[0m\u001b[32m\"Gold\"\u001b[0m\u001b[39m,\u001b[0m\u001b[32m\"Metals Markets\"\u001b[0m\u001b[39m,\u001b[0m\u001b[32m\"Mining\"\u001b[0m\u001b[39m,\u001b[0m\u001b[32m\"Mineral Resources \u001b[0m\u001b[32m(\u001b[0m\u001b[32mTRBC level 2\u001b[0m\u001b[32m)\u001b[0m\u001b[32m\"\u001b[0m\u001b[39m,\u001b[0m\u001b[32m\"Metals & Mining \u001b[0m\u001b[32m(\u001b[0m\u001b[32mTRBC level 3\u001b[0m\u001b[32m)\u001b[0m\u001b[32m\"\u001b[0m\u001b[39m,\u001b[0m\u001b[32m\"North America\"\u001b[0m\u001b[39m,\u001b[0m\u001b[32m\"Palladium\"\u001b[0m\u001b[39m,\u001b[0m\u001b[32m\"Platinum Group Metals\"\u001b[0m\u001b[39m,\u001b[0m\u001b[32m\"Platinum\"\u001b[0m\u001b[39m,\u001b[0m\u001b[32m\"Non-Gold Precious Metals & Minerals \u001b[0m\u001b[32m(\u001b[0m\u001b[32mTRBC level 4\u001b[0m\u001b[32m)\u001b[0m\u001b[32m\"\u001b[0m\u001b[39m,\u001b[0m\u001b[32m\"All Precious Metals and Minerals\"\u001b[0m\u001b[39m,\u001b[0m\u001b[32m\"Precious Metals\"\u001b[0m\u001b[39m,\u001b[0m\u001b[32m\"Silver\"\u001b[0m\u001b[39m,\u001b[0m\u001b[32m\"United States\"\u001b[0m\u001b[39m,\u001b[0m\u001b[32m\"Western Europe\"\u001b[0m\u001b[1;39m]\u001b[0m\u001b[1;39m]\u001b[0m\u001b[39m,\u001b[0m\u001b[32m\"about\"\u001b[0m\u001b[39m:\u001b[0m\u001b[32m\"Article\"\u001b[0m\u001b[1;39m}\u001b[0m\u001b[39m<\u001b[0m\u001b[35m/\u001b[0m\u001b[95mscript\u001b[0m\u001b[1m>\u001b[0m"
      ]
     },
     "execution_count": 29,
     "metadata": {},
     "output_type": "execute_result"
    }
   ],
   "source": [
    "article_json_meta_data = article_soup.find('script', type=\"application/ld+json\")\n",
    "article_json_meta_data"
   ]
  },
  {
   "cell_type": "code",
   "execution_count": 30,
   "metadata": {},
   "outputs": [
    {
     "data": {
      "text/html": [
       "<pre style=\"white-space:pre;overflow-x:auto;line-height:normal;font-family:Menlo,'DejaVu Sans Mono',consolas,'Courier New',monospace\"></pre>\n"
      ],
      "text/plain": []
     },
     "metadata": {},
     "output_type": "display_data"
    },
    {
     "data": {
      "text/plain": [
       "\u001b[32m'\u001b[0m\u001b[32m{\u001b[0m\u001b[32m\"@context\":\"http://schema.org\",\"@type\":\"NewsArticle\",\"mainEntityOfPage\":\u001b[0m\u001b[32m{\u001b[0m\u001b[32m\"@type\":\"WebPage\",\"@id\":\"https://www.reuters.com/article/global-precious-idUSL4N29I09V\"\u001b[0m\u001b[32m}\u001b[0m\u001b[32m,\"headline\":\"PRECIOUS-Gold slips as Asian equities rise ahead of Sino-U.S. trade deal\",\"url\":\"https://www.reuters.com/article/global-precious-idUSL4N29I09V\",\"image\":\u001b[0m\u001b[32m{\u001b[0m\u001b[32m\"@type\":\"ImageObject\",\"url\":\"https://s1.reutersmedia.net/resources_v2/images/rcom-default.png?\u001b[0m\u001b[32mw\u001b[0m\u001b[32m=\u001b[0m\u001b[32m800\"\u001b[0m\u001b[32m,\"width\":\"800\",\"height\":\"800\"\u001b[0m\u001b[32m}\u001b[0m\u001b[32m,\"thumbnailUrl\":\"https://s1.reutersmedia.net/resources_v2/images/rcom-default.png?\u001b[0m\u001b[32mw\u001b[0m\u001b[32m=\u001b[0m\u001b[32m800\"\u001b[0m\u001b[32m,\"dateCreated\":\"2020-01-13T05:00:07Z\",\"dateModified\":\"2020-01-13T08:10:19Z\",\"datePublished\":\"2020-01-13T05:00:07Z\",\"author\":\u001b[0m\u001b[32m{\u001b[0m\u001b[32m\"@type\":\"Person\",\"name\":\"Asha Sistla\"\u001b[0m\u001b[32m}\u001b[0m\u001b[32m,\"publisher\":\u001b[0m\u001b[32m{\u001b[0m\u001b[32m\"@type\":\"Organization\",\"name\":\"Reuters\",\"logo\":\u001b[0m\u001b[32m{\u001b[0m\u001b[32m\"@type\":\"ImageObject\",\"url\":\"https://s3.reutersmedia.net/resources_v2/images/reuters_social_logo.png\",\"width\":\"200\",\"height\":\"200\"\u001b[0m\u001b[32m}\u001b[0m\u001b[32m}\u001b[0m\u001b[32m,\"description\":\"\u001b[0m\u001b[32m(\u001b[0m\u001b[32mUpdates prices\u001b[0m\u001b[32m)\u001b[0m\u001b[32m * U.S., China due to sign trade deal on Wednesday * SPDR Gold holdings fall to lowest since Sept. 16 on Friday * Gold specs raise bullish positions in week to Jan. 7 By Asha Sistla Jan 13 \u001b[0m\u001b[32m(\u001b[0m\u001b[32mReuters\u001b[0m\u001b[32m)\u001b[0m\u001b[32m - Gold prices fell on Monday as Asian stocks touched 19-...\",\"articleSection\":\"Gold Market Report\",\"creator\":\u001b[0m\u001b[32m[\u001b[0m\u001b[32m\"Asha Sistla\"\u001b[0m\u001b[32m]\u001b[0m\u001b[32m,\"keywords\":\u001b[0m\u001b[32m[\u001b[0m\u001b[32m[\u001b[0m\u001b[32m\"GLOBAL\",\"PRECIOUS/ \u001b[0m\u001b[32m(\u001b[0m\u001b[32mUPDATE 3\u001b[0m\u001b[32m)\u001b[0m\u001b[32m\",\"Americas\",\"Asia / Pacific\",\"Basic Materials \u001b[0m\u001b[32m(\u001b[0m\u001b[32mTRBC level 1\u001b[0m\u001b[32m)\u001b[0m\u001b[32m\",\"Commodities Markets\",\"Europe\",\"United Kingdom\",\"Gold\",\"Metals Markets\",\"Mining\",\"Mineral Resources \u001b[0m\u001b[32m(\u001b[0m\u001b[32mTRBC level 2\u001b[0m\u001b[32m)\u001b[0m\u001b[32m\",\"Metals & Mining \u001b[0m\u001b[32m(\u001b[0m\u001b[32mTRBC level 3\u001b[0m\u001b[32m)\u001b[0m\u001b[32m\",\"North America\",\"Palladium\",\"Platinum Group Metals\",\"Platinum\",\"Non-Gold Precious Metals & Minerals \u001b[0m\u001b[32m(\u001b[0m\u001b[32mTRBC level 4\u001b[0m\u001b[32m)\u001b[0m\u001b[32m\",\"All Precious Metals and Minerals\",\"Precious Metals\",\"Silver\",\"United States\",\"Western Europe\"\u001b[0m\u001b[32m]\u001b[0m\u001b[32m]\u001b[0m\u001b[32m,\"about\":\"Article\"\u001b[0m\u001b[32m}\u001b[0m\u001b[32m'\u001b[0m"
      ]
     },
     "execution_count": 30,
     "metadata": {},
     "output_type": "execute_result"
    }
   ],
   "source": [
    "article_json_meta_data.contents[0]"
   ]
  },
  {
   "cell_type": "code",
   "execution_count": 31,
   "metadata": {},
   "outputs": [
    {
     "data": {
      "text/html": [
       "<pre style=\"white-space:pre;overflow-x:auto;line-height:normal;font-family:Menlo,'DejaVu Sans Mono',consolas,'Courier New',monospace\"></pre>\n"
      ],
      "text/plain": []
     },
     "metadata": {},
     "output_type": "display_data"
    },
    {
     "data": {
      "text/plain": [
       "\n",
       "\u001b[1m{\u001b[0m\n",
       "    \u001b[32m'@context'\u001b[0m: \u001b[32m'http://schema.org'\u001b[0m,\n",
       "    \u001b[32m'@type'\u001b[0m: \u001b[32m'NewsArticle'\u001b[0m,\n",
       "    \u001b[32m'mainEntityOfPage'\u001b[0m: \u001b[1m{\u001b[0m\n",
       "        \u001b[32m'@type'\u001b[0m: \u001b[32m'WebPage'\u001b[0m,\n",
       "        \u001b[32m'@id'\u001b[0m: \u001b[32m'https://www.reuters.com/article/global-precious-idUSL4N29I09V'\u001b[0m\n",
       "    \u001b[1m}\u001b[0m,\n",
       "    \u001b[32m'headline'\u001b[0m: \u001b[32m'PRECIOUS-Gold slips as Asian equities rise ahead of Sino-U.S. trade deal'\u001b[0m,\n",
       "    \u001b[32m'url'\u001b[0m: \u001b[32m'https://www.reuters.com/article/global-precious-idUSL4N29I09V'\u001b[0m,\n",
       "    \u001b[32m'image'\u001b[0m: \u001b[1m{\u001b[0m\n",
       "        \u001b[32m'@type'\u001b[0m: \u001b[32m'ImageObject'\u001b[0m,\n",
       "        \u001b[32m'url'\u001b[0m: \u001b[32m'https://s1.reutersmedia.net/resources_v2/images/rcom-default.png?\u001b[0m\u001b[32mw\u001b[0m\u001b[32m=\u001b[0m\u001b[32m800\u001b[0m\u001b[32m'\u001b[0m,\n",
       "        \u001b[32m'width'\u001b[0m: \u001b[32m'800'\u001b[0m,\n",
       "        \u001b[32m'height'\u001b[0m: \u001b[32m'800'\u001b[0m\n",
       "    \u001b[1m}\u001b[0m,\n",
       "    \u001b[32m'thumbnailUrl'\u001b[0m: \u001b[32m'https://s1.reutersmedia.net/resources_v2/images/rcom-default.png?\u001b[0m\u001b[32mw\u001b[0m\u001b[32m=\u001b[0m\u001b[32m800\u001b[0m\u001b[32m'\u001b[0m,\n",
       "    \u001b[32m'dateCreated'\u001b[0m: \u001b[32m'2020-01-13T05:00:07Z'\u001b[0m,\n",
       "    \u001b[32m'dateModified'\u001b[0m: \u001b[32m'2020-01-13T08:10:19Z'\u001b[0m,\n",
       "    \u001b[32m'datePublished'\u001b[0m: \u001b[32m'2020-01-13T05:00:07Z'\u001b[0m,\n",
       "    \u001b[32m'author'\u001b[0m: \u001b[1m{\u001b[0m\u001b[32m'@type'\u001b[0m: \u001b[32m'Person'\u001b[0m, \u001b[32m'name'\u001b[0m: \u001b[32m'Asha Sistla'\u001b[0m\u001b[1m}\u001b[0m,\n",
       "    \u001b[32m'publisher'\u001b[0m: \u001b[1m{\u001b[0m\n",
       "        \u001b[32m'@type'\u001b[0m: \u001b[32m'Organization'\u001b[0m,\n",
       "        \u001b[32m'name'\u001b[0m: \u001b[32m'Reuters'\u001b[0m,\n",
       "        \u001b[32m'logo'\u001b[0m: \u001b[1m{\u001b[0m\n",
       "            \u001b[32m'@type'\u001b[0m: \u001b[32m'ImageObject'\u001b[0m,\n",
       "            \u001b[32m'url'\u001b[0m: \u001b[32m'https://s3.reutersmedia.net/resources_v2/images/reuters_social_logo.png'\u001b[0m,\n",
       "            \u001b[32m'width'\u001b[0m: \u001b[32m'200'\u001b[0m,\n",
       "            \u001b[32m'height'\u001b[0m: \u001b[32m'200'\u001b[0m\n",
       "        \u001b[1m}\u001b[0m\n",
       "    \u001b[1m}\u001b[0m,\n",
       "    \u001b[32m'description'\u001b[0m: \u001b[32m'\u001b[0m\u001b[32m(\u001b[0m\u001b[32mUpdates prices\u001b[0m\u001b[32m)\u001b[0m\u001b[32m * U.S., China due to sign trade deal on Wednesday * SPDR Gold holdings fall to lowest since Sept. 16 on Friday * Gold specs raise bullish positions in week to Jan. 7 By Asha Sistla Jan 13 \u001b[0m\u001b[32m(\u001b[0m\u001b[32mReuters\u001b[0m\u001b[32m)\u001b[0m\u001b[32m - Gold prices fell on Monday as Asian stocks touched 19-...'\u001b[0m,\n",
       "    \u001b[32m'articleSection'\u001b[0m: \u001b[32m'Gold Market Report'\u001b[0m,\n",
       "    \u001b[32m'creator'\u001b[0m: \u001b[1m[\u001b[0m\u001b[32m'Asha Sistla'\u001b[0m\u001b[1m]\u001b[0m,\n",
       "    \u001b[32m'keywords'\u001b[0m: \u001b[1m[\u001b[0m\n",
       "        \u001b[1m[\u001b[0m\n",
       "            \u001b[32m'GLOBAL'\u001b[0m,\n",
       "            \u001b[32m'PRECIOUS/ \u001b[0m\u001b[32m(\u001b[0m\u001b[32mUPDATE 3\u001b[0m\u001b[32m)\u001b[0m\u001b[32m'\u001b[0m,\n",
       "            \u001b[32m'Americas'\u001b[0m,\n",
       "            \u001b[32m'Asia / Pacific'\u001b[0m,\n",
       "            \u001b[32m'Basic Materials \u001b[0m\u001b[32m(\u001b[0m\u001b[32mTRBC level 1\u001b[0m\u001b[32m)\u001b[0m\u001b[32m'\u001b[0m,\n",
       "            \u001b[32m'Commodities Markets'\u001b[0m,\n",
       "            \u001b[32m'Europe'\u001b[0m,\n",
       "            \u001b[32m'United Kingdom'\u001b[0m,\n",
       "            \u001b[32m'Gold'\u001b[0m,\n",
       "            \u001b[32m'Metals Markets'\u001b[0m,\n",
       "            \u001b[32m'Mining'\u001b[0m,\n",
       "            \u001b[32m'Mineral Resources \u001b[0m\u001b[32m(\u001b[0m\u001b[32mTRBC level 2\u001b[0m\u001b[32m)\u001b[0m\u001b[32m'\u001b[0m,\n",
       "            \u001b[32m'Metals & Mining \u001b[0m\u001b[32m(\u001b[0m\u001b[32mTRBC level 3\u001b[0m\u001b[32m)\u001b[0m\u001b[32m'\u001b[0m,\n",
       "            \u001b[32m'North America'\u001b[0m,\n",
       "            \u001b[32m'Palladium'\u001b[0m,\n",
       "            \u001b[32m'Platinum Group Metals'\u001b[0m,\n",
       "            \u001b[32m'Platinum'\u001b[0m,\n",
       "            \u001b[32m'Non-Gold Precious Metals & Minerals \u001b[0m\u001b[32m(\u001b[0m\u001b[32mTRBC level 4\u001b[0m\u001b[32m)\u001b[0m\u001b[32m'\u001b[0m,\n",
       "            \u001b[32m'All Precious Metals and Minerals'\u001b[0m,\n",
       "            \u001b[32m'Precious Metals'\u001b[0m,\n",
       "            \u001b[32m'Silver'\u001b[0m,\n",
       "            \u001b[32m'United States'\u001b[0m,\n",
       "            \u001b[32m'Western Europe'\u001b[0m\n",
       "        \u001b[1m]\u001b[0m\n",
       "    \u001b[1m]\u001b[0m,\n",
       "    \u001b[32m'about'\u001b[0m: \u001b[32m'Article'\u001b[0m\n",
       "\u001b[1m}\u001b[0m"
      ]
     },
     "execution_count": 31,
     "metadata": {},
     "output_type": "execute_result"
    }
   ],
   "source": [
    "import json\n",
    "\n",
    "json_data = json.loads(article_json_meta_data.contents[0])\n",
    "json_data"
   ]
  },
  {
   "cell_type": "code",
   "execution_count": 27,
   "metadata": {},
   "outputs": [
    {
     "data": {
      "text/html": [
       "<pre style=\"white-space:pre;overflow-x:auto;line-height:normal;font-family:Menlo,'DejaVu Sans Mono',consolas,'Courier New',monospace\"></pre>\n"
      ],
      "text/plain": []
     },
     "metadata": {},
     "output_type": "display_data"
    },
    {
     "data": {
      "text/plain": [
       "\u001b[32m'2020-01-13T05:00:07Z'\u001b[0m"
      ]
     },
     "execution_count": 27,
     "metadata": {},
     "output_type": "execute_result"
    }
   ],
   "source": [
    "json_data['datePublished']\n",
    "json_data['author']"
   ]
  },
  {
   "cell_type": "code",
   "execution_count": 13,
   "metadata": {},
   "outputs": [
    {
     "data": {
      "text/html": [
       "<pre style=\"white-space:pre;overflow-x:auto;line-height:normal;font-family:Menlo,'DejaVu Sans Mono',consolas,'Courier New',monospace\"></pre>\n"
      ],
      "text/plain": []
     },
     "metadata": {},
     "output_type": "display_data"
    },
    {
     "data": {
      "text/plain": [
       "\u001b[32m' \u001b[0m\u001b[32m(\u001b[0m\u001b[32mUpdates prices\u001b[0m\u001b[32m)\u001b[0m\u001b[32m\\n    * U.S., China due to sign trade deal on Wednesday\\n    * SPDR Gold holdings fall to lowest since Sept. 16 on Friday\\n    * Gold specs raise bullish positions in week to Jan. 7\\n\\n    By Asha Sistla\\n    Jan 13 \u001b[0m\u001b[32m(\u001b[0m\u001b[32mReuters\u001b[0m\u001b[32m)\u001b[0m\u001b[32m - Gold prices fell on Monday as Asian\\nstocks touched 19-month highs ahead of the planned signing of an\\ninterim trade deal between Washington and Beijing, which has\\nencouraged investors to plough back into riskier assets.\\n    Spot gold        dipped 0.6% to $1,552.42 per ounce by 0756\\nGMT. U.S. gold futures         fell 0.4% to $1,553.30.\\n    Asian shares rose to new 19-month highs ahead of the Phase 1\\ndeal due to be signed at the White House on Wednesday.\\n           \\n    \"Risk \u001b[0m\u001b[32m(\u001b[0m\u001b[32msentiment\u001b[0m\u001b[32m)\u001b[0m\u001b[32m looks pretty good in Asia, equity inflows\\nare coming \u001b[0m\u001b[32m(\u001b[0m\u001b[32malong\u001b[0m\u001b[32m)\u001b[0m\u001b[32m nicely, built around this trade narrative and\\nthat\\'s depressing gold more than the global risk-on move,\" said\\nStephen Innes, a market strategist at AxiTrader.\\n    \"There is dollar appetite in the market ... which is also\\ndepressing gold right now.\"\\n    U.S. Treasury Secretary Steven Mnuchin said on Sunday \\nChina\\'s commitments in the Phase 1 trade deal were not changed\\nduring a lengthy translation process and will be released this\\nweek.             \\n    Further easing concerns, a Wall Street Journal report said\\non Saturday Washington and Beijing had agreed to semi-annual\\ntalks aimed at pushing for reforms in both countries and\\nresolving disputes.             \\n    Gold prices gained 18% last year on the backdrop of the\\nprotracted trade tussle between the world\\'s top two economies.\\n    The dollar        firmed ahead of the deal signing, making\\ngold more expensive for buyers using other currencies.       \\n    Gold prices gained nearly 0.7% last week in volatile trading\\namid heightened U.S.-Iran tensions after the U.S. killing of a\\ntop Iranian commander in Baghdad and on slower-than-expected\\nU.S. job growth in December.                         \\n    The United States imposed more sanctions on Iran on Friday\\nand vowed to tighten the economic screws if Tehran continued\\n\"terrorist\" acts or pursued a nuclear bomb.                  \\n    \"The precious metal, though easing off previous highs over\\nde-escalating tensions \u001b[0m\u001b[32m(\u001b[0m\u001b[32mU.S.-Iran\u001b[0m\u001b[32m)\u001b[0m\u001b[32m, will remain of key\\nimportance as markets stay cautious over geopolitical happenings\\nin the current term,\" Benjamin Lu, an analyst at Phillip\\nFutures, said in a note.    \\n    Spot gold is biased to break a support at $1,546 per ounce\\nand fall towards $1,524, according to Reuters technical analyst\\nWang Tao.         \\n    Holdings of the world\\'s largest gold-backed exchange-traded\\nfund, SPDR Gold Trust      , fell 0.9% to 874.52 tonnes on\\nFriday, their lowest since Sept. 16.          \\n    Speculators increased their bullish positions in COMEX gold\\ncontracts in the week to Jan. 7.        \\n    Elsewhere, palladium        edged 0.1% lower to $2,116.54 an\\nounce. Silver        was down 0.7% to $17.97, while platinum\\n       fell 0.8% to $970.55.\\n\\n \u001b[0m\u001b[32m(\u001b[0m\u001b[32mReporting by Asha Sistla in Bengaluru; Editing by Shailesh\\nKuber, Subhranshu Sahu and Raju Gopalakrishnan\u001b[0m\u001b[32m)\u001b[0m\u001b[32m\\n  '\u001b[0m"
      ]
     },
     "execution_count": 13,
     "metadata": {},
     "output_type": "execute_result"
    }
   ],
   "source": [
    "article_text = article_soup.find('pre').text\n",
    "article_text"
   ]
  }
 ],
 "metadata": {
  "kernelspec": {
   "display_name": "Kedro (gold_analysis)",
   "language": "python",
   "name": "kedro_gold_analysis"
  },
  "language_info": {
   "codemirror_mode": {
    "name": "ipython",
    "version": 3
   },
   "file_extension": ".py",
   "mimetype": "text/x-python",
   "name": "python",
   "nbconvert_exporter": "python",
   "pygments_lexer": "ipython3",
   "version": "3.11.4"
  },
  "orig_nbformat": 4
 },
 "nbformat": 4,
 "nbformat_minor": 2
}
