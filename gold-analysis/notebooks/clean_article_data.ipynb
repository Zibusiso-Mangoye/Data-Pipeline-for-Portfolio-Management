{
 "cells": [
  {
   "cell_type": "code",
   "execution_count": 65,
   "metadata": {},
   "outputs": [],
   "source": [
    "import pandas as pd"
   ]
  },
  {
   "cell_type": "code",
   "execution_count": 66,
   "metadata": {},
   "outputs": [
    {
     "data": {
      "text/html": [
       "<pre style=\"white-space:pre;overflow-x:auto;line-height:normal;font-family:Menlo,'DejaVu Sans Mono',consolas,'Courier New',monospace\"><span style=\"color: #7fbfbf; text-decoration-color: #7fbfbf\">[10/19/23 09:54:11] </span><span style=\"color: #000080; text-decoration-color: #000080\">INFO    </span> Loading data from <span style=\"color: #008000; text-decoration-color: #008000\">'article_data'</span> <span style=\"font-weight: bold\">(</span>JSONDataSet<span style=\"font-weight: bold\">)</span><span style=\"color: #808000; text-decoration-color: #808000\">...</span>                  <a href=\"file:///usr/local/lib/python3.11/site-packages/kedro/io/data_catalog.py\" target=\"_blank\"><span style=\"color: #7f7f7f; text-decoration-color: #7f7f7f\">data_catalog.py</span></a><span style=\"color: #7f7f7f; text-decoration-color: #7f7f7f\">:</span><a href=\"file:///usr/local/lib/python3.11/site-packages/kedro/io/data_catalog.py#492\" target=\"_blank\"><span style=\"color: #7f7f7f; text-decoration-color: #7f7f7f\">492</span></a>\n",
       "</pre>\n"
      ],
      "text/plain": [
       "\u001b[2;36m[10/19/23 09:54:11]\u001b[0m\u001b[2;36m \u001b[0m\u001b[34mINFO    \u001b[0m Loading data from \u001b[32m'article_data'\u001b[0m \u001b[1m(\u001b[0mJSONDataSet\u001b[1m)\u001b[0m\u001b[33m...\u001b[0m                  \u001b]8;id=848897;file:///usr/local/lib/python3.11/site-packages/kedro/io/data_catalog.py\u001b\\\u001b[2mdata_catalog.py\u001b[0m\u001b]8;;\u001b\\\u001b[2m:\u001b[0m\u001b]8;id=985298;file:///usr/local/lib/python3.11/site-packages/kedro/io/data_catalog.py#492\u001b\\\u001b[2m492\u001b[0m\u001b]8;;\u001b\\\n"
      ]
     },
     "metadata": {},
     "output_type": "display_data"
    },
    {
     "data": {
      "text/html": [
       "<pre style=\"white-space:pre;overflow-x:auto;line-height:normal;font-family:Menlo,'DejaVu Sans Mono',consolas,'Courier New',monospace\"></pre>\n"
      ],
      "text/plain": []
     },
     "metadata": {},
     "output_type": "display_data"
    },
    {
     "data": {
      "text/html": [
       "<div>\n",
       "<style scoped>\n",
       "    .dataframe tbody tr th:only-of-type {\n",
       "        vertical-align: middle;\n",
       "    }\n",
       "\n",
       "    .dataframe tbody tr th {\n",
       "        vertical-align: top;\n",
       "    }\n",
       "\n",
       "    .dataframe thead th {\n",
       "        text-align: right;\n",
       "    }\n",
       "</style>\n",
       "<table border=\"1\" class=\"dataframe\">\n",
       "  <thead>\n",
       "    <tr style=\"text-align: right;\">\n",
       "      <th></th>\n",
       "      <th>datePublished</th>\n",
       "      <th>headline</th>\n",
       "      <th>full_text</th>\n",
       "      <th>author</th>\n",
       "      <th>type_of_author</th>\n",
       "    </tr>\n",
       "  </thead>\n",
       "  <tbody>\n",
       "    <tr>\n",
       "      <th>0</th>\n",
       "      <td>2023-10-13T19:32:01Z</td>\n",
       "      <td>Safe-haven gold rallies over 3% as Middle East...</td>\n",
       "      <td>\\n             Oct 13 (Reuters) - Gold prices ...</td>\n",
       "      <td>Ashitha Shivaprasad</td>\n",
       "      <td>Person</td>\n",
       "    </tr>\n",
       "    <tr>\n",
       "      <th>1</th>\n",
       "      <td>2023-10-12T04:00:07Z</td>\n",
       "      <td>Gold subdued as yields, dollar rise after US i...</td>\n",
       "      <td>\\n          By\\n          \\n           Ashitha...</td>\n",
       "      <td>Ashitha Shivaprasad</td>\n",
       "      <td>Person</td>\n",
       "    </tr>\n",
       "    <tr>\n",
       "      <th>2</th>\n",
       "      <td>2023-10-12T10:27:31Z</td>\n",
       "      <td>PRECIOUS-Gold scales two-week peak with focus ...</td>\n",
       "      <td>\\n          By\\n          \\n           Harshit...</td>\n",
       "      <td>Harshit Verma</td>\n",
       "      <td>Person</td>\n",
       "    </tr>\n",
       "    <tr>\n",
       "      <th>3</th>\n",
       "      <td>2023-10-12T04:01:01Z</td>\n",
       "      <td>PRECIOUS-Gold climbs as markets await US CPI d...</td>\n",
       "      <td>\\n          By\\n          \\n           Swati V...</td>\n",
       "      <td>Swati Verma</td>\n",
       "      <td>Person</td>\n",
       "    </tr>\n",
       "    <tr>\n",
       "      <th>4</th>\n",
       "      <td>2023-10-12T01:40:10Z</td>\n",
       "      <td>PRECIOUS-Gold firm ahead of US CPI data on cau...</td>\n",
       "      <td>\\n          By\\n          \\n           Reuters...</td>\n",
       "      <td>Reuters Staff</td>\n",
       "      <td>Person</td>\n",
       "    </tr>\n",
       "  </tbody>\n",
       "</table>\n",
       "</div>"
      ],
      "text/plain": [
       "\n",
       "          datePublished                                           headline  \\\n",
       "\u001b[1;36m0\u001b[0m  \u001b[1;36m2023\u001b[0m-\u001b[1;36m10\u001b[0m-13T\u001b[1;92m19:32:01\u001b[0mZ  Safe-haven gold rallies over \u001b[1;36m3\u001b[0m% as Middle East\u001b[33m...\u001b[0m   \n",
       "\u001b[1;36m1\u001b[0m  \u001b[1;36m2023\u001b[0m-\u001b[1;36m10\u001b[0m-12T\u001b[1;92m04:00:07\u001b[0mZ  Gold subdued as yields, dollar rise after US i\u001b[33m...\u001b[0m   \n",
       "\u001b[1;36m2\u001b[0m  \u001b[1;36m2023\u001b[0m-\u001b[1;36m10\u001b[0m-12T\u001b[1;92m10:27:31\u001b[0mZ  PRECIOUS-Gold scales two-week peak with focus \u001b[33m...\u001b[0m   \n",
       "\u001b[1;36m3\u001b[0m  \u001b[1;36m2023\u001b[0m-\u001b[1;36m10\u001b[0m-12T\u001b[1;92m04:01:01\u001b[0mZ  PRECIOUS-Gold climbs as markets await US CPI d\u001b[33m...\u001b[0m   \n",
       "\u001b[1;36m4\u001b[0m  \u001b[1;36m2023\u001b[0m-\u001b[1;36m10\u001b[0m-12T\u001b[1;92m01:40:10\u001b[0mZ  PRECIOUS-Gold firm ahead of US CPI data on cau\u001b[33m...\u001b[0m   \n",
       "\n",
       "                                           full_text               author  \\\n",
       "\u001b[1;36m0\u001b[0m  \\n             Oct \u001b[1;36m13\u001b[0m \u001b[1m(\u001b[0mReuters\u001b[1m)\u001b[0m - Gold prices \u001b[33m...\u001b[0m  Ashitha Shivaprasad   \n",
       "\u001b[1;36m1\u001b[0m  \\n          By\\n          \\n           Ashitha\u001b[33m...\u001b[0m  Ashitha Shivaprasad   \n",
       "\u001b[1;36m2\u001b[0m  \\n          By\\n          \\n           Harshit\u001b[33m...\u001b[0m        Harshit Verma   \n",
       "\u001b[1;36m3\u001b[0m  \\n          By\\n          \\n           Swati V\u001b[33m...\u001b[0m          Swati Verma   \n",
       "\u001b[1;36m4\u001b[0m  \\n          By\\n          \\n           Reuters\u001b[33m...\u001b[0m        Reuters Staff   \n",
       "\n",
       "  type_of_author  \n",
       "\u001b[1;36m0\u001b[0m         Person  \n",
       "\u001b[1;36m1\u001b[0m         Person  \n",
       "\u001b[1;36m2\u001b[0m         Person  \n",
       "\u001b[1;36m3\u001b[0m         Person  \n",
       "\u001b[1;36m4\u001b[0m         Person  "
      ]
     },
     "execution_count": 66,
     "metadata": {},
     "output_type": "execute_result"
    }
   ],
   "source": [
    "# loading the dataset\n",
    "df = catalog.load('article_data')\n",
    "df.head()"
   ]
  },
  {
   "cell_type": "code",
   "execution_count": 67,
   "metadata": {},
   "outputs": [
    {
     "data": {
      "text/html": [
       "<pre style=\"white-space:pre;overflow-x:auto;line-height:normal;font-family:Menlo,'DejaVu Sans Mono',consolas,'Courier New',monospace\"></pre>\n"
      ],
      "text/plain": []
     },
     "metadata": {},
     "output_type": "display_data"
    },
    {
     "data": {
      "text/html": [
       "<div>\n",
       "<style scoped>\n",
       "    .dataframe tbody tr th:only-of-type {\n",
       "        vertical-align: middle;\n",
       "    }\n",
       "\n",
       "    .dataframe tbody tr th {\n",
       "        vertical-align: top;\n",
       "    }\n",
       "\n",
       "    .dataframe thead th {\n",
       "        text-align: right;\n",
       "    }\n",
       "</style>\n",
       "<table border=\"1\" class=\"dataframe\">\n",
       "  <thead>\n",
       "    <tr style=\"text-align: right;\">\n",
       "      <th></th>\n",
       "      <th>datePublished</th>\n",
       "      <th>headline</th>\n",
       "      <th>full_text</th>\n",
       "      <th>author</th>\n",
       "      <th>type_of_author</th>\n",
       "    </tr>\n",
       "  </thead>\n",
       "  <tbody>\n",
       "    <tr>\n",
       "      <th>0</th>\n",
       "      <td>2023-10-13T19:32:01UTC</td>\n",
       "      <td>Safe-haven gold rallies over 3% as Middle East...</td>\n",
       "      <td>\\n             Oct 13 (Reuters) - Gold prices ...</td>\n",
       "      <td>Ashitha Shivaprasad</td>\n",
       "      <td>Person</td>\n",
       "    </tr>\n",
       "    <tr>\n",
       "      <th>1</th>\n",
       "      <td>2023-10-12T04:00:07UTC</td>\n",
       "      <td>Gold subdued as yields, dollar rise after US i...</td>\n",
       "      <td>\\n          By\\n          \\n           Ashitha...</td>\n",
       "      <td>Ashitha Shivaprasad</td>\n",
       "      <td>Person</td>\n",
       "    </tr>\n",
       "    <tr>\n",
       "      <th>2</th>\n",
       "      <td>2023-10-12T10:27:31UTC</td>\n",
       "      <td>PRECIOUS-Gold scales two-week peak with focus ...</td>\n",
       "      <td>\\n          By\\n          \\n           Harshit...</td>\n",
       "      <td>Harshit Verma</td>\n",
       "      <td>Person</td>\n",
       "    </tr>\n",
       "    <tr>\n",
       "      <th>3</th>\n",
       "      <td>2023-10-12T04:01:01UTC</td>\n",
       "      <td>PRECIOUS-Gold climbs as markets await US CPI d...</td>\n",
       "      <td>\\n          By\\n          \\n           Swati V...</td>\n",
       "      <td>Swati Verma</td>\n",
       "      <td>Person</td>\n",
       "    </tr>\n",
       "    <tr>\n",
       "      <th>4</th>\n",
       "      <td>2023-10-12T01:40:10UTC</td>\n",
       "      <td>PRECIOUS-Gold firm ahead of US CPI data on cau...</td>\n",
       "      <td>\\n          By\\n          \\n           Reuters...</td>\n",
       "      <td>Reuters Staff</td>\n",
       "      <td>Person</td>\n",
       "    </tr>\n",
       "  </tbody>\n",
       "</table>\n",
       "</div>"
      ],
      "text/plain": [
       "\n",
       "            datePublished                                           headline  \\\n",
       "\u001b[1;36m0\u001b[0m  \u001b[1;36m2023\u001b[0m-\u001b[1;36m10\u001b[0m-13T\u001b[1;92m19:32:01\u001b[0mUTC  Safe-haven gold rallies over \u001b[1;36m3\u001b[0m% as Middle East\u001b[33m...\u001b[0m   \n",
       "\u001b[1;36m1\u001b[0m  \u001b[1;36m2023\u001b[0m-\u001b[1;36m10\u001b[0m-12T\u001b[1;92m04:00:07\u001b[0mUTC  Gold subdued as yields, dollar rise after US i\u001b[33m...\u001b[0m   \n",
       "\u001b[1;36m2\u001b[0m  \u001b[1;36m2023\u001b[0m-\u001b[1;36m10\u001b[0m-12T\u001b[1;92m10:27:31\u001b[0mUTC  PRECIOUS-Gold scales two-week peak with focus \u001b[33m...\u001b[0m   \n",
       "\u001b[1;36m3\u001b[0m  \u001b[1;36m2023\u001b[0m-\u001b[1;36m10\u001b[0m-12T\u001b[1;92m04:01:01\u001b[0mUTC  PRECIOUS-Gold climbs as markets await US CPI d\u001b[33m...\u001b[0m   \n",
       "\u001b[1;36m4\u001b[0m  \u001b[1;36m2023\u001b[0m-\u001b[1;36m10\u001b[0m-12T\u001b[1;92m01:40:10\u001b[0mUTC  PRECIOUS-Gold firm ahead of US CPI data on cau\u001b[33m...\u001b[0m   \n",
       "\n",
       "                                           full_text               author  \\\n",
       "\u001b[1;36m0\u001b[0m  \\n             Oct \u001b[1;36m13\u001b[0m \u001b[1m(\u001b[0mReuters\u001b[1m)\u001b[0m - Gold prices \u001b[33m...\u001b[0m  Ashitha Shivaprasad   \n",
       "\u001b[1;36m1\u001b[0m  \\n          By\\n          \\n           Ashitha\u001b[33m...\u001b[0m  Ashitha Shivaprasad   \n",
       "\u001b[1;36m2\u001b[0m  \\n          By\\n          \\n           Harshit\u001b[33m...\u001b[0m        Harshit Verma   \n",
       "\u001b[1;36m3\u001b[0m  \\n          By\\n          \\n           Swati V\u001b[33m...\u001b[0m          Swati Verma   \n",
       "\u001b[1;36m4\u001b[0m  \\n          By\\n          \\n           Reuters\u001b[33m...\u001b[0m        Reuters Staff   \n",
       "\n",
       "  type_of_author  \n",
       "\u001b[1;36m0\u001b[0m         Person  \n",
       "\u001b[1;36m1\u001b[0m         Person  \n",
       "\u001b[1;36m2\u001b[0m         Person  \n",
       "\u001b[1;36m3\u001b[0m         Person  \n",
       "\u001b[1;36m4\u001b[0m         Person  "
      ]
     },
     "execution_count": 67,
     "metadata": {},
     "output_type": "execute_result"
    }
   ],
   "source": [
    "# \n",
    "df[\"datePublished\"] = df[\"datePublished\"].str.replace(\"Z\", \"UTC\")\n",
    "df.head()"
   ]
  },
  {
   "cell_type": "code",
   "execution_count": 68,
   "metadata": {},
   "outputs": [
    {
     "data": {
      "text/html": [
       "<pre style=\"white-space:pre;overflow-x:auto;line-height:normal;font-family:Menlo,'DejaVu Sans Mono',consolas,'Courier New',monospace\"></pre>\n"
      ],
      "text/plain": []
     },
     "metadata": {},
     "output_type": "display_data"
    },
    {
     "data": {
      "text/plain": [
       "\n",
       "\u001b[1;36m0\u001b[0m    \u001b[1;36m2023\u001b[0m-\u001b[1;36m10\u001b[0m-\u001b[1;36m13\u001b[0m\n",
       "\u001b[1;36m1\u001b[0m    \u001b[1;36m2023\u001b[0m-\u001b[1;36m10\u001b[0m-\u001b[1;36m12\u001b[0m\n",
       "\u001b[1;36m2\u001b[0m    \u001b[1;36m2023\u001b[0m-\u001b[1;36m10\u001b[0m-\u001b[1;36m12\u001b[0m\n",
       "\u001b[1;36m3\u001b[0m    \u001b[1;36m2023\u001b[0m-\u001b[1;36m10\u001b[0m-\u001b[1;36m12\u001b[0m\n",
       "\u001b[1;36m4\u001b[0m    \u001b[1;36m2023\u001b[0m-\u001b[1;36m10\u001b[0m-\u001b[1;36m12\u001b[0m\n",
       "Name: datePublished, dtype: object"
      ]
     },
     "execution_count": 68,
     "metadata": {},
     "output_type": "execute_result"
    }
   ],
   "source": [
    "dt = pd.to_datetime(df['datePublished']).dt.date\n",
    "dt.head()"
   ]
  },
  {
   "cell_type": "code",
   "execution_count": 69,
   "metadata": {},
   "outputs": [
    {
     "data": {
      "text/html": [
       "<pre style=\"white-space:pre;overflow-x:auto;line-height:normal;font-family:Menlo,'DejaVu Sans Mono',consolas,'Courier New',monospace\"></pre>\n"
      ],
      "text/plain": []
     },
     "metadata": {},
     "output_type": "display_data"
    },
    {
     "data": {
      "text/html": [
       "<div>\n",
       "<style scoped>\n",
       "    .dataframe tbody tr th:only-of-type {\n",
       "        vertical-align: middle;\n",
       "    }\n",
       "\n",
       "    .dataframe tbody tr th {\n",
       "        vertical-align: top;\n",
       "    }\n",
       "\n",
       "    .dataframe thead th {\n",
       "        text-align: right;\n",
       "    }\n",
       "</style>\n",
       "<table border=\"1\" class=\"dataframe\">\n",
       "  <thead>\n",
       "    <tr style=\"text-align: right;\">\n",
       "      <th></th>\n",
       "      <th>datePublished</th>\n",
       "      <th>headline</th>\n",
       "      <th>full_text</th>\n",
       "      <th>author</th>\n",
       "      <th>type_of_author</th>\n",
       "      <th>date</th>\n",
       "      <th>time</th>\n",
       "    </tr>\n",
       "  </thead>\n",
       "  <tbody>\n",
       "    <tr>\n",
       "      <th>0</th>\n",
       "      <td>2023-10-13T19:32:01UTC</td>\n",
       "      <td>Safe-haven gold rallies over 3% as Middle East...</td>\n",
       "      <td>\\n             Oct 13 (Reuters) - Gold prices ...</td>\n",
       "      <td>Ashitha Shivaprasad</td>\n",
       "      <td>Person</td>\n",
       "      <td>2023-10-13</td>\n",
       "      <td>19:32:01</td>\n",
       "    </tr>\n",
       "    <tr>\n",
       "      <th>1</th>\n",
       "      <td>2023-10-12T04:00:07UTC</td>\n",
       "      <td>Gold subdued as yields, dollar rise after US i...</td>\n",
       "      <td>\\n          By\\n          \\n           Ashitha...</td>\n",
       "      <td>Ashitha Shivaprasad</td>\n",
       "      <td>Person</td>\n",
       "      <td>2023-10-12</td>\n",
       "      <td>04:00:07</td>\n",
       "    </tr>\n",
       "    <tr>\n",
       "      <th>2</th>\n",
       "      <td>2023-10-12T10:27:31UTC</td>\n",
       "      <td>PRECIOUS-Gold scales two-week peak with focus ...</td>\n",
       "      <td>\\n          By\\n          \\n           Harshit...</td>\n",
       "      <td>Harshit Verma</td>\n",
       "      <td>Person</td>\n",
       "      <td>2023-10-12</td>\n",
       "      <td>10:27:31</td>\n",
       "    </tr>\n",
       "    <tr>\n",
       "      <th>3</th>\n",
       "      <td>2023-10-12T04:01:01UTC</td>\n",
       "      <td>PRECIOUS-Gold climbs as markets await US CPI d...</td>\n",
       "      <td>\\n          By\\n          \\n           Swati V...</td>\n",
       "      <td>Swati Verma</td>\n",
       "      <td>Person</td>\n",
       "      <td>2023-10-12</td>\n",
       "      <td>04:01:01</td>\n",
       "    </tr>\n",
       "    <tr>\n",
       "      <th>4</th>\n",
       "      <td>2023-10-12T01:40:10UTC</td>\n",
       "      <td>PRECIOUS-Gold firm ahead of US CPI data on cau...</td>\n",
       "      <td>\\n          By\\n          \\n           Reuters...</td>\n",
       "      <td>Reuters Staff</td>\n",
       "      <td>Person</td>\n",
       "      <td>2023-10-12</td>\n",
       "      <td>01:40:10</td>\n",
       "    </tr>\n",
       "  </tbody>\n",
       "</table>\n",
       "</div>"
      ],
      "text/plain": [
       "\n",
       "            datePublished                                           headline  \\\n",
       "\u001b[1;36m0\u001b[0m  \u001b[1;36m2023\u001b[0m-\u001b[1;36m10\u001b[0m-13T\u001b[1;92m19:32:01\u001b[0mUTC  Safe-haven gold rallies over \u001b[1;36m3\u001b[0m% as Middle East\u001b[33m...\u001b[0m   \n",
       "\u001b[1;36m1\u001b[0m  \u001b[1;36m2023\u001b[0m-\u001b[1;36m10\u001b[0m-12T\u001b[1;92m04:00:07\u001b[0mUTC  Gold subdued as yields, dollar rise after US i\u001b[33m...\u001b[0m   \n",
       "\u001b[1;36m2\u001b[0m  \u001b[1;36m2023\u001b[0m-\u001b[1;36m10\u001b[0m-12T\u001b[1;92m10:27:31\u001b[0mUTC  PRECIOUS-Gold scales two-week peak with focus \u001b[33m...\u001b[0m   \n",
       "\u001b[1;36m3\u001b[0m  \u001b[1;36m2023\u001b[0m-\u001b[1;36m10\u001b[0m-12T\u001b[1;92m04:01:01\u001b[0mUTC  PRECIOUS-Gold climbs as markets await US CPI d\u001b[33m...\u001b[0m   \n",
       "\u001b[1;36m4\u001b[0m  \u001b[1;36m2023\u001b[0m-\u001b[1;36m10\u001b[0m-12T\u001b[1;92m01:40:10\u001b[0mUTC  PRECIOUS-Gold firm ahead of US CPI data on cau\u001b[33m...\u001b[0m   \n",
       "\n",
       "                                           full_text               author  \\\n",
       "\u001b[1;36m0\u001b[0m  \\n             Oct \u001b[1;36m13\u001b[0m \u001b[1m(\u001b[0mReuters\u001b[1m)\u001b[0m - Gold prices \u001b[33m...\u001b[0m  Ashitha Shivaprasad   \n",
       "\u001b[1;36m1\u001b[0m  \\n          By\\n          \\n           Ashitha\u001b[33m...\u001b[0m  Ashitha Shivaprasad   \n",
       "\u001b[1;36m2\u001b[0m  \\n          By\\n          \\n           Harshit\u001b[33m...\u001b[0m        Harshit Verma   \n",
       "\u001b[1;36m3\u001b[0m  \\n          By\\n          \\n           Swati V\u001b[33m...\u001b[0m          Swati Verma   \n",
       "\u001b[1;36m4\u001b[0m  \\n          By\\n          \\n           Reuters\u001b[33m...\u001b[0m        Reuters Staff   \n",
       "\n",
       "  type_of_author        date      time  \n",
       "\u001b[1;36m0\u001b[0m         Person  \u001b[1;36m2023\u001b[0m-\u001b[1;36m10\u001b[0m-\u001b[1;36m13\u001b[0m  \u001b[1;92m19:32:01\u001b[0m  \n",
       "\u001b[1;36m1\u001b[0m         Person  \u001b[1;36m2023\u001b[0m-\u001b[1;36m10\u001b[0m-\u001b[1;36m12\u001b[0m  \u001b[1;92m04:00:07\u001b[0m  \n",
       "\u001b[1;36m2\u001b[0m         Person  \u001b[1;36m2023\u001b[0m-\u001b[1;36m10\u001b[0m-\u001b[1;36m12\u001b[0m  \u001b[1;92m10:27:31\u001b[0m  \n",
       "\u001b[1;36m3\u001b[0m         Person  \u001b[1;36m2023\u001b[0m-\u001b[1;36m10\u001b[0m-\u001b[1;36m12\u001b[0m  \u001b[1;92m04:01:01\u001b[0m  \n",
       "\u001b[1;36m4\u001b[0m         Person  \u001b[1;36m2023\u001b[0m-\u001b[1;36m10\u001b[0m-\u001b[1;36m12\u001b[0m  \u001b[1;92m01:40:10\u001b[0m  "
      ]
     },
     "execution_count": 69,
     "metadata": {},
     "output_type": "execute_result"
    }
   ],
   "source": [
    "df['date'] = pd.to_datetime(df['datePublished']).dt.date\n",
    "df['time'] = pd.to_datetime(df['datePublished']).dt.time\n",
    "df.head()"
   ]
  },
  {
   "cell_type": "code",
   "execution_count": 70,
   "metadata": {},
   "outputs": [
    {
     "data": {
      "text/html": [
       "<pre style=\"white-space:pre;overflow-x:auto;line-height:normal;font-family:Menlo,'DejaVu Sans Mono',consolas,'Courier New',monospace\"></pre>\n"
      ],
      "text/plain": []
     },
     "metadata": {},
     "output_type": "display_data"
    },
    {
     "data": {
      "text/html": [
       "<div>\n",
       "<style scoped>\n",
       "    .dataframe tbody tr th:only-of-type {\n",
       "        vertical-align: middle;\n",
       "    }\n",
       "\n",
       "    .dataframe tbody tr th {\n",
       "        vertical-align: top;\n",
       "    }\n",
       "\n",
       "    .dataframe thead th {\n",
       "        text-align: right;\n",
       "    }\n",
       "</style>\n",
       "<table border=\"1\" class=\"dataframe\">\n",
       "  <thead>\n",
       "    <tr style=\"text-align: right;\">\n",
       "      <th></th>\n",
       "      <th></th>\n",
       "      <th>datePublished</th>\n",
       "      <th>headline</th>\n",
       "      <th>full_text</th>\n",
       "      <th>author</th>\n",
       "      <th>type_of_author</th>\n",
       "    </tr>\n",
       "    <tr>\n",
       "      <th>date</th>\n",
       "      <th>time</th>\n",
       "      <th></th>\n",
       "      <th></th>\n",
       "      <th></th>\n",
       "      <th></th>\n",
       "      <th></th>\n",
       "    </tr>\n",
       "  </thead>\n",
       "  <tbody>\n",
       "    <tr>\n",
       "      <th>2023-10-13</th>\n",
       "      <th>19:32:01</th>\n",
       "      <td>2023-10-13T19:32:01UTC</td>\n",
       "      <td>Safe-haven gold rallies over 3% as Middle East...</td>\n",
       "      <td>\\n             Oct 13 (Reuters) - Gold prices ...</td>\n",
       "      <td>Ashitha Shivaprasad</td>\n",
       "      <td>Person</td>\n",
       "    </tr>\n",
       "    <tr>\n",
       "      <th rowspan=\"4\" valign=\"top\">2023-10-12</th>\n",
       "      <th>04:00:07</th>\n",
       "      <td>2023-10-12T04:00:07UTC</td>\n",
       "      <td>Gold subdued as yields, dollar rise after US i...</td>\n",
       "      <td>\\n          By\\n          \\n           Ashitha...</td>\n",
       "      <td>Ashitha Shivaprasad</td>\n",
       "      <td>Person</td>\n",
       "    </tr>\n",
       "    <tr>\n",
       "      <th>10:27:31</th>\n",
       "      <td>2023-10-12T10:27:31UTC</td>\n",
       "      <td>PRECIOUS-Gold scales two-week peak with focus ...</td>\n",
       "      <td>\\n          By\\n          \\n           Harshit...</td>\n",
       "      <td>Harshit Verma</td>\n",
       "      <td>Person</td>\n",
       "    </tr>\n",
       "    <tr>\n",
       "      <th>04:01:01</th>\n",
       "      <td>2023-10-12T04:01:01UTC</td>\n",
       "      <td>PRECIOUS-Gold climbs as markets await US CPI d...</td>\n",
       "      <td>\\n          By\\n          \\n           Swati V...</td>\n",
       "      <td>Swati Verma</td>\n",
       "      <td>Person</td>\n",
       "    </tr>\n",
       "    <tr>\n",
       "      <th>01:40:10</th>\n",
       "      <td>2023-10-12T01:40:10UTC</td>\n",
       "      <td>PRECIOUS-Gold firm ahead of US CPI data on cau...</td>\n",
       "      <td>\\n          By\\n          \\n           Reuters...</td>\n",
       "      <td>Reuters Staff</td>\n",
       "      <td>Person</td>\n",
       "    </tr>\n",
       "  </tbody>\n",
       "</table>\n",
       "</div>"
      ],
      "text/plain": [
       "\n",
       "                              datePublished  \\\n",
       "date       time                               \n",
       "\u001b[1;36m2023\u001b[0m-\u001b[1;36m10\u001b[0m-\u001b[1;36m13\u001b[0m \u001b[1;92m19:32:01\u001b[0m  \u001b[1;36m2023\u001b[0m-\u001b[1;36m10\u001b[0m-13T\u001b[1;92m19:32:01\u001b[0mUTC   \n",
       "\u001b[1;36m2023\u001b[0m-\u001b[1;36m10\u001b[0m-\u001b[1;36m12\u001b[0m \u001b[1;92m04:00:07\u001b[0m  \u001b[1;36m2023\u001b[0m-\u001b[1;36m10\u001b[0m-12T\u001b[1;92m04:00:07\u001b[0mUTC   \n",
       "           \u001b[1;92m10:27:31\u001b[0m  \u001b[1;36m2023\u001b[0m-\u001b[1;36m10\u001b[0m-12T\u001b[1;92m10:27:31\u001b[0mUTC   \n",
       "           \u001b[1;92m04:01:01\u001b[0m  \u001b[1;36m2023\u001b[0m-\u001b[1;36m10\u001b[0m-12T\u001b[1;92m04:01:01\u001b[0mUTC   \n",
       "           \u001b[1;92m01:40:10\u001b[0m  \u001b[1;36m2023\u001b[0m-\u001b[1;36m10\u001b[0m-12T\u001b[1;92m01:40:10\u001b[0mUTC   \n",
       "\n",
       "                                                              headline  \\\n",
       "date       time                                                          \n",
       "\u001b[1;36m2023\u001b[0m-\u001b[1;36m10\u001b[0m-\u001b[1;36m13\u001b[0m \u001b[1;92m19:32:01\u001b[0m  Safe-haven gold rallies over \u001b[1;36m3\u001b[0m% as Middle East\u001b[33m...\u001b[0m   \n",
       "\u001b[1;36m2023\u001b[0m-\u001b[1;36m10\u001b[0m-\u001b[1;36m12\u001b[0m \u001b[1;92m04:00:07\u001b[0m  Gold subdued as yields, dollar rise after US i\u001b[33m...\u001b[0m   \n",
       "           \u001b[1;92m10:27:31\u001b[0m  PRECIOUS-Gold scales two-week peak with focus \u001b[33m...\u001b[0m   \n",
       "           \u001b[1;92m04:01:01\u001b[0m  PRECIOUS-Gold climbs as markets await US CPI d\u001b[33m...\u001b[0m   \n",
       "           \u001b[1;92m01:40:10\u001b[0m  PRECIOUS-Gold firm ahead of US CPI data on cau\u001b[33m...\u001b[0m   \n",
       "\n",
       "                                                             full_text  \\\n",
       "date       time                                                          \n",
       "\u001b[1;36m2023\u001b[0m-\u001b[1;36m10\u001b[0m-\u001b[1;36m13\u001b[0m \u001b[1;92m19:32:01\u001b[0m  \\n             Oct \u001b[1;36m13\u001b[0m \u001b[1m(\u001b[0mReuters\u001b[1m)\u001b[0m - Gold prices \u001b[33m...\u001b[0m   \n",
       "\u001b[1;36m2023\u001b[0m-\u001b[1;36m10\u001b[0m-\u001b[1;36m12\u001b[0m \u001b[1;92m04:00:07\u001b[0m  \\n          By\\n          \\n           Ashitha\u001b[33m...\u001b[0m   \n",
       "           \u001b[1;92m10:27:31\u001b[0m  \\n          By\\n          \\n           Harshit\u001b[33m...\u001b[0m   \n",
       "           \u001b[1;92m04:01:01\u001b[0m  \\n          By\\n          \\n           Swati V\u001b[33m...\u001b[0m   \n",
       "           \u001b[1;92m01:40:10\u001b[0m  \\n          By\\n          \\n           Reuters\u001b[33m...\u001b[0m   \n",
       "\n",
       "                                  author type_of_author  \n",
       "date       time                                          \n",
       "\u001b[1;36m2023\u001b[0m-\u001b[1;36m10\u001b[0m-\u001b[1;36m13\u001b[0m \u001b[1;92m19:32:01\u001b[0m  Ashitha Shivaprasad         Person  \n",
       "\u001b[1;36m2023\u001b[0m-\u001b[1;36m10\u001b[0m-\u001b[1;36m12\u001b[0m \u001b[1;92m04:00:07\u001b[0m  Ashitha Shivaprasad         Person  \n",
       "           \u001b[1;92m10:27:31\u001b[0m        Harshit Verma         Person  \n",
       "           \u001b[1;92m04:01:01\u001b[0m          Swati Verma         Person  \n",
       "           \u001b[1;92m01:40:10\u001b[0m        Reuters Staff         Person  "
      ]
     },
     "execution_count": 70,
     "metadata": {},
     "output_type": "execute_result"
    }
   ],
   "source": [
    "df.set_index([\"date\", \"time\"], inplace=True)\n",
    "df.head()"
   ]
  },
  {
   "cell_type": "code",
   "execution_count": 71,
   "metadata": {},
   "outputs": [
    {
     "data": {
      "text/html": [
       "<pre style=\"white-space:pre;overflow-x:auto;line-height:normal;font-family:Menlo,'DejaVu Sans Mono',consolas,'Courier New',monospace\"></pre>\n"
      ],
      "text/plain": []
     },
     "metadata": {},
     "output_type": "display_data"
    },
    {
     "data": {
      "text/html": [
       "<div>\n",
       "<style scoped>\n",
       "    .dataframe tbody tr th:only-of-type {\n",
       "        vertical-align: middle;\n",
       "    }\n",
       "\n",
       "    .dataframe tbody tr th {\n",
       "        vertical-align: top;\n",
       "    }\n",
       "\n",
       "    .dataframe thead th {\n",
       "        text-align: right;\n",
       "    }\n",
       "</style>\n",
       "<table border=\"1\" class=\"dataframe\">\n",
       "  <thead>\n",
       "    <tr style=\"text-align: right;\">\n",
       "      <th></th>\n",
       "      <th></th>\n",
       "      <th>headline</th>\n",
       "      <th>full_text</th>\n",
       "      <th>author</th>\n",
       "      <th>type_of_author</th>\n",
       "    </tr>\n",
       "    <tr>\n",
       "      <th>date</th>\n",
       "      <th>time</th>\n",
       "      <th></th>\n",
       "      <th></th>\n",
       "      <th></th>\n",
       "      <th></th>\n",
       "    </tr>\n",
       "  </thead>\n",
       "  <tbody>\n",
       "    <tr>\n",
       "      <th>2023-10-13</th>\n",
       "      <th>19:32:01</th>\n",
       "      <td>Safe-haven gold rallies over 3% as Middle East...</td>\n",
       "      <td>\\n             Oct 13 (Reuters) - Gold prices ...</td>\n",
       "      <td>Ashitha Shivaprasad</td>\n",
       "      <td>Person</td>\n",
       "    </tr>\n",
       "    <tr>\n",
       "      <th rowspan=\"4\" valign=\"top\">2023-10-12</th>\n",
       "      <th>04:00:07</th>\n",
       "      <td>Gold subdued as yields, dollar rise after US i...</td>\n",
       "      <td>\\n          By\\n          \\n           Ashitha...</td>\n",
       "      <td>Ashitha Shivaprasad</td>\n",
       "      <td>Person</td>\n",
       "    </tr>\n",
       "    <tr>\n",
       "      <th>10:27:31</th>\n",
       "      <td>PRECIOUS-Gold scales two-week peak with focus ...</td>\n",
       "      <td>\\n          By\\n          \\n           Harshit...</td>\n",
       "      <td>Harshit Verma</td>\n",
       "      <td>Person</td>\n",
       "    </tr>\n",
       "    <tr>\n",
       "      <th>04:01:01</th>\n",
       "      <td>PRECIOUS-Gold climbs as markets await US CPI d...</td>\n",
       "      <td>\\n          By\\n          \\n           Swati V...</td>\n",
       "      <td>Swati Verma</td>\n",
       "      <td>Person</td>\n",
       "    </tr>\n",
       "    <tr>\n",
       "      <th>01:40:10</th>\n",
       "      <td>PRECIOUS-Gold firm ahead of US CPI data on cau...</td>\n",
       "      <td>\\n          By\\n          \\n           Reuters...</td>\n",
       "      <td>Reuters Staff</td>\n",
       "      <td>Person</td>\n",
       "    </tr>\n",
       "  </tbody>\n",
       "</table>\n",
       "</div>"
      ],
      "text/plain": [
       "\n",
       "                                                              headline  \\\n",
       "date       time                                                          \n",
       "\u001b[1;36m2023\u001b[0m-\u001b[1;36m10\u001b[0m-\u001b[1;36m13\u001b[0m \u001b[1;92m19:32:01\u001b[0m  Safe-haven gold rallies over \u001b[1;36m3\u001b[0m% as Middle East\u001b[33m...\u001b[0m   \n",
       "\u001b[1;36m2023\u001b[0m-\u001b[1;36m10\u001b[0m-\u001b[1;36m12\u001b[0m \u001b[1;92m04:00:07\u001b[0m  Gold subdued as yields, dollar rise after US i\u001b[33m...\u001b[0m   \n",
       "           \u001b[1;92m10:27:31\u001b[0m  PRECIOUS-Gold scales two-week peak with focus \u001b[33m...\u001b[0m   \n",
       "           \u001b[1;92m04:01:01\u001b[0m  PRECIOUS-Gold climbs as markets await US CPI d\u001b[33m...\u001b[0m   \n",
       "           \u001b[1;92m01:40:10\u001b[0m  PRECIOUS-Gold firm ahead of US CPI data on cau\u001b[33m...\u001b[0m   \n",
       "\n",
       "                                                             full_text  \\\n",
       "date       time                                                          \n",
       "\u001b[1;36m2023\u001b[0m-\u001b[1;36m10\u001b[0m-\u001b[1;36m13\u001b[0m \u001b[1;92m19:32:01\u001b[0m  \\n             Oct \u001b[1;36m13\u001b[0m \u001b[1m(\u001b[0mReuters\u001b[1m)\u001b[0m - Gold prices \u001b[33m...\u001b[0m   \n",
       "\u001b[1;36m2023\u001b[0m-\u001b[1;36m10\u001b[0m-\u001b[1;36m12\u001b[0m \u001b[1;92m04:00:07\u001b[0m  \\n          By\\n          \\n           Ashitha\u001b[33m...\u001b[0m   \n",
       "           \u001b[1;92m10:27:31\u001b[0m  \\n          By\\n          \\n           Harshit\u001b[33m...\u001b[0m   \n",
       "           \u001b[1;92m04:01:01\u001b[0m  \\n          By\\n          \\n           Swati V\u001b[33m...\u001b[0m   \n",
       "           \u001b[1;92m01:40:10\u001b[0m  \\n          By\\n          \\n           Reuters\u001b[33m...\u001b[0m   \n",
       "\n",
       "                                  author type_of_author  \n",
       "date       time                                          \n",
       "\u001b[1;36m2023\u001b[0m-\u001b[1;36m10\u001b[0m-\u001b[1;36m13\u001b[0m \u001b[1;92m19:32:01\u001b[0m  Ashitha Shivaprasad         Person  \n",
       "\u001b[1;36m2023\u001b[0m-\u001b[1;36m10\u001b[0m-\u001b[1;36m12\u001b[0m \u001b[1;92m04:00:07\u001b[0m  Ashitha Shivaprasad         Person  \n",
       "           \u001b[1;92m10:27:31\u001b[0m        Harshit Verma         Person  \n",
       "           \u001b[1;92m04:01:01\u001b[0m          Swati Verma         Person  \n",
       "           \u001b[1;92m01:40:10\u001b[0m        Reuters Staff         Person  "
      ]
     },
     "execution_count": 71,
     "metadata": {},
     "output_type": "execute_result"
    }
   ],
   "source": [
    "df = df[['headline', 'full_text', 'author', 'type_of_author']]\n",
    "df.head()"
   ]
  },
  {
   "cell_type": "code",
   "execution_count": 72,
   "metadata": {},
   "outputs": [
    {
     "data": {
      "text/html": [
       "<pre style=\"white-space:pre;overflow-x:auto;line-height:normal;font-family:Menlo,'DejaVu Sans Mono',consolas,'Courier New',monospace\"></pre>\n"
      ],
      "text/plain": []
     },
     "metadata": {},
     "output_type": "display_data"
    },
    {
     "data": {
      "text/plain": [
       "\n",
       "date        time    \n",
       "\u001b[1;36m2023\u001b[0m-\u001b[1;36m10\u001b[0m-\u001b[1;36m13\u001b[0m  \u001b[1;92m19:32:01\u001b[0m    Oct \u001b[1;36m13\u001b[0m \u001b[1m(\u001b[0mReuters\u001b[1m)\u001b[0m - Gold prices jumped more tha\u001b[33m...\u001b[0m\n",
       "\u001b[1;36m2023\u001b[0m-\u001b[1;36m10\u001b[0m-\u001b[1;36m12\u001b[0m  \u001b[1;92m04:00:07\u001b[0m    By Ashitha Shivaprasad \u001b[1;36m2\u001b[0m Min Read \u001b[1m(\u001b[0mReuters\u001b[1m)\u001b[0m - \u001b[33m...\u001b[0m\n",
       "            \u001b[1;92m10:27:31\u001b[0m    By Harshit Verma \u001b[1;36m3\u001b[0m Min Read Gold hits highest \u001b[33m...\u001b[0m\n",
       "            \u001b[1;92m04:01:01\u001b[0m    By Swati Verma \u001b[1;36m2\u001b[0m Min Read Gold hits highest si\u001b[33m...\u001b[0m\n",
       "            \u001b[1;92m01:40:10\u001b[0m    By Reuters Staff \u001b[1;36m2\u001b[0m Min Read Oct \u001b[1;36m12\u001b[0m \u001b[1m(\u001b[0mReuters\u001b[1m)\u001b[0m -\u001b[33m...\u001b[0m\n",
       "Name: full_text, dtype: object"
      ]
     },
     "execution_count": 72,
     "metadata": {},
     "output_type": "execute_result"
    }
   ],
   "source": [
    "df.loc[:, 'full_text'] = df['full_text'].str.replace(\"\\n\", \"\")\n",
    "df['full_text'] = df['full_text'].str.split().str.join(\" \")\n",
    "df['full_text'].head()"
   ]
  },
  {
   "cell_type": "code",
   "execution_count": 73,
   "metadata": {},
   "outputs": [
    {
     "data": {
      "text/html": [
       "<pre style=\"white-space:pre;overflow-x:auto;line-height:normal;font-family:Menlo,'DejaVu Sans Mono',consolas,'Courier New',monospace\"></pre>\n"
      ],
      "text/plain": []
     },
     "metadata": {},
     "output_type": "display_data"
    },
    {
     "data": {
      "text/html": [
       "<div>\n",
       "<style scoped>\n",
       "    .dataframe tbody tr th:only-of-type {\n",
       "        vertical-align: middle;\n",
       "    }\n",
       "\n",
       "    .dataframe tbody tr th {\n",
       "        vertical-align: top;\n",
       "    }\n",
       "\n",
       "    .dataframe thead th {\n",
       "        text-align: right;\n",
       "    }\n",
       "</style>\n",
       "<table border=\"1\" class=\"dataframe\">\n",
       "  <thead>\n",
       "    <tr style=\"text-align: right;\">\n",
       "      <th></th>\n",
       "      <th></th>\n",
       "      <th>headline</th>\n",
       "      <th>full_text</th>\n",
       "      <th>author</th>\n",
       "      <th>type_of_author</th>\n",
       "    </tr>\n",
       "    <tr>\n",
       "      <th>date</th>\n",
       "      <th>time</th>\n",
       "      <th></th>\n",
       "      <th></th>\n",
       "      <th></th>\n",
       "      <th></th>\n",
       "    </tr>\n",
       "  </thead>\n",
       "  <tbody>\n",
       "    <tr>\n",
       "      <th>2023-10-13</th>\n",
       "      <th>19:32:01</th>\n",
       "      <td>Safe-haven gold rallies over 3% as Middle East...</td>\n",
       "      <td>Oct 13 (Reuters) - Gold prices jumped more tha...</td>\n",
       "      <td>Ashitha Shivaprasad</td>\n",
       "      <td>Person</td>\n",
       "    </tr>\n",
       "    <tr>\n",
       "      <th rowspan=\"4\" valign=\"top\">2023-10-12</th>\n",
       "      <th>04:00:07</th>\n",
       "      <td>Gold subdued as yields, dollar rise after US i...</td>\n",
       "      <td>By Ashitha Shivaprasad 2 Min Read (Reuters) - ...</td>\n",
       "      <td>Ashitha Shivaprasad</td>\n",
       "      <td>Person</td>\n",
       "    </tr>\n",
       "    <tr>\n",
       "      <th>10:27:31</th>\n",
       "      <td>PRECIOUS-Gold scales two-week peak with focus ...</td>\n",
       "      <td>By Harshit Verma 3 Min Read Gold hits highest ...</td>\n",
       "      <td>Harshit Verma</td>\n",
       "      <td>Person</td>\n",
       "    </tr>\n",
       "    <tr>\n",
       "      <th>04:01:01</th>\n",
       "      <td>PRECIOUS-Gold climbs as markets await US CPI d...</td>\n",
       "      <td>By Swati Verma 2 Min Read Gold hits highest si...</td>\n",
       "      <td>Swati Verma</td>\n",
       "      <td>Person</td>\n",
       "    </tr>\n",
       "    <tr>\n",
       "      <th>01:40:10</th>\n",
       "      <td>PRECIOUS-Gold firm ahead of US CPI data on cau...</td>\n",
       "      <td>By Reuters Staff 2 Min Read Oct 12 (Reuters) -...</td>\n",
       "      <td>Reuters Staff</td>\n",
       "      <td>Person</td>\n",
       "    </tr>\n",
       "  </tbody>\n",
       "</table>\n",
       "</div>"
      ],
      "text/plain": [
       "\n",
       "                                                              headline  \\\n",
       "date       time                                                          \n",
       "\u001b[1;36m2023\u001b[0m-\u001b[1;36m10\u001b[0m-\u001b[1;36m13\u001b[0m \u001b[1;92m19:32:01\u001b[0m  Safe-haven gold rallies over \u001b[1;36m3\u001b[0m% as Middle East\u001b[33m...\u001b[0m   \n",
       "\u001b[1;36m2023\u001b[0m-\u001b[1;36m10\u001b[0m-\u001b[1;36m12\u001b[0m \u001b[1;92m04:00:07\u001b[0m  Gold subdued as yields, dollar rise after US i\u001b[33m...\u001b[0m   \n",
       "           \u001b[1;92m10:27:31\u001b[0m  PRECIOUS-Gold scales two-week peak with focus \u001b[33m...\u001b[0m   \n",
       "           \u001b[1;92m04:01:01\u001b[0m  PRECIOUS-Gold climbs as markets await US CPI d\u001b[33m...\u001b[0m   \n",
       "           \u001b[1;92m01:40:10\u001b[0m  PRECIOUS-Gold firm ahead of US CPI data on cau\u001b[33m...\u001b[0m   \n",
       "\n",
       "                                                             full_text  \\\n",
       "date       time                                                          \n",
       "\u001b[1;36m2023\u001b[0m-\u001b[1;36m10\u001b[0m-\u001b[1;36m13\u001b[0m \u001b[1;92m19:32:01\u001b[0m  Oct \u001b[1;36m13\u001b[0m \u001b[1m(\u001b[0mReuters\u001b[1m)\u001b[0m - Gold prices jumped more tha\u001b[33m...\u001b[0m   \n",
       "\u001b[1;36m2023\u001b[0m-\u001b[1;36m10\u001b[0m-\u001b[1;36m12\u001b[0m \u001b[1;92m04:00:07\u001b[0m  By Ashitha Shivaprasad \u001b[1;36m2\u001b[0m Min Read \u001b[1m(\u001b[0mReuters\u001b[1m)\u001b[0m - \u001b[33m...\u001b[0m   \n",
       "           \u001b[1;92m10:27:31\u001b[0m  By Harshit Verma \u001b[1;36m3\u001b[0m Min Read Gold hits highest \u001b[33m...\u001b[0m   \n",
       "           \u001b[1;92m04:01:01\u001b[0m  By Swati Verma \u001b[1;36m2\u001b[0m Min Read Gold hits highest si\u001b[33m...\u001b[0m   \n",
       "           \u001b[1;92m01:40:10\u001b[0m  By Reuters Staff \u001b[1;36m2\u001b[0m Min Read Oct \u001b[1;36m12\u001b[0m \u001b[1m(\u001b[0mReuters\u001b[1m)\u001b[0m -\u001b[33m...\u001b[0m   \n",
       "\n",
       "                                  author type_of_author  \n",
       "date       time                                          \n",
       "\u001b[1;36m2023\u001b[0m-\u001b[1;36m10\u001b[0m-\u001b[1;36m13\u001b[0m \u001b[1;92m19:32:01\u001b[0m  Ashitha Shivaprasad         Person  \n",
       "\u001b[1;36m2023\u001b[0m-\u001b[1;36m10\u001b[0m-\u001b[1;36m12\u001b[0m \u001b[1;92m04:00:07\u001b[0m  Ashitha Shivaprasad         Person  \n",
       "           \u001b[1;92m10:27:31\u001b[0m        Harshit Verma         Person  \n",
       "           \u001b[1;92m04:01:01\u001b[0m          Swati Verma         Person  \n",
       "           \u001b[1;92m01:40:10\u001b[0m        Reuters Staff         Person  "
      ]
     },
     "execution_count": 73,
     "metadata": {},
     "output_type": "execute_result"
    }
   ],
   "source": [
    "df.head()"
   ]
  },
  {
   "cell_type": "code",
   "execution_count": 75,
   "metadata": {},
   "outputs": [
    {
     "data": {
      "text/html": [
       "<pre style=\"white-space:pre;overflow-x:auto;line-height:normal;font-family:Menlo,'DejaVu Sans Mono',consolas,'Courier New',monospace\"></pre>\n"
      ],
      "text/plain": []
     },
     "metadata": {},
     "output_type": "display_data"
    },
    {
     "data": {
      "text/plain": [
       "\u001b[1;36m534\u001b[0m"
      ]
     },
     "execution_count": 75,
     "metadata": {},
     "output_type": "execute_result"
    }
   ],
   "source": [
    "len(df[\"headline\"].value_counts())"
   ]
  },
  {
   "cell_type": "markdown",
   "metadata": {},
   "source": [
    "###### No duplicate headlines "
   ]
  },
  {
   "cell_type": "code",
   "execution_count": 76,
   "metadata": {},
   "outputs": [
    {
     "data": {
      "text/html": [
       "<pre style=\"white-space:pre;overflow-x:auto;line-height:normal;font-family:Menlo,'DejaVu Sans Mono',consolas,'Courier New',monospace\"></pre>\n"
      ],
      "text/plain": []
     },
     "metadata": {},
     "output_type": "display_data"
    },
    {
     "data": {
      "text/plain": [
       "\n",
       "type_of_author\n",
       "Person    \u001b[1;36m534\u001b[0m\n",
       "Name: count, dtype: int64"
      ]
     },
     "execution_count": 76,
     "metadata": {},
     "output_type": "execute_result"
    }
   ],
   "source": [
    "df[\"type_of_author\"].value_counts()"
   ]
  },
  {
   "cell_type": "markdown",
   "metadata": {},
   "source": [
    "###### All articles written by people "
   ]
  },
  {
   "cell_type": "code",
   "execution_count": 78,
   "metadata": {},
   "outputs": [
    {
     "data": {
      "text/html": [
       "<pre style=\"white-space:pre;overflow-x:auto;line-height:normal;font-family:Menlo,'DejaVu Sans Mono',consolas,'Courier New',monospace\"></pre>\n"
      ],
      "text/plain": []
     },
     "metadata": {},
     "output_type": "display_data"
    },
    {
     "data": {
      "text/plain": [
       "\n",
       "author\n",
       "Reuters Staff         \u001b[1;36m91\u001b[0m\n",
       "Deep Kaushik Vakil    \u001b[1;36m74\u001b[0m\n",
       "Swati Verma           \u001b[1;36m47\u001b[0m\n",
       "Seher Dareen          \u001b[1;36m39\u001b[0m\n",
       "Arundhati Sarkar      \u001b[1;36m36\u001b[0m\n",
       "Name: count, dtype: int64"
      ]
     },
     "execution_count": 78,
     "metadata": {},
     "output_type": "execute_result"
    }
   ],
   "source": [
    "df[\"author\"].value_counts().head()"
   ]
  },
  {
   "cell_type": "markdown",
   "metadata": {},
   "source": [
    "###### Top 5 Authors\n",
    "###### Reuters Staff wrote most of these articles"
   ]
  }
 ],
 "metadata": {
  "kernelspec": {
   "display_name": "Kedro (gold_analysis)",
   "language": "python",
   "name": "kedro_gold_analysis"
  },
  "language_info": {
   "codemirror_mode": {
    "name": "ipython",
    "version": 3
   },
   "file_extension": ".py",
   "mimetype": "text/x-python",
   "name": "python",
   "nbconvert_exporter": "python",
   "pygments_lexer": "ipython3",
   "version": "3.11.4"
  }
 },
 "nbformat": 4,
 "nbformat_minor": 2
}
